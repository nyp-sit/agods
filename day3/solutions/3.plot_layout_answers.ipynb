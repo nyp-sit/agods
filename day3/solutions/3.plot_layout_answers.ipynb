{
 "cells": [
  {
   "cell_type": "markdown",
   "id": "558f8b87-6783-4e59-a851-3827fc808b4c",
   "metadata": {
    "id": "a14028cd-85ae-493d-af64-f35112d0c53d"
   },
   "source": [
    "<img src=\"https://nyp-aicourse.s3.ap-southeast-1.amazonaws.com/agods/nyp_ago_logo.png\" width='400'/>\n",
    "\n",
    "Welcome to the lab! Before we get started here are a few pointers on using this notebooks.\n",
    "\n",
    "1. The notebook is composed of cells; cells can contain code which you can run, or they can hold text and/or images which are there for you to read.\n",
    "\n",
    "2. You can execute code cells by clicking the ```Run``` icon in the menu, or via the following keyboard shortcuts ```Shift-Enter``` (run and advance) or ```Ctrl-Enter``` (run and stay in the current cell).\n",
    "\n",
    "3. To interrupt cell execution, click the ```Stop``` button on the toolbar or navigate to the ```Kernel``` menu, and select ```Interrupt ```.\n",
    "    "
   ]
  },
  {
   "cell_type": "markdown",
   "id": "0070f2cf-d811-4b10-96df-3ed7e7be3bf6",
   "metadata": {},
   "source": [
    "# Layouts\n",
    "\n",
    "There are multiple ways to define a visualization layout in Matplotlib. By layout, we mean the arrangement of multiple Axes within a Figure. We will start with *subplots* and how to use the tight layout to create visually appealing plots and then cover *GridSpec*, which offers a more flexible way to create multi-plots."
   ]
  },
  {
   "cell_type": "markdown",
   "id": "cd40c967-4540-4a05-a3f4-408faf8ca4c2",
   "metadata": {},
   "source": [
    "## Subplots\n",
    "\n",
    "It is often useful to display several plots next to one another. Matplotlib offers the concept of *subplots*, which are multiple Axes within a Figure. These plots can be grids of plots, nested plots, and so on.\n",
    "\n",
    "Explore the following options to create subplots:\n",
    "\n",
    "- The `plt.subplots(, ncols)` function creates a Figure and a set of subplots. `nrows, ncols` define the number of rows and columns of the subplots, respectively.\n",
    "- The `plt.subplot(nrows, ncols, index)` function or, equivalently, `plt.subplot(pos)` adds a subplot to the current Figure. The index starts at 1. The `plt.subplot(2, 2, 1)` function is equivalent to `plt.subplot(221)`.\n",
    "\n",
    "Subplots are an easy way to create a Figure with multiple plots of the same size placed in a grid. They are not really suited for more sophisticated layouts."
   ]
  },
  {
   "cell_type": "code",
   "execution_count": null,
   "id": "86bd30fb-8609-4eff-b94f-43ad8ab7412f",
   "metadata": {},
   "outputs": [],
   "source": [
    "import numpy as np\n",
    "import matplotlib.pyplot as plt \n",
    "\n",
    "# create four different series\n",
    "series = [np.cumsum(np.random.normal(0, 1, size=100)) for i in range(4)]\n",
    "fig, axes = plt.subplots(2, 2)\n",
    "axes[0][0].plot(series[0])  # row 0 column 0\n",
    "axes[0][1].plot(series[1])  #  row 0 column 1\n",
    "axes[1][0].plot(series[1])  #  row 1 column 0\n",
    "axes[1][1].plot(series[1])  #  row 1 column 1\n"
   ]
  },
  {
   "cell_type": "markdown",
   "id": "9e00543e-2368-428a-b342-9aa930a5c653",
   "metadata": {},
   "source": [
    "You may have noticed that x-axis labels and y-axis labels are repeated over the 4 different subplots. In the case where the scales for the different subplots are the same, it may be better to display the axis labels once. You can do this using `sharex` and `sharey` parameters. "
   ]
  },
  {
   "cell_type": "code",
   "execution_count": null,
   "id": "8f50ce1a-8326-4915-9021-4d791273c3a4",
   "metadata": {},
   "outputs": [],
   "source": [
    "fig, axes = plt.subplots(2, 2, sharex=True, sharey=True)\n",
    "axes[0][0].plot(series[0])  # row 0 column 0\n",
    "axes[0][1].plot(series[1])  #  row 0 column 1\n",
    "axes[1][0].plot(series[1])  #  row 1 column 0\n",
    "axes[1][1].plot(series[1])  #  row 1 column 1"
   ]
  },
  {
   "cell_type": "markdown",
   "id": "f43829ae-7953-4477-aedd-c4a7ed35b40e",
   "metadata": {},
   "source": [
    "## Tight Layout\n",
    "\n",
    "The `plt.tight_layout()` adjusts subplot parameters (primarily padding between the Figure edge and the edges of subplots, and padding between the edges of adjacent subplots) so that the subplots fit well in the Figure."
   ]
  },
  {
   "cell_type": "markdown",
   "id": "27a31cec-81be-4879-99aa-f47e650cb143",
   "metadata": {},
   "source": [
    "In the code below, we are trying to draw 4 subplots with titles. You will see that that resultant plots are overlapping each other because of the extra space occupied by the title."
   ]
  },
  {
   "cell_type": "code",
   "execution_count": null,
   "id": "14bc29ca-4d27-473e-84d5-15b600b16347",
   "metadata": {},
   "outputs": [],
   "source": [
    "fig, axes = plt.subplots(2, 2)\n",
    "axes = axes.ravel()\n",
    "for i, ax in enumerate(axes):\n",
    "    ax.plot(series[i])\n",
    "    ax.set_title('Subplot ' + str(i))"
   ]
  },
  {
   "cell_type": "markdown",
   "id": "be141be2-9846-41db-8130-280e0f245787",
   "metadata": {},
   "source": [
    "Using `plt.tight_layout()` will automatically added extra padding required to avoid overlapping of the subplots:"
   ]
  },
  {
   "cell_type": "code",
   "execution_count": null,
   "id": "9543dedc-85f2-4d31-bd5a-9f071d17779f",
   "metadata": {},
   "outputs": [],
   "source": [
    "fig, axes = plt.subplots(2, 2)\n",
    "axes = axes.ravel()\n",
    "for i, ax in enumerate(axes):\n",
    "    ax.plot(series[i])\n",
    "    ax.set_title('Subplot ' + str(i))\n",
    "plt.tight_layout()"
   ]
  },
  {
   "cell_type": "markdown",
   "id": "f94b6e28-7375-41fe-8ec5-58cc712dafb0",
   "metadata": {},
   "source": [
    "## GridSpec\n",
    "\n",
    "The `matplotlib.figure.Figure.add_gridspec(nrows, ncols)` function specifies the geometry of the grid in which a subplot will be placed. For example, you can specify a grid with three rows and three columns. As a next step, you have to define which elements of the gridspec are used by a subplot; elements of a gridspec are accessed in the same way as NumPy arrays. You could, for example, only use a single element of a gridspec for a subplot and therefore end up with 9 subplots in total. Another possibility, as shown in the following example, is to create a subplot that spans rows and columns."
   ]
  },
  {
   "cell_type": "code",
   "execution_count": null,
   "id": "a64a434b-2b42-466c-ae60-89688f590ea7",
   "metadata": {},
   "outputs": [],
   "source": [
    "fig = plt.figure(constrained_layout=True)\n",
    "gs = fig.add_gridspec(3, 3)\n",
    "ax1 = fig.add_subplot(gs[0, :])\n",
    "ax1.set_title('gs[0, :]')\n",
    "ax2 = fig.add_subplot(gs[1, :-1])\n",
    "ax2.set_title('gs[1, :-1]')\n",
    "ax3 = fig.add_subplot(gs[1:, -1])\n",
    "ax3.set_title('gs[1:, -1]')\n",
    "ax4 = fig.add_subplot(gs[-1, 0])\n",
    "ax4.set_title('gs[-1, 0]')\n",
    "ax5 = fig.add_subplot(gs[-1, -2])\n",
    "ax5.set_title('gs[-1, -2]')\n",
    "plt.tight_layout()"
   ]
  },
  {
   "cell_type": "markdown",
   "id": "2e338578-76dd-4019-8e2a-eeb955aa1b7f",
   "metadata": {},
   "source": [
    "## Exercise \n",
    "\n",
    "In this exercise, we will make use of GridSpec to visualize a scatter plot with marginal histograms. This is similar to previous exercise where we use scatter plot to visualize the correlation between longetivy and body mass of various animal classes. However, in this exercise, we will only visualize the animal class 'Aves' with body mass < 20,000 gram. \n",
    "\n",
    "After executing the preceding steps, the expected output should be as follows:\n",
    "\n",
    "\n",
    "<img src=\"images/gridspec_exercise.png\" width=\"70%\"/>"
   ]
  },
  {
   "cell_type": "code",
   "execution_count": null,
   "id": "7c0d2f1e-bab1-49b6-8315-14061a0bcd5a",
   "metadata": {},
   "outputs": [],
   "source": [
    "#TODO: Complete the code below\n",
    "\n",
    "# Step 1: Import the necessary packages\n",
    "\n",
    "\n",
    "# Step 2: Import dataset. Check for missing values, drop rows with missing values\n",
    "\n",
    "\n",
    "# Step 3: Create a Figure with constrained layout. \n",
    "\n",
    "\n",
    "# Step 4a: Create a Gridspec of size 4x4. \n",
    "\n",
    "\n",
    "\n",
    "# Step 4b: Specify subplots for scatter, hist for x and hist for y\n",
    "\n",
    "\n",
    "\n",
    "# Step 4c: Create the scatter plot, the marginal histograms using the respecitve subplots\n",
    "\n",
    "\n",
    "\n",
    "# Step 4d: Add labels and title\n"
   ]
  },
  {
   "cell_type": "markdown",
   "id": "26c6ddf3-2a13-41dc-aa40-79e574655181",
   "metadata": {},
   "source": [
    "<details>\n",
    "    <summary>Click here for solution</summary>\n",
    "\n",
    "```python\n",
    "\n",
    "#TODO: Complete the code below\n",
    "\n",
    "# Step 1: Import the necessary packages\n",
    "\n",
    "import matplotlib.pyplot as plt\n",
    "import numpy as np\n",
    "import pandas as pd\n",
    "\n",
    "# Step 2: Import dataset. create a subset that contains only Class, Longevity and Body Mass data from 'Aves' class. Drop any null values.\n",
    "\n",
    "df = pd.read_csv('datasets/anage_data.csv')\n",
    "\n",
    "BODY_MASS = 'Body mass (g)'\n",
    "LONGEVITY = 'Maximum longevity (yrs)'\n",
    "\n",
    "df_filtered = df[['Class', LONGEVITY,  BODY_MASS]]\n",
    "df_aves = df_filtered[df_filtered['Class'] == 'Aves'].dropna()\n",
    "df_aves = df_aves[df[BODY_MASS] < 20000]\n",
    "\n",
    "# Step 3: Create a Figure with constrained layout. \n",
    "\n",
    "fig = plt.figure(figsize=(8, 8), dpi=150, constrained_layout=True)\n",
    "\n",
    "# Step 4a: Create a Gridspec of size 4x4. \n",
    "\n",
    "gs = fig.add_gridspec(4, 4)\n",
    "\n",
    "\n",
    "# Step 4b: Specify subplots for scatter, hist for x and hist for y\n",
    "\n",
    "histx_ax = fig.add_subplot(gs[0, :-1])  # histogram for x\n",
    "histy_ax = fig.add_subplot(gs[1:, -1]) # histogram for y\n",
    "scatter_ax = fig.add_subplot(gs[1:, :-1])  # scatter plot \n",
    "\n",
    "# Step 4c: Create the scatter plot, the marginal histograms using the respecitve subplots\n",
    "\n",
    "histx_ax.hist(df_aves[BODY_MASS], bins=20, density=True)\n",
    "histy_ax.hist(df_aves[LONGEVITY], bins=20, density=True, orientation='horizontal')\n",
    "scatter_ax.scatter(df_aves[BODY_MASS], df_aves[LONGEVITY])\n",
    "\n",
    "# Step 4d: Add labels and title\n",
    "\n",
    "plt.xlabel('Body mass in grams')\n",
    "plt.ylabel('Maximum longevity in years')\n",
    "fig.suptitle('Scatter plot with marginal histograms')\n",
    "\n",
    "\n",
    "```\n",
    "    \n",
    "</details>    "
   ]
  },
  {
   "cell_type": "code",
   "execution_count": null,
   "id": "f6fcc5e5-b924-4c23-8c94-ef168164843c",
   "metadata": {},
   "outputs": [],
   "source": []
  }
 ],
 "metadata": {
  "kernelspec": {
   "display_name": "Python 3 (ipykernel)",
   "language": "python",
   "name": "python3"
  },
  "language_info": {
   "codemirror_mode": {
    "name": "ipython",
    "version": 3
   },
   "file_extension": ".py",
   "mimetype": "text/x-python",
   "name": "python",
   "nbconvert_exporter": "python",
   "pygments_lexer": "ipython3",
   "version": "3.8.12"
  }
 },
 "nbformat": 4,
 "nbformat_minor": 5
}
