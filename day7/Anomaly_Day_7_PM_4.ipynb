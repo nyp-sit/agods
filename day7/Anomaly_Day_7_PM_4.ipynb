{
  "cells": [
    {
      "cell_type": "markdown",
      "metadata": {
        "id": "view-in-github"
      },
      "source": [
        "<a href=\"https://colab.research.google.com/github/nyp-sit/aiup/blob/main/day1-pm/video-anomaly-v2.ipynb\" target=\"_parent\"><img src=\"https://colab.research.google.com/assets/colab-badge.svg\" alt=\"Open In Colab\"/></a>"
      ]
    },
    {
      "cell_type": "markdown",
      "metadata": {
        "id": "SyvergB8aKnF"
      },
      "source": [
        "<img src=\"https://www.nyp.edu.sg/content/dam/nyp/logo.png\" width=\"238\" height=\"70\"/>\n",
        "\n"
      ]
    },
    {
      "cell_type": "markdown",
      "metadata": {
        "id": "2-H__blkHgR3"
      },
      "source": [
        "## Isolation Forest"
      ]
    },
    {
      "cell_type": "markdown",
      "metadata": {
        "id": "_Zb7aZwNHgR4"
      },
      "source": [
        "We first generate some sample data in two clusters (each one containing n_samples) by randomly sampling the standard normal distribution as returned by numpy.random.randn. One of them is spherical and the other one is slightly deformed.\n",
        "\n",
        "For consistency with the IsolationForest notation, the inliers (i.e. the gaussian clusters) are assigned a ground truth label 1 whereas the outliers (created with numpy.random.uniform) are assigned the label -1."
      ]
    },
    {
      "cell_type": "code",
      "execution_count": 1,
      "metadata": {
        "id": "O0_XDpC4HgR4",
        "outputId": "a4630e96-5046-4d73-869d-640226cbf068",
        "colab": {
          "base_uri": "https://localhost:8080/"
        }
      },
      "outputs": [
        {
          "output_type": "stream",
          "name": "stdout",
          "text": [
            "Looking in indexes: https://pypi.org/simple, https://us-python.pkg.dev/colab-wheels/public/simple/\n",
            "Collecting scikit-learn==1.1.0\n",
            "  Downloading scikit_learn-1.1.0-cp38-cp38-manylinux_2_17_x86_64.manylinux2014_x86_64.whl (31.0 MB)\n",
            "\u001b[2K     \u001b[90m━━━━━━━━━━━━━━━━━━━━━━━━━━━━━━━━━━━━━━━━\u001b[0m \u001b[32m31.0/31.0 MB\u001b[0m \u001b[31m13.5 MB/s\u001b[0m eta \u001b[36m0:00:00\u001b[0m\n",
            "\u001b[?25hRequirement already satisfied: numpy>=1.17.3 in /usr/local/lib/python3.8/dist-packages (from scikit-learn==1.1.0) (1.21.6)\n",
            "Requirement already satisfied: scipy>=1.3.2 in /usr/local/lib/python3.8/dist-packages (from scikit-learn==1.1.0) (1.7.3)\n",
            "Requirement already satisfied: joblib>=1.0.0 in /usr/local/lib/python3.8/dist-packages (from scikit-learn==1.1.0) (1.2.0)\n",
            "Requirement already satisfied: threadpoolctl>=2.0.0 in /usr/local/lib/python3.8/dist-packages (from scikit-learn==1.1.0) (3.1.0)\n",
            "Installing collected packages: scikit-learn\n",
            "  Attempting uninstall: scikit-learn\n",
            "    Found existing installation: scikit-learn 1.0.2\n",
            "    Uninstalling scikit-learn-1.0.2:\n",
            "      Successfully uninstalled scikit-learn-1.0.2\n",
            "Successfully installed scikit-learn-1.1.0\n"
          ]
        }
      ],
      "source": [
        "#import sys\n",
        "#!{sys.executable} -m pip install scikit-learn==1.1.0\n",
        "!pip install scikit-learn==1.1.0"
      ]
    },
    {
      "cell_type": "code",
      "execution_count": 2,
      "metadata": {
        "id": "RoMXgtGZHgR7"
      },
      "outputs": [],
      "source": [
        "import numpy as np\n",
        "from sklearn.model_selection import train_test_split\n",
        "\n",
        "n_samples, n_outliers = 120, 40\n",
        "rng = np.random.RandomState(0)\n",
        "covariance = np.array([[0.5, -0.1], [0.7, 0.4]])\n",
        "cluster_1 = 0.4 * rng.randn(n_samples, 2) @ covariance + np.array([2, 2])  # general\n",
        "cluster_2 = 0.3 * rng.randn(n_samples, 2) + np.array([-2, -2])  # spherical\n",
        "outliers = rng.uniform(low=-4, high=4, size=(n_outliers, 2))\n",
        "\n",
        "X = np.concatenate([cluster_1, cluster_2, outliers])\n",
        "y = np.concatenate(\n",
        "    [np.ones((2 * n_samples), dtype=int), -np.ones((n_outliers), dtype=int)]\n",
        ")\n",
        "\n",
        "X_train, X_test, y_train, y_test = train_test_split(X, y, stratify=y, random_state=42)"
      ]
    },
    {
      "cell_type": "markdown",
      "metadata": {
        "id": "z2jLUeCDHgR8"
      },
      "source": [
        "We can visualize the resulting clusters:"
      ]
    },
    {
      "cell_type": "code",
      "execution_count": 3,
      "metadata": {
        "id": "kMFpJaSOHgR8",
        "outputId": "4e8504b2-ed59-4070-a645-447de32e241a",
        "colab": {
          "base_uri": "https://localhost:8080/",
          "height": 296
        }
      },
      "outputs": [
        {
          "output_type": "display_data",
          "data": {
            "text/plain": [
              "<Figure size 432x288 with 1 Axes>"
            ],
            "image/png": "[encoded data removed]"
          },
          "metadata": {
            "needs_background": "light"
          }
        }
      ],
      "source": [
        "import matplotlib.pyplot as plt\n",
        "\n",
        "scatter = plt.scatter(X[:, 0], X[:, 1], c=y, s=20, edgecolor=\"k\")\n",
        "handles, labels = scatter.legend_elements()\n",
        "plt.axis(\"square\")\n",
        "plt.legend(handles=handles, labels=[\"outliers\", \"inliers\"], title=\"true class\")\n",
        "plt.title(\"Gaussian inliers with \\nuniformly distributed outliers\")\n",
        "plt.show()"
      ]
    },
    {
      "cell_type": "markdown",
      "metadata": {
        "id": "reksA0ULHgR9"
      },
      "source": [
        "Next, we train the Isolation Forest with the default 100 estimators, default contamination and sub-sampling rate of 100."
      ]
    },
    {
      "cell_type": "code",
      "execution_count": 4,
      "metadata": {
        "id": "2YXAp3_RHgR9",
        "outputId": "1d24fc02-18bd-4328-fa60-6a75f04170fd",
        "colab": {
          "base_uri": "https://localhost:8080/",
          "height": 92
        }
      },
      "outputs": [
        {
          "output_type": "execute_result",
          "data": {
            "text/plain": [
              "IsolationForest(contamination=0.2, max_samples=100, n_estimators=1000,\n",
              "                random_state=0)"
            ],
            "text/html": [
              "<style>#sk-container-id-1 {color: black;background-color: white;}#sk-container-id-1 pre{padding: 0;}#sk-container-id-1 div.sk-toggleable {background-color: white;}#sk-container-id-1 label.sk-toggleable__label {cursor: pointer;display: block;width: 100%;margin-bottom: 0;padding: 0.3em;box-sizing: border-box;text-align: center;}#sk-container-id-1 label.sk-toggleable__label-arrow:before {content: \"▸\";float: left;margin-right: 0.25em;color: #696969;}#sk-container-id-1 label.sk-toggleable__label-arrow:hover:before {color: black;}#sk-container-id-1 div.sk-estimator:hover label.sk-toggleable__label-arrow:before {color: black;}#sk-container-id-1 div.sk-toggleable__content {max-height: 0;max-width: 0;overflow: hidden;text-align: left;background-color: #f0f8ff;}#sk-container-id-1 div.sk-toggleable__content pre {margin: 0.2em;color: black;border-radius: 0.25em;background-color: #f0f8ff;}#sk-container-id-1 input.sk-toggleable__control:checked~div.sk-toggleable__content {max-height: 200px;max-width: 100%;overflow: auto;}#sk-container-id-1 input.sk-toggleable__control:checked~label.sk-toggleable__label-arrow:before {content: \"▾\";}#sk-container-id-1 div.sk-estimator input.sk-toggleable__control:checked~label.sk-toggleable__label {background-color: #d4ebff;}#sk-container-id-1 div.sk-label input.sk-toggleable__control:checked~label.sk-toggleable__label {background-color: #d4ebff;}#sk-container-id-1 input.sk-hidden--visually {border: 0;clip: rect(1px 1px 1px 1px);clip: rect(1px, 1px, 1px, 1px);height: 1px;margin: -1px;overflow: hidden;padding: 0;position: absolute;width: 1px;}#sk-container-id-1 div.sk-estimator {font-family: monospace;background-color: #f0f8ff;border: 1px dotted black;border-radius: 0.25em;box-sizing: border-box;margin-bottom: 0.5em;}#sk-container-id-1 div.sk-estimator:hover {background-color: #d4ebff;}#sk-container-id-1 div.sk-parallel-item::after {content: \"\";width: 100%;border-bottom: 1px solid gray;flex-grow: 1;}#sk-container-id-1 div.sk-label:hover label.sk-toggleable__label {background-color: #d4ebff;}#sk-container-id-1 div.sk-serial::before {content: \"\";position: absolute;border-left: 1px solid gray;box-sizing: border-box;top: 0;bottom: 0;left: 50%;z-index: 0;}#sk-container-id-1 div.sk-serial {display: flex;flex-direction: column;align-items: center;background-color: white;padding-right: 0.2em;padding-left: 0.2em;position: relative;}#sk-container-id-1 div.sk-item {position: relative;z-index: 1;}#sk-container-id-1 div.sk-parallel {display: flex;align-items: stretch;justify-content: center;background-color: white;position: relative;}#sk-container-id-1 div.sk-item::before, #sk-container-id-1 div.sk-parallel-item::before {content: \"\";position: absolute;border-left: 1px solid gray;box-sizing: border-box;top: 0;bottom: 0;left: 50%;z-index: -1;}#sk-container-id-1 div.sk-parallel-item {display: flex;flex-direction: column;z-index: 1;position: relative;background-color: white;}#sk-container-id-1 div.sk-parallel-item:first-child::after {align-self: flex-end;width: 50%;}#sk-container-id-1 div.sk-parallel-item:last-child::after {align-self: flex-start;width: 50%;}#sk-container-id-1 div.sk-parallel-item:only-child::after {width: 0;}#sk-container-id-1 div.sk-dashed-wrapped {border: 1px dashed gray;margin: 0 0.4em 0.5em 0.4em;box-sizing: border-box;padding-bottom: 0.4em;background-color: white;}#sk-container-id-1 div.sk-label label {font-family: monospace;font-weight: bold;display: inline-block;line-height: 1.2em;}#sk-container-id-1 div.sk-label-container {text-align: center;}#sk-container-id-1 div.sk-container {/* jupyter's `normalize.less` sets `[hidden] { display: none; }` but bootstrap.min.css set `[hidden] { display: none !important; }` so we also need the `!important` here to be able to override the default hidden behavior on the sphinx rendered scikit-learn.org. See: https://github.com/scikit-learn/scikit-learn/issues/21755 */display: inline-block !important;position: relative;}#sk-container-id-1 div.sk-text-repr-fallback {display: none;}</style><div id=\"sk-container-id-1\" class=\"sk-top-container\"><div class=\"sk-text-repr-fallback\"><pre>IsolationForest(contamination=0.2, max_samples=100, n_estimators=1000,\n",
              "                random_state=0)</pre><b>In a Jupyter environment, please rerun this cell to show the HTML representation or trust the notebook. <br />On GitHub, the HTML representation is unable to render, please try loading this page with nbviewer.org.</b></div><div class=\"sk-container\" hidden><div class=\"sk-item\"><div class=\"sk-estimator sk-toggleable\"><input class=\"sk-toggleable__control sk-hidden--visually\" id=\"sk-estimator-id-1\" type=\"checkbox\" checked><label for=\"sk-estimator-id-1\" class=\"sk-toggleable__label sk-toggleable__label-arrow\">IsolationForest</label><div class=\"sk-toggleable__content\"><pre>IsolationForest(contamination=0.2, max_samples=100, n_estimators=1000,\n",
              "                random_state=0)</pre></div></div></div></div></div>"
            ]
          },
          "metadata": {},
          "execution_count": 4
        }
      ],
      "source": [
        "from sklearn.ensemble import IsolationForest\n",
        "\n",
        "#clf = IsolationForest(n_estimators=100, max_samples=100, contamination='auto', random_state=0)\n",
        "clf = IsolationForest(n_estimators=1000, max_samples=100, contamination=0.2, random_state=0)\n",
        "clf.fit(X_train)"
      ]
    },
    {
      "cell_type": "markdown",
      "metadata": {
        "id": "aAcfDJTKHgR-"
      },
      "source": [
        "We use the class DecisionBoundaryDisplay to visualize a discrete decision boundary. The background color represents whether a sample in that given area is predicted to be an outlier or not. The scatter plot displays the true labels."
      ]
    },
    {
      "cell_type": "code",
      "execution_count": 5,
      "metadata": {
        "id": "CzXXmzZZHgR-",
        "outputId": "31273e58-35b4-4612-ca83-2dc9addee347",
        "colab": {
          "base_uri": "https://localhost:8080/",
          "height": 296
        }
      },
      "outputs": [
        {
          "output_type": "display_data",
          "data": {
            "text/plain": [
              "<Figure size 432x288 with 1 Axes>"
            ],
            "image/png": "[encoded data removed]"
          },
          "metadata": {
            "needs_background": "light"
          }
        }
      ],
      "source": [
        "import matplotlib.pyplot as plt\n",
        "from sklearn.inspection import DecisionBoundaryDisplay\n",
        "\n",
        "disp = DecisionBoundaryDisplay.from_estimator(\n",
        "    clf,\n",
        "    X,\n",
        "    response_method=\"predict\",\n",
        "    alpha=0.5,\n",
        ")\n",
        "disp.ax_.scatter(X[:, 0], X[:, 1], c=y, s=20, edgecolor=\"k\")\n",
        "disp.ax_.set_title(\"Binary decision boundary \\nof IsolationForest\")\n",
        "plt.axis(\"square\")\n",
        "plt.legend(handles=handles, labels=[\"outliers\", \"inliers\"], title=\"true class\")\n",
        "plt.show()"
      ]
    },
    {
      "cell_type": "markdown",
      "metadata": {
        "id": "4P7-_d4eHgR_"
      },
      "source": [
        "By setting the response_method=\"decision_function\", the background of the DecisionBoundaryDisplay represents the score given by the path length averaged over a forest of random trees.\n",
        "\n",
        "When a forest of random trees collectively produce short path lengths for isolating some particular samples, they are highly likely to be anomalies and the measure of normality is close to 0. Similarly, large paths correspond to values close to 1 and are more likely to be inliers."
      ]
    },
    {
      "cell_type": "code",
      "execution_count": 6,
      "metadata": {
        "id": "GUvt6oPaHgSA",
        "outputId": "80733a81-7d97-4870-b2d3-9a1788fbe029",
        "colab": {
          "base_uri": "https://localhost:8080/",
          "height": 296
        }
      },
      "outputs": [
        {
          "output_type": "display_data",
          "data": {
            "text/plain": [
              "<Figure size 432x288 with 2 Axes>"
            ],
            "image/png": "[encoded data removed]"
          },
          "metadata": {
            "needs_background": "light"
          }
        }
      ],
      "source": [
        "disp = DecisionBoundaryDisplay.from_estimator(\n",
        "    clf,\n",
        "    X,\n",
        "    response_method=\"decision_function\",\n",
        "    alpha=0.5,\n",
        ")\n",
        "disp.ax_.scatter(X[:, 0], X[:, 1], c=y, s=20, edgecolor=\"k\")\n",
        "disp.ax_.set_title(\"Path length decision boundary \\nof IsolationForest\")\n",
        "plt.axis(\"square\")\n",
        "plt.legend(handles=handles, labels=[\"outliers\", \"inliers\"], title=\"true class\")\n",
        "plt.colorbar(disp.ax_.collections[1])\n",
        "plt.show()"
      ]
    },
    {
      "cell_type": "markdown",
      "metadata": {
        "id": "gxt7qvITHgSA"
      },
      "source": [
        "## Exercise\n",
        "Change the hyperparameters of the isolation forest and observe what happens to the decision boundaries"
      ]
    },
    {
      "cell_type": "markdown",
      "metadata": {
        "id": "f9-PsWMaHgSB"
      },
      "source": [
        "## Isolation Forest for Credit Card Fraud Detection\n",
        "\n",
        "The dataset contains transactions made by credit cards in September 2013 by European cardholders.\n",
        "This dataset presents transactions that occurred in two days, where we have 492 frauds out of 284,807 transactions. The dataset is highly unbalanced, the positive class (frauds) account for 0.172% of all transactions.\n",
        "\n",
        "It contains only numerical input variables which are the result of a PCA transformation."
      ]
    },
    {
      "cell_type": "code",
      "execution_count": 4,
      "metadata": {
        "id": "2z6T7fhNHgSB",
        "outputId": "508d38fd-5588-4e92-e47f-59960d38f02a",
        "colab": {
          "base_uri": "https://localhost:8080/"
        }
      },
      "outputs": [
        {
          "output_type": "execute_result",
          "data": {
            "text/plain": [
              "<bound method NDFrame.head of             Time         V1         V2        V3        V4        V5  \\\n",
              "0            0.0  -1.359807  -0.072781  2.536347  1.378155 -0.338321   \n",
              "1            0.0   1.191857   0.266151  0.166480  0.448154  0.060018   \n",
              "2            1.0  -1.358354  -1.340163  1.773209  0.379780 -0.503198   \n",
              "3            1.0  -0.966272  -0.185226  1.792993 -0.863291 -0.010309   \n",
              "4            2.0  -1.158233   0.877737  1.548718  0.403034 -0.407193   \n",
              "...          ...        ...        ...       ...       ...       ...   \n",
              "284802  172786.0 -11.881118  10.071785 -9.834783 -2.066656 -5.364473   \n",
              "284803  172787.0  -0.732789  -0.055080  2.035030 -0.738589  0.868229   \n",
              "284804  172788.0   1.919565  -0.301254 -3.249640 -0.557828  2.630515   \n",
              "284805  172788.0  -0.240440   0.530483  0.702510  0.689799 -0.377961   \n",
              "284806  172792.0  -0.533413  -0.189733  0.703337 -0.506271 -0.012546   \n",
              "\n",
              "              V6        V7        V8        V9  ...       V21       V22  \\\n",
              "0       0.462388  0.239599  0.098698  0.363787  ... -0.018307  0.277838   \n",
              "1      -0.082361 -0.078803  0.085102 -0.255425  ... -0.225775 -0.638672   \n",
              "2       1.800499  0.791461  0.247676 -1.514654  ...  0.247998  0.771679   \n",
              "3       1.247203  0.237609  0.377436 -1.387024  ... -0.108300  0.005274   \n",
              "4       0.095921  0.592941 -0.270533  0.817739  ... -0.009431  0.798278   \n",
              "...          ...       ...       ...       ...  ...       ...       ...   \n",
              "284802 -2.606837 -4.918215  7.305334  1.914428  ...  0.213454  0.111864   \n",
              "284803  1.058415  0.024330  0.294869  0.584800  ...  0.214205  0.924384   \n",
              "284804  3.031260 -0.296827  0.708417  0.432454  ...  0.232045  0.578229   \n",
              "284805  0.623708 -0.686180  0.679145  0.392087  ...  0.265245  0.800049   \n",
              "284806 -0.649617  1.577006 -0.414650  0.486180  ...  0.261057  0.643078   \n",
              "\n",
              "             V23       V24       V25       V26       V27       V28  Amount  \\\n",
              "0      -0.110474  0.066928  0.128539 -0.189115  0.133558 -0.021053  149.62   \n",
              "1       0.101288 -0.339846  0.167170  0.125895 -0.008983  0.014724    2.69   \n",
              "2       0.909412 -0.689281 -0.327642 -0.139097 -0.055353 -0.059752  378.66   \n",
              "3      -0.190321 -1.175575  0.647376 -0.221929  0.062723  0.061458  123.50   \n",
              "4      -0.137458  0.141267 -0.206010  0.502292  0.219422  0.215153   69.99   \n",
              "...          ...       ...       ...       ...       ...       ...     ...   \n",
              "284802  1.014480 -0.509348  1.436807  0.250034  0.943651  0.823731    0.77   \n",
              "284803  0.012463 -1.016226 -0.606624 -0.395255  0.068472 -0.053527   24.79   \n",
              "284804 -0.037501  0.640134  0.265745 -0.087371  0.004455 -0.026561   67.88   \n",
              "284805 -0.163298  0.123205 -0.569159  0.546668  0.108821  0.104533   10.00   \n",
              "284806  0.376777  0.008797 -0.473649 -0.818267 -0.002415  0.013649  217.00   \n",
              "\n",
              "        Class  \n",
              "0           0  \n",
              "1           0  \n",
              "2           0  \n",
              "3           0  \n",
              "4           0  \n",
              "...       ...  \n",
              "284802      0  \n",
              "284803      0  \n",
              "284804      0  \n",
              "284805      0  \n",
              "284806      0  \n",
              "\n",
              "[284807 rows x 31 columns]>"
            ]
          },
          "metadata": {},
          "execution_count": 4
        }
      ],
      "source": [
        "import numpy as np\n",
        "import pandas as pd\n",
        "import seaborn as sns\n",
        "from sklearn.ensemble import IsolationForest\n",
        "\n",
        "df=pd.read_csv('creditcard.csv')\n",
        "df.head"
      ]
    },
    {
      "cell_type": "markdown",
      "metadata": {
        "id": "duI2zVs8HgSB"
      },
      "source": [
        "Examine the data distribution. Most of the data are valid transactions, with only a small percentage of fraud cases"
      ]
    },
    {
      "cell_type": "code",
      "execution_count": 5,
      "metadata": {
        "id": "Z__B3_fRHgSC",
        "outputId": "2ce6272b-35c7-4420-8c42-d3889bcbb27f",
        "colab": {
          "base_uri": "https://localhost:8080/",
          "height": 331
        }
      },
      "outputs": [
        {
          "output_type": "stream",
          "name": "stdout",
          "text": [
            "0    284315\n",
            "1       492\n",
            "Name: Class, dtype: int64\n"
          ]
        },
        {
          "output_type": "execute_result",
          "data": {
            "text/plain": [
              "<matplotlib.axes._subplots.AxesSubplot at 0x7f694efab730>"
            ]
          },
          "metadata": {},
          "execution_count": 5
        },
        {
          "output_type": "display_data",
          "data": {
            "text/plain": [
              "<Figure size 432x288 with 1 Axes>"
            ],
            "image/png": "[encoded data removed]"
          },
          "metadata": {
            "needs_background": "light"
          }
        }
      ],
      "source": [
        "print(df.Class.value_counts())\n",
        "df.Class.value_counts().plot(kind='bar')"
      ]
    },
    {
      "cell_type": "markdown",
      "metadata": {
        "id": "XL2auOMAHgSC"
      },
      "source": [
        "As a first step, we can train the Isolation Forest using only the non-fraudulent class. For validation, we will use data from both fraudulent and non-fraudulent classes"
      ]
    },
    {
      "cell_type": "code",
      "execution_count": 6,
      "metadata": {
        "id": "OedvwVfmHgSC"
      },
      "outputs": [],
      "source": [
        "seed = 1337\n",
        "from sklearn.model_selection import train_test_split\n",
        "def get_data(df, clean_train=True):\n",
        "    \"\"\"\n",
        "        clean_train=True returns a train sample that only contains clean samples.\n",
        "        Otherwise, it will return a subset of each class in train and test (10% outlier)\n",
        "    \"\"\"\n",
        "    clean = df[df.Class == 0].copy().reset_index(drop=True)\n",
        "    fraud = df[df.Class == 1].copy().reset_index(drop=True)\n",
        "    print(f'Clean Samples: {len(clean)}, Fraud Samples: {len(fraud)}')\n",
        "\n",
        "    if clean_train:\n",
        "        train, test_clean = train_test_split(clean, test_size=len(fraud), random_state=seed)\n",
        "        print(f'Train Samples: {len(train)}')\n",
        "\n",
        "        test = pd.concat([test_clean, fraud]).reset_index(drop=True)\n",
        "\n",
        "        print(f'Test Samples: {len(test)}')\n",
        "\n",
        "        # shuffle the test data\n",
        "        test.sample(frac=1, random_state=seed).reset_index(drop=True)\n",
        "        \n",
        "        train_X, train_y = train.loc[:, ~train.columns.isin(['Class'])], train.loc[:, train.columns.isin(['Class'])]\n",
        "        test_X, test_y = test.loc[:, ~test.columns.isin(['Class'])], test.loc[:, test.columns.isin(['Class'])]\n",
        "    else:\n",
        "        clean_train, clean_test = train_test_split(clean, test_size=int(len(fraud)+(len(fraud)*0.9)), random_state=seed)\n",
        "        fraud_train, fraud_test = train_test_split(fraud, test_size=int(len(fraud)*0.1), random_state=seed)\n",
        "        print(len(clean_train))\n",
        "        print(len(fraud_train))\n",
        "        \n",
        "        train_samples = pd.concat([clean_train, fraud_train]).reset_index(drop=True)\n",
        "        test_samples = pd.concat([clean_test, fraud_test]).reset_index(drop=True)\n",
        "        \n",
        "        # shuffle\n",
        "        train_samples.sample(frac=1, random_state=seed).reset_index(drop=True)\n",
        "        \n",
        "        print(f'Train Samples: {len(train_samples)}')\n",
        "        test_samples.sample(frac=1, random_state=seed).reset_index(drop=True)\n",
        "        \n",
        "        print(f'Test Samples: {len(test_samples)}')\n",
        "        train_X, train_y = train_samples.loc[:, ~train_samples.columns.isin(['Class'])], train_samples.loc[:, train_samples.columns.isin(['Class'])]\n",
        "        test_X, test_y = test_samples.loc[:, ~test_samples.columns.isin(['Class'])], test_samples.loc[:, test_samples.columns.isin(['Class'])]\n",
        "    \n",
        "    return train_X, train_y, test_X, test_y\n",
        "\n"
      ]
    },
    {
      "cell_type": "code",
      "execution_count": 7,
      "metadata": {
        "id": "hW0I14AeHgSD",
        "outputId": "72e19648-76fa-4aa8-d71e-94e080c414d9",
        "colab": {
          "base_uri": "https://localhost:8080/",
          "height": 127
        }
      },
      "outputs": [
        {
          "output_type": "stream",
          "name": "stdout",
          "text": [
            "Clean Samples: 284315, Fraud Samples: 492\n",
            "Train Samples: 283823\n",
            "Test Samples: 984\n"
          ]
        },
        {
          "output_type": "execute_result",
          "data": {
            "text/plain": [
              "IsolationForest(random_state=1337)"
            ],
            "text/html": [
              "<style>#sk-container-id-1 {color: black;background-color: white;}#sk-container-id-1 pre{padding: 0;}#sk-container-id-1 div.sk-toggleable {background-color: white;}#sk-container-id-1 label.sk-toggleable__label {cursor: pointer;display: block;width: 100%;margin-bottom: 0;padding: 0.3em;box-sizing: border-box;text-align: center;}#sk-container-id-1 label.sk-toggleable__label-arrow:before {content: \"▸\";float: left;margin-right: 0.25em;color: #696969;}#sk-container-id-1 label.sk-toggleable__label-arrow:hover:before {color: black;}#sk-container-id-1 div.sk-estimator:hover label.sk-toggleable__label-arrow:before {color: black;}#sk-container-id-1 div.sk-toggleable__content {max-height: 0;max-width: 0;overflow: hidden;text-align: left;background-color: #f0f8ff;}#sk-container-id-1 div.sk-toggleable__content pre {margin: 0.2em;color: black;border-radius: 0.25em;background-color: #f0f8ff;}#sk-container-id-1 input.sk-toggleable__control:checked~div.sk-toggleable__content {max-height: 200px;max-width: 100%;overflow: auto;}#sk-container-id-1 input.sk-toggleable__control:checked~label.sk-toggleable__label-arrow:before {content: \"▾\";}#sk-container-id-1 div.sk-estimator input.sk-toggleable__control:checked~label.sk-toggleable__label {background-color: #d4ebff;}#sk-container-id-1 div.sk-label input.sk-toggleable__control:checked~label.sk-toggleable__label {background-color: #d4ebff;}#sk-container-id-1 input.sk-hidden--visually {border: 0;clip: rect(1px 1px 1px 1px);clip: rect(1px, 1px, 1px, 1px);height: 1px;margin: -1px;overflow: hidden;padding: 0;position: absolute;width: 1px;}#sk-container-id-1 div.sk-estimator {font-family: monospace;background-color: #f0f8ff;border: 1px dotted black;border-radius: 0.25em;box-sizing: border-box;margin-bottom: 0.5em;}#sk-container-id-1 div.sk-estimator:hover {background-color: #d4ebff;}#sk-container-id-1 div.sk-parallel-item::after {content: \"\";width: 100%;border-bottom: 1px solid gray;flex-grow: 1;}#sk-container-id-1 div.sk-label:hover label.sk-toggleable__label {background-color: #d4ebff;}#sk-container-id-1 div.sk-serial::before {content: \"\";position: absolute;border-left: 1px solid gray;box-sizing: border-box;top: 0;bottom: 0;left: 50%;z-index: 0;}#sk-container-id-1 div.sk-serial {display: flex;flex-direction: column;align-items: center;background-color: white;padding-right: 0.2em;padding-left: 0.2em;position: relative;}#sk-container-id-1 div.sk-item {position: relative;z-index: 1;}#sk-container-id-1 div.sk-parallel {display: flex;align-items: stretch;justify-content: center;background-color: white;position: relative;}#sk-container-id-1 div.sk-item::before, #sk-container-id-1 div.sk-parallel-item::before {content: \"\";position: absolute;border-left: 1px solid gray;box-sizing: border-box;top: 0;bottom: 0;left: 50%;z-index: -1;}#sk-container-id-1 div.sk-parallel-item {display: flex;flex-direction: column;z-index: 1;position: relative;background-color: white;}#sk-container-id-1 div.sk-parallel-item:first-child::after {align-self: flex-end;width: 50%;}#sk-container-id-1 div.sk-parallel-item:last-child::after {align-self: flex-start;width: 50%;}#sk-container-id-1 div.sk-parallel-item:only-child::after {width: 0;}#sk-container-id-1 div.sk-dashed-wrapped {border: 1px dashed gray;margin: 0 0.4em 0.5em 0.4em;box-sizing: border-box;padding-bottom: 0.4em;background-color: white;}#sk-container-id-1 div.sk-label label {font-family: monospace;font-weight: bold;display: inline-block;line-height: 1.2em;}#sk-container-id-1 div.sk-label-container {text-align: center;}#sk-container-id-1 div.sk-container {/* jupyter's `normalize.less` sets `[hidden] { display: none; }` but bootstrap.min.css set `[hidden] { display: none !important; }` so we also need the `!important` here to be able to override the default hidden behavior on the sphinx rendered scikit-learn.org. See: https://github.com/scikit-learn/scikit-learn/issues/21755 */display: inline-block !important;position: relative;}#sk-container-id-1 div.sk-text-repr-fallback {display: none;}</style><div id=\"sk-container-id-1\" class=\"sk-top-container\"><div class=\"sk-text-repr-fallback\"><pre>IsolationForest(random_state=1337)</pre><b>In a Jupyter environment, please rerun this cell to show the HTML representation or trust the notebook. <br />On GitHub, the HTML representation is unable to render, please try loading this page with nbviewer.org.</b></div><div class=\"sk-container\" hidden><div class=\"sk-item\"><div class=\"sk-estimator sk-toggleable\"><input class=\"sk-toggleable__control sk-hidden--visually\" id=\"sk-estimator-id-1\" type=\"checkbox\" checked><label for=\"sk-estimator-id-1\" class=\"sk-toggleable__label sk-toggleable__label-arrow\">IsolationForest</label><div class=\"sk-toggleable__content\"><pre>IsolationForest(random_state=1337)</pre></div></div></div></div></div>"
            ]
          },
          "metadata": {},
          "execution_count": 7
        }
      ],
      "source": [
        "train_X, train_y, test_X, test_y = get_data(df)\n",
        "\n",
        "model = IsolationForest(random_state=seed)\n",
        "#model.fit(train_X, train_y)\n",
        "model.fit(train_X)"
      ]
    },
    {
      "cell_type": "markdown",
      "metadata": {
        "id": "kKhT7iiEHgSE"
      },
      "source": [
        "We can now make the predictions and print the classification report"
      ]
    },
    {
      "cell_type": "code",
      "execution_count": 8,
      "metadata": {
        "id": "wW_y7lZCHgSE"
      },
      "outputs": [],
      "source": [
        "from sklearn.metrics import classification_report\n",
        "def predict(X):\n",
        "    test_yhat = model.predict(X)\n",
        "    # values are -1 and 1 (-1 for outliers and 1 for inliers), thus we will map it to 0 (inlier) and 1 (outlier) as this is our target variable\n",
        "    test_yhat = np.array([1 if y == -1 else 0 for y in test_yhat])\n",
        "    return test_yhat\n",
        "\n",
        "test_yhat = predict(test_X)"
      ]
    },
    {
      "cell_type": "code",
      "execution_count": 9,
      "metadata": {
        "id": "tkOUXMH-HgSF",
        "outputId": "dce6bc97-84cf-4127-f398-fa18e5086239",
        "colab": {
          "base_uri": "https://localhost:8080/"
        }
      },
      "outputs": [
        {
          "output_type": "stream",
          "name": "stdout",
          "text": [
            "              precision    recall  f1-score   support\n",
            "\n",
            "  Legitimate       0.86      0.96      0.90       492\n",
            "  Fraudulent       0.95      0.84      0.89       492\n",
            "\n",
            "    accuracy                           0.90       984\n",
            "   macro avg       0.90      0.90      0.90       984\n",
            "weighted avg       0.90      0.90      0.90       984\n",
            "\n"
          ]
        }
      ],
      "source": [
        "def get_classification_report(test_y, test_yhat):\n",
        "    labels = ['Legitimate','Fraudulent']\n",
        "    print(classification_report(test_y, test_yhat, target_names=labels))\n",
        "get_classification_report(test_y, test_yhat)"
      ]
    },
    {
      "cell_type": "markdown",
      "metadata": {
        "id": "FnM28D0QHgSF"
      },
      "source": [
        "As seen in the classification report, the f1-score for fraudulent class is 0.89, which is quite good. Let us see what happens if our training data had both fraudulent and non-fraudeulent data"
      ]
    },
    {
      "cell_type": "code",
      "execution_count": 10,
      "metadata": {
        "id": "kkvJMShjHgSG",
        "outputId": "b86f03a5-b12f-4ed5-fb88-1b1799088829",
        "colab": {
          "base_uri": "https://localhost:8080/"
        }
      },
      "outputs": [
        {
          "output_type": "stream",
          "name": "stdout",
          "text": [
            "Clean Samples: 284315, Fraud Samples: 492\n",
            "283381\n",
            "443\n",
            "Train Samples: 283824\n",
            "Test Samples: 983\n"
          ]
        }
      ],
      "source": [
        "train_X, train_y, test_X, test_y = get_data(df, clean_train=False)\n",
        "model = IsolationForest(random_state=seed)\n",
        "#model.fit(train_X, train_y)\n",
        "model.fit(train_X)\n",
        "test_yhat = predict(test_X)"
      ]
    },
    {
      "cell_type": "code",
      "execution_count": 11,
      "metadata": {
        "id": "NQY3wF0FHgSG",
        "outputId": "675f3a7a-db79-4f42-800f-a8adc21581fe",
        "colab": {
          "base_uri": "https://localhost:8080/"
        }
      },
      "outputs": [
        {
          "output_type": "stream",
          "name": "stdout",
          "text": [
            "              precision    recall  f1-score   support\n",
            "\n",
            "  Legitimate       0.99      0.97      0.98       934\n",
            "  Fraudulent       0.57      0.80      0.67        49\n",
            "\n",
            "    accuracy                           0.96       983\n",
            "   macro avg       0.78      0.88      0.82       983\n",
            "weighted avg       0.97      0.96      0.96       983\n",
            "\n"
          ]
        }
      ],
      "source": [
        "get_classification_report(test_y, test_yhat)"
      ]
    },
    {
      "cell_type": "markdown",
      "metadata": {
        "id": "nDMmgW4CHgSG"
      },
      "source": [
        "The f1-score for fraudulent cases has dropped to 0.67 although the f1-score for legitimate cases have increased. This indicates that the inclusion of the outliers in the training set has caused the threshold to better identify legitimate points, at the expense of the fraudulent cases.  "
      ]
    },
    {
      "cell_type": "markdown",
      "metadata": {
        "id": "OxPBoI-jHgSH"
      },
      "source": [
        "## DBSCAN\n",
        "\n",
        "Let us now use DBSCAN for anomaly detection. Recall that DBSCAN is a density based clustering approach that clusters data points based on continuous regions of high point density and determines the ideal number of clusters to be formed. In contrast to k-means, not all points are assigned to a cluster, and we are not required to declare the number of clusters (k). However, the two key parameters in DBSCAN are min_samples (to set the minimum number of data points required to determine a core point) and eps (max allowed distance between two points to put them in the same cluster)."
      ]
    },
    {
      "cell_type": "markdown",
      "source": [
        "Lets first try a toy example"
      ],
      "metadata": {
        "id": "5jIBm6qB1Ukb"
      }
    },
    {
      "cell_type": "code",
      "source": [
        "import numpy as np\n",
        "import matplotlib.pylab as plt\n",
        "from sklearn.cluster import DBSCAN\n",
        "\n",
        "X_train = np.array([[60,36], [100,36], [100,70], [60,70],\n",
        "    [140,55], [135,90], [180,65], [240,40],\n",
        "    [160,140], [190,140], [220,130], [280,150], \n",
        "    [200,170], [185, 170]])\n",
        "plt.scatter(X_train[:,0], X_train[:,1], s=200)\n",
        "plt.show()\n"
      ],
      "metadata": {
        "colab": {
          "base_uri": "https://localhost:8080/",
          "height": 265
        },
        "id": "W757pDSE1XZe",
        "outputId": "3c87ee73-ad67-47a4-bdd1-8b8b70f219a5"
      },
      "execution_count": 108,
      "outputs": [
        {
          "output_type": "display_data",
          "data": {
            "text/plain": [
              "<Figure size 432x288 with 1 Axes>"
            ],
            "image/png": "[encoded data removed]"
          },
          "metadata": {
            "needs_background": "light"
          }
        }
      ]
    },
    {
      "cell_type": "markdown",
      "source": [
        "We now use DBSCAN with eps=45 and min_samples=4 to perform anomaly detection. There are 6 core points found by the algorithm, 2 clusters and a couple of outliers (noise points)."
      ],
      "metadata": {
        "id": "YrhjQSqK5YNo"
      }
    },
    {
      "cell_type": "code",
      "source": [
        "eps = 45\n",
        "min_samples = 4\n",
        "db = DBSCAN(eps=eps, min_samples=min_samples).fit(X_train)\n",
        "labels = db.labels_\n",
        "print(labels)\n",
        "\n",
        "print(db.core_sample_indices_)"
      ],
      "metadata": {
        "colab": {
          "base_uri": "https://localhost:8080/"
        },
        "id": "PPUxS9OY1_6Z",
        "outputId": "f9ee7e76-11eb-4af3-c689-19bc1afde866"
      },
      "execution_count": 111,
      "outputs": [
        {
          "output_type": "stream",
          "name": "stdout",
          "text": [
            "[ 0  0  0  0  0  0  0 -1  1  1  1 -1  1  1]\n",
            "[ 1  2  4  9 12 13]\n"
          ]
        }
      ]
    },
    {
      "cell_type": "markdown",
      "source": [
        "We can visualize the clusters as below. Points in cluster 0 are colored red, points in cluster 1 are colored green, outlier points are colored black and core points are marked with '*'s. Two points are connected by an edge if they are within the epsilon neighbourhood."
      ],
      "metadata": {
        "id": "22kE-fW-5XHU"
      }
    },
    {
      "cell_type": "code",
      "source": [
        "def dist(a, b):\n",
        "    return np.sqrt(np.sum((a - b)**2))\n",
        "\n",
        "colors = ['r', 'g', 'b', 'k']\n",
        "for i in range(len(X_train)):\n",
        "    plt.scatter(X_train[i,0], X_train[i,1], \n",
        "                s=300, color=colors[labels[i]], \n",
        "                marker=('*' if i in db.core_sample_indices_ else 'o'))\n",
        "                                                            \n",
        "    for j in range(i+1, len(X_train)):\n",
        "        if dist(X_train[i], X_train[j])  < eps:\n",
        "            plt.plot([X_train[i,0], X_train[j,0]], [X_train[i,1], X_train[j,1]], '-', color=colors[labels[i]])\n",
        "            \n",
        "plt.title('Clustering with DBSCAN', size=15)\n",
        "plt.show()"
      ],
      "metadata": {
        "colab": {
          "base_uri": "https://localhost:8080/",
          "height": 283
        },
        "id": "uotR8ccN2OOB",
        "outputId": "54080003-3b01-4567-e195-05cb9de0727e"
      },
      "execution_count": 110,
      "outputs": [
        {
          "output_type": "display_data",
          "data": {
            "text/plain": [
              "<Figure size 432x288 with 1 Axes>"
            ],
            "image/png": "[encoded data removed]"
          },
          "metadata": {
            "needs_background": "light"
          }
        }
      ]
    },
    {
      "cell_type": "markdown",
      "source": [
        "## DBSCAN on credit card fraud dataset\n",
        "\n",
        "We first scale and normalize the train_X data from above."
      ],
      "metadata": {
        "id": "qkEI-8VynRMA"
      }
    },
    {
      "cell_type": "code",
      "source": [
        "from sklearn.preprocessing import StandardScaler\n",
        "from sklearn.preprocessing import normalize"
      ],
      "metadata": {
        "id": "Tku_Tj7CWF5p"
      },
      "execution_count": 128,
      "outputs": []
    },
    {
      "cell_type": "code",
      "source": [
        "scaler=StandardScaler().fit(train_X)\n",
        "X_s = scaler.transform(train_X)\n",
        "X_norm = pd.DataFrame(normalize(X_s))\n",
        "X_norm.head()\n"
      ],
      "metadata": {
        "colab": {
          "base_uri": "https://localhost:8080/",
          "height": 299
        },
        "id": "M2MzQ0gzWY7L",
        "outputId": "85c37c22-eae9-4780-f591-515190eab1c6"
      },
      "execution_count": 129,
      "outputs": [
        {
          "output_type": "execute_result",
          "data": {
            "text/plain": [
              "         0         1         2         3         4         5         6   \\\n",
              "0 -0.047923 -0.199858 -0.228628  0.020562  0.081671  0.199833 -0.148977   \n",
              "1  0.125601 -0.012983  0.128775  0.161845  0.341916  0.114844 -0.014012   \n",
              "2  0.297626  0.279410  0.007380 -0.394449  0.194308  0.240171  0.028446   \n",
              "3 -0.077527  0.052178 -0.172499  0.145528  0.030675 -0.164455  0.245195   \n",
              "4 -0.105592  0.200896  0.049005  0.031906  0.079263  0.048255 -0.003711   \n",
              "\n",
              "         7         8         9   ...        20        21        22        23  \\\n",
              "0 -0.232185 -0.159425  0.076901  ... -0.191547 -0.111462 -0.061123 -0.700008   \n",
              "1  0.292576 -0.156117 -0.149150  ... -0.012650 -0.065504 -0.054826  0.013181   \n",
              "2  0.129578 -0.039654 -0.030007  ... -0.032411  0.028282  0.113713 -0.061856   \n",
              "3 -0.178383  0.091680  0.033375  ... -0.037658 -0.027016  0.028447  0.005331   \n",
              "4  0.010641 -0.020050 -0.020782  ... -0.009898 -0.113932 -0.293155  0.024123   \n",
              "\n",
              "         24        25        26        27        28        29  \n",
              "0  0.093624 -0.112596  0.050545  0.343165 -0.132209  0.197213  \n",
              "1  0.101599 -0.368021 -0.192784 -0.322410 -0.330967 -0.009318  \n",
              "2 -0.084128  0.304277 -0.284711 -0.020196 -0.054116 -0.035148  \n",
              "3 -0.156770 -0.073167  0.224433  0.035282  0.029158  0.092937  \n",
              "4 -0.376486  0.174320  0.110099 -0.004743  0.008913 -0.106792  \n",
              "\n",
              "[5 rows x 30 columns]"
            ],
            "text/html": [
              "\n",
              "  <div id=\"df-4fd481d1-94d3-458f-9132-374b9b1a6070\">\n",
              "    <div class=\"colab-df-container\">\n",
              "      <div>\n",
              "<style scoped>\n",
              "    .dataframe tbody tr th:only-of-type {\n",
              "        vertical-align: middle;\n",
              "    }\n",
              "\n",
              "    .dataframe tbody tr th {\n",
              "        vertical-align: top;\n",
              "    }\n",
              "\n",
              "    .dataframe thead th {\n",
              "        text-align: right;\n",
              "    }\n",
              "</style>\n",
              "<table border=\"1\" class=\"dataframe\">\n",
              "  <thead>\n",
              "    <tr style=\"text-align: right;\">\n",
              "      <th></th>\n",
              "      <th>0</th>\n",
              "      <th>1</th>\n",
              "      <th>2</th>\n",
              "      <th>3</th>\n",
              "      <th>4</th>\n",
              "      <th>5</th>\n",
              "      <th>6</th>\n",
              "      <th>7</th>\n",
              "      <th>8</th>\n",
              "      <th>9</th>\n",
              "      <th>...</th>\n",
              "      <th>20</th>\n",
              "      <th>21</th>\n",
              "      <th>22</th>\n",
              "      <th>23</th>\n",
              "      <th>24</th>\n",
              "      <th>25</th>\n",
              "      <th>26</th>\n",
              "      <th>27</th>\n",
              "      <th>28</th>\n",
              "      <th>29</th>\n",
              "    </tr>\n",
              "  </thead>\n",
              "  <tbody>\n",
              "    <tr>\n",
              "      <th>0</th>\n",
              "      <td>-0.047923</td>\n",
              "      <td>-0.199858</td>\n",
              "      <td>-0.228628</td>\n",
              "      <td>0.020562</td>\n",
              "      <td>0.081671</td>\n",
              "      <td>0.199833</td>\n",
              "      <td>-0.148977</td>\n",
              "      <td>-0.232185</td>\n",
              "      <td>-0.159425</td>\n",
              "      <td>0.076901</td>\n",
              "      <td>...</td>\n",
              "      <td>-0.191547</td>\n",
              "      <td>-0.111462</td>\n",
              "      <td>-0.061123</td>\n",
              "      <td>-0.700008</td>\n",
              "      <td>0.093624</td>\n",
              "      <td>-0.112596</td>\n",
              "      <td>0.050545</td>\n",
              "      <td>0.343165</td>\n",
              "      <td>-0.132209</td>\n",
              "      <td>0.197213</td>\n",
              "    </tr>\n",
              "    <tr>\n",
              "      <th>1</th>\n",
              "      <td>0.125601</td>\n",
              "      <td>-0.012983</td>\n",
              "      <td>0.128775</td>\n",
              "      <td>0.161845</td>\n",
              "      <td>0.341916</td>\n",
              "      <td>0.114844</td>\n",
              "      <td>-0.014012</td>\n",
              "      <td>0.292576</td>\n",
              "      <td>-0.156117</td>\n",
              "      <td>-0.149150</td>\n",
              "      <td>...</td>\n",
              "      <td>-0.012650</td>\n",
              "      <td>-0.065504</td>\n",
              "      <td>-0.054826</td>\n",
              "      <td>0.013181</td>\n",
              "      <td>0.101599</td>\n",
              "      <td>-0.368021</td>\n",
              "      <td>-0.192784</td>\n",
              "      <td>-0.322410</td>\n",
              "      <td>-0.330967</td>\n",
              "      <td>-0.009318</td>\n",
              "    </tr>\n",
              "    <tr>\n",
              "      <th>2</th>\n",
              "      <td>0.297626</td>\n",
              "      <td>0.279410</td>\n",
              "      <td>0.007380</td>\n",
              "      <td>-0.394449</td>\n",
              "      <td>0.194308</td>\n",
              "      <td>0.240171</td>\n",
              "      <td>0.028446</td>\n",
              "      <td>0.129578</td>\n",
              "      <td>-0.039654</td>\n",
              "      <td>-0.030007</td>\n",
              "      <td>...</td>\n",
              "      <td>-0.032411</td>\n",
              "      <td>0.028282</td>\n",
              "      <td>0.113713</td>\n",
              "      <td>-0.061856</td>\n",
              "      <td>-0.084128</td>\n",
              "      <td>0.304277</td>\n",
              "      <td>-0.284711</td>\n",
              "      <td>-0.020196</td>\n",
              "      <td>-0.054116</td>\n",
              "      <td>-0.035148</td>\n",
              "    </tr>\n",
              "    <tr>\n",
              "      <th>3</th>\n",
              "      <td>-0.077527</td>\n",
              "      <td>0.052178</td>\n",
              "      <td>-0.172499</td>\n",
              "      <td>0.145528</td>\n",
              "      <td>0.030675</td>\n",
              "      <td>-0.164455</td>\n",
              "      <td>0.245195</td>\n",
              "      <td>-0.178383</td>\n",
              "      <td>0.091680</td>\n",
              "      <td>0.033375</td>\n",
              "      <td>...</td>\n",
              "      <td>-0.037658</td>\n",
              "      <td>-0.027016</td>\n",
              "      <td>0.028447</td>\n",
              "      <td>0.005331</td>\n",
              "      <td>-0.156770</td>\n",
              "      <td>-0.073167</td>\n",
              "      <td>0.224433</td>\n",
              "      <td>0.035282</td>\n",
              "      <td>0.029158</td>\n",
              "      <td>0.092937</td>\n",
              "    </tr>\n",
              "    <tr>\n",
              "      <th>4</th>\n",
              "      <td>-0.105592</td>\n",
              "      <td>0.200896</td>\n",
              "      <td>0.049005</td>\n",
              "      <td>0.031906</td>\n",
              "      <td>0.079263</td>\n",
              "      <td>0.048255</td>\n",
              "      <td>-0.003711</td>\n",
              "      <td>0.010641</td>\n",
              "      <td>-0.020050</td>\n",
              "      <td>-0.020782</td>\n",
              "      <td>...</td>\n",
              "      <td>-0.009898</td>\n",
              "      <td>-0.113932</td>\n",
              "      <td>-0.293155</td>\n",
              "      <td>0.024123</td>\n",
              "      <td>-0.376486</td>\n",
              "      <td>0.174320</td>\n",
              "      <td>0.110099</td>\n",
              "      <td>-0.004743</td>\n",
              "      <td>0.008913</td>\n",
              "      <td>-0.106792</td>\n",
              "    </tr>\n",
              "  </tbody>\n",
              "</table>\n",
              "<p>5 rows × 30 columns</p>\n",
              "</div>\n",
              "      <button class=\"colab-df-convert\" onclick=\"convertToInteractive('df-4fd481d1-94d3-458f-9132-374b9b1a6070')\"\n",
              "              title=\"Convert this dataframe to an interactive table.\"\n",
              "              style=\"display:none;\">\n",
              "        \n",
              "  <svg xmlns=\"http://www.w3.org/2000/svg\" height=\"24px\"viewBox=\"0 0 24 24\"\n",
              "       width=\"24px\">\n",
              "    <path d=\"M0 0h24v24H0V0z\" fill=\"none\"/>\n",
              "    <path d=\"M18.56 5.44l.94 2.06.94-2.06 2.06-.94-2.06-.94-.94-2.06-.94 2.06-2.06.94zm-11 1L8.5 8.5l.94-2.06 2.06-.94-2.06-.94L8.5 2.5l-.94 2.06-2.06.94zm10 10l.94 2.06.94-2.06 2.06-.94-2.06-.94-.94-2.06-.94 2.06-2.06.94z\"/><path d=\"M17.41 7.96l-1.37-1.37c-.4-.4-.92-.59-1.43-.59-.52 0-1.04.2-1.43.59L10.3 9.45l-7.72 7.72c-.78.78-.78 2.05 0 2.83L4 21.41c.39.39.9.59 1.41.59.51 0 1.02-.2 1.41-.59l7.78-7.78 2.81-2.81c.8-.78.8-2.07 0-2.86zM5.41 20L4 18.59l7.72-7.72 1.47 1.35L5.41 20z\"/>\n",
              "  </svg>\n",
              "      </button>\n",
              "      \n",
              "  <style>\n",
              "    .colab-df-container {\n",
              "      display:flex;\n",
              "      flex-wrap:wrap;\n",
              "      gap: 12px;\n",
              "    }\n",
              "\n",
              "    .colab-df-convert {\n",
              "      background-color: #E8F0FE;\n",
              "      border: none;\n",
              "      border-radius: 50%;\n",
              "      cursor: pointer;\n",
              "      display: none;\n",
              "      fill: #1967D2;\n",
              "      height: 32px;\n",
              "      padding: 0 0 0 0;\n",
              "      width: 32px;\n",
              "    }\n",
              "\n",
              "    .colab-df-convert:hover {\n",
              "      background-color: #E2EBFA;\n",
              "      box-shadow: 0px 1px 2px rgba(60, 64, 67, 0.3), 0px 1px 3px 1px rgba(60, 64, 67, 0.15);\n",
              "      fill: #174EA6;\n",
              "    }\n",
              "\n",
              "    [theme=dark] .colab-df-convert {\n",
              "      background-color: #3B4455;\n",
              "      fill: #D2E3FC;\n",
              "    }\n",
              "\n",
              "    [theme=dark] .colab-df-convert:hover {\n",
              "      background-color: #434B5C;\n",
              "      box-shadow: 0px 1px 3px 1px rgba(0, 0, 0, 0.15);\n",
              "      filter: drop-shadow(0px 1px 2px rgba(0, 0, 0, 0.3));\n",
              "      fill: #FFFFFF;\n",
              "    }\n",
              "  </style>\n",
              "\n",
              "      <script>\n",
              "        const buttonEl =\n",
              "          document.querySelector('#df-4fd481d1-94d3-458f-9132-374b9b1a6070 button.colab-df-convert');\n",
              "        buttonEl.style.display =\n",
              "          google.colab.kernel.accessAllowed ? 'block' : 'none';\n",
              "\n",
              "        async function convertToInteractive(key) {\n",
              "          const element = document.querySelector('#df-4fd481d1-94d3-458f-9132-374b9b1a6070');\n",
              "          const dataTable =\n",
              "            await google.colab.kernel.invokeFunction('convertToInteractive',\n",
              "                                                     [key], {});\n",
              "          if (!dataTable) return;\n",
              "\n",
              "          const docLinkHtml = 'Like what you see? Visit the ' +\n",
              "            '<a target=\"_blank\" href=https://colab.research.google.com/notebooks/data_table.ipynb>data table notebook</a>'\n",
              "            + ' to learn more about interactive tables.';\n",
              "          element.innerHTML = '';\n",
              "          dataTable['output_type'] = 'display_data';\n",
              "          await google.colab.output.renderOutput(dataTable, element);\n",
              "          const docLink = document.createElement('div');\n",
              "          docLink.innerHTML = docLinkHtml;\n",
              "          element.appendChild(docLink);\n",
              "        }\n",
              "      </script>\n",
              "    </div>\n",
              "  </div>\n",
              "  "
            ]
          },
          "metadata": {},
          "execution_count": 129
        }
      ]
    },
    {
      "cell_type": "markdown",
      "source": [
        "We will fit the DBSCAN model using eps 0.65 and min_samples as 5. “labels” is a vector of the same length as the number of training samples. It contains the class index for each sample, indicating the class it was assigned to. Recall that anomalies have ‘-1’ as their class index."
      ],
      "metadata": {
        "id": "9SV2yCu5n_8p"
      }
    },
    {
      "cell_type": "code",
      "source": [
        "db_model = DBSCAN (eps=0.65, min_samples=5).fit(X_norm)\n",
        "labels=db_model.labels_\n",
        "np.unique(labels)"
      ],
      "metadata": {
        "colab": {
          "base_uri": "https://localhost:8080/"
        },
        "id": "dSAkjtMRoGCy",
        "outputId": "7eae86c7-8e3e-4738-a1b7-34cbbb61e850"
      },
      "execution_count": 130,
      "outputs": [
        {
          "output_type": "execute_result",
          "data": {
            "text/plain": [
              "array([-1,  0])"
            ]
          },
          "metadata": {},
          "execution_count": 130
        }
      ]
    },
    {
      "cell_type": "markdown",
      "source": [
        "We can visualize a logarithmic histogram of the labels, and count the number of outliers identified"
      ],
      "metadata": {
        "id": "R-X68X6zvGaP"
      }
    },
    {
      "cell_type": "code",
      "source": [
        "import matplotlib.pyplot as plt\n",
        "plt.hist(labels, bins=len(np.unique(labels)),log=True)\n",
        "plt.show"
      ],
      "metadata": {
        "colab": {
          "base_uri": "https://localhost:8080/",
          "height": 282
        },
        "id": "A5ENikULeBT1",
        "outputId": "33d724f8-9e80-452e-92dd-13b232f28534"
      },
      "execution_count": 131,
      "outputs": [
        {
          "output_type": "execute_result",
          "data": {
            "text/plain": [
              "<function matplotlib.pyplot.show(*args, **kw)>"
            ]
          },
          "metadata": {},
          "execution_count": 131
        },
        {
          "output_type": "display_data",
          "data": {
            "text/plain": [
              "<Figure size 432x288 with 1 Axes>"
            ],
            "image/png": "[encoded data removed]"
          },
          "metadata": {
            "needs_background": "light"
          }
        }
      ]
    },
    {
      "cell_type": "code",
      "source": [
        "n_clusters=len(np.unique(labels))-1\n",
        "anomaly=list(labels).count(-1)\n",
        "print(f'Clusters: {n_clusters}')\n",
        "print(f'Abnormal points: {anomaly}')"
      ],
      "metadata": {
        "colab": {
          "base_uri": "https://localhost:8080/"
        },
        "id": "FwoIfSarertN",
        "outputId": "802af17e-4cb4-45c5-cf1a-f92256991ad9"
      },
      "execution_count": 132,
      "outputs": [
        {
          "output_type": "stream",
          "name": "stdout",
          "text": [
            "Clusters: 1\n",
            "Abnormal points: 421\n"
          ]
        }
      ]
    },
    {
      "cell_type": "markdown",
      "source": [
        "Let us check the accuracy of DBSCAN on the training set"
      ],
      "metadata": {
        "id": "4pW_SfEZnNwy"
      }
    },
    {
      "cell_type": "code",
      "source": [
        "labels2=np.array([1 if y == -1 else 0 for y in labels])\n",
        "def get_classification_report(test_y, test_yhat):\n",
        "    label_name = ['Legitimate','Fraudulent']\n",
        "    print(classification_report(test_y, test_yhat, target_names=label_name))\n",
        "get_classification_report(train_y, labels2)"
      ],
      "metadata": {
        "colab": {
          "base_uri": "https://localhost:8080/"
        },
        "id": "iLbVkhswxfe9",
        "outputId": "be8fa2a0-58a8-4063-f1de-1b6b718772b9"
      },
      "execution_count": 134,
      "outputs": [
        {
          "output_type": "stream",
          "name": "stdout",
          "text": [
            "              precision    recall  f1-score   support\n",
            "\n",
            "  Legitimate       1.00      1.00      1.00    283381\n",
            "  Fraudulent       0.01      0.01      0.01       443\n",
            "\n",
            "    accuracy                           1.00    283824\n",
            "   macro avg       0.50      0.50      0.50    283824\n",
            "weighted avg       1.00      1.00      1.00    283824\n",
            "\n"
          ]
        }
      ]
    },
    {
      "cell_type": "markdown",
      "source": [
        "The accuracy of DBSCAN doesn't seem good with the current parameters. Isolation Forest has a better performance. The anomalies detected by DBSCAN from this dataset are not the actual anomalies."
      ],
      "metadata": {
        "id": "ztglDKJoVnMg"
      }
    },
    {
      "cell_type": "markdown",
      "source": [
        "## Exercise\n",
        "\n",
        "Try adjusting some of the parameters of DBSCAN and observe what happens"
      ],
      "metadata": {
        "id": "_dCFQ7rGgyhW"
      }
    },
    {
      "cell_type": "markdown",
      "metadata": {
        "id": "xBhTpJ3-HgSH"
      },
      "source": [
        "## Pycaret\n",
        "Pycaret is an Automated Machine Learning (AutoML) tool that can be used for both supervised and unsupervised learning. It contains many anomaly detection models."
      ]
    },
    {
      "cell_type": "code",
      "execution_count": null,
      "metadata": {
        "colab": {
          "base_uri": "https://localhost:8080/"
        },
        "id": "tHsbJzEcHgSH",
        "outputId": "54688033-2922-4ffc-9673-ecb0efe9cb6b"
      },
      "outputs": [
        {
          "output_type": "stream",
          "name": "stdout",
          "text": [
            "Looking in indexes: https://pypi.org/simple, https://us-python.pkg.dev/colab-wheels/public/simple/\n",
            "Requirement already satisfied: pycaret in /usr/local/lib/python3.8/dist-packages (2.3.5)\n",
            "Requirement already satisfied: pyod in /usr/local/lib/python3.8/dist-packages (from pycaret) (1.0.7)\n",
            "Requirement already satisfied: IPython in /usr/local/lib/python3.8/dist-packages (from pycaret) (7.9.0)\n",
            "Requirement already satisfied: kmodes>=0.10.1 in /usr/local/lib/python3.8/dist-packages (from pycaret) (0.12.2)\n",
            "Requirement already satisfied: seaborn in /usr/local/lib/python3.8/dist-packages (from pycaret) (0.11.2)\n",
            "Requirement already satisfied: scikit-learn==0.23.2 in /usr/local/lib/python3.8/dist-packages (from pycaret) (0.23.2)\n",
            "Requirement already satisfied: mlflow in /usr/local/lib/python3.8/dist-packages (from pycaret) (2.1.1)\n",
            "Requirement already satisfied: plotly>=4.4.1 in /usr/local/lib/python3.8/dist-packages (from pycaret) (5.5.0)\n",
            "Requirement already satisfied: imbalanced-learn==0.7.0 in /usr/local/lib/python3.8/dist-packages (from pycaret) (0.7.0)\n",
            "Requirement already satisfied: gensim<4.0.0 in /usr/local/lib/python3.8/dist-packages (from pycaret) (3.6.0)\n",
            "Requirement already satisfied: Boruta in /usr/local/lib/python3.8/dist-packages (from pycaret) (0.3)\n",
            "Requirement already satisfied: spacy<2.4.0 in /usr/local/lib/python3.8/dist-packages (from pycaret) (2.3.9)\n",
            "Requirement already satisfied: pandas in /usr/local/lib/python3.8/dist-packages (from pycaret) (1.3.5)\n",
            "Requirement already satisfied: yellowbrick>=1.0.1 in /usr/local/lib/python3.8/dist-packages (from pycaret) (1.3.post1)\n",
            "Requirement already satisfied: cufflinks>=0.17.0 in /usr/local/lib/python3.8/dist-packages (from pycaret) (0.17.3)\n",
            "Requirement already satisfied: pandas-profiling>=2.8.0 in /usr/local/lib/python3.8/dist-packages (from pycaret) (3.6.2)\n",
            "Requirement already satisfied: scikit-plot in /usr/local/lib/python3.8/dist-packages (from pycaret) (0.3.7)\n",
            "Requirement already satisfied: matplotlib in /usr/local/lib/python3.8/dist-packages (from pycaret) (3.2.2)\n",
            "Requirement already satisfied: mlxtend>=0.17.0 in /usr/local/lib/python3.8/dist-packages (from pycaret) (0.19.0)\n",
            "Requirement already satisfied: scipy<=1.5.4 in /usr/local/lib/python3.8/dist-packages (from pycaret) (1.5.4)\n",
            "Requirement already satisfied: ipywidgets in /usr/local/lib/python3.8/dist-packages (from pycaret) (7.7.1)\n",
            "Requirement already satisfied: nltk in /usr/local/lib/python3.8/dist-packages (from pycaret) (3.7)\n",
            "Requirement already satisfied: numpy==1.19.5 in /usr/local/lib/python3.8/dist-packages (from pycaret) (1.19.5)\n",
            "Requirement already satisfied: lightgbm>=2.3.1 in /usr/local/lib/python3.8/dist-packages (from pycaret) (3.3.4)\n",
            "Requirement already satisfied: textblob in /usr/local/lib/python3.8/dist-packages (from pycaret) (0.15.3)\n",
            "Requirement already satisfied: umap-learn in /usr/local/lib/python3.8/dist-packages (from pycaret) (0.5.3)\n",
            "Requirement already satisfied: joblib in /usr/local/lib/python3.8/dist-packages (from pycaret) (1.2.0)\n",
            "Requirement already satisfied: wordcloud in /usr/local/lib/python3.8/dist-packages (from pycaret) (1.8.2.2)\n",
            "Requirement already satisfied: pyLDAvis in /usr/local/lib/python3.8/dist-packages (from pycaret) (3.2.2)\n",
            "Requirement already satisfied: threadpoolctl>=2.0.0 in /usr/local/lib/python3.8/dist-packages (from scikit-learn==0.23.2->pycaret) (3.1.0)\n",
            "Requirement already satisfied: six>=1.9.0 in /usr/local/lib/python3.8/dist-packages (from cufflinks>=0.17.0->pycaret) (1.15.0)\n",
            "Requirement already satisfied: setuptools>=34.4.1 in /usr/local/lib/python3.8/dist-packages (from cufflinks>=0.17.0->pycaret) (57.4.0)\n",
            "Requirement already satisfied: colorlover>=0.2.1 in /usr/local/lib/python3.8/dist-packages (from cufflinks>=0.17.0->pycaret) (0.3.0)\n",
            "Requirement already satisfied: smart-open>=1.2.1 in /usr/local/lib/python3.8/dist-packages (from gensim<4.0.0->pycaret) (6.3.0)\n",
            "Requirement already satisfied: pexpect in /usr/local/lib/python3.8/dist-packages (from IPython->pycaret) (4.8.0)\n",
            "Requirement already satisfied: pickleshare in /usr/local/lib/python3.8/dist-packages (from IPython->pycaret) (0.7.5)\n",
            "Requirement already satisfied: pygments in /usr/local/lib/python3.8/dist-packages (from IPython->pycaret) (2.6.1)\n",
            "Requirement already satisfied: decorator in /usr/local/lib/python3.8/dist-packages (from IPython->pycaret) (4.4.2)\n",
            "Requirement already satisfied: traitlets>=4.2 in /usr/local/lib/python3.8/dist-packages (from IPython->pycaret) (5.7.1)\n",
            "Requirement already satisfied: backcall in /usr/local/lib/python3.8/dist-packages (from IPython->pycaret) (0.2.0)\n",
            "Requirement already satisfied: jedi>=0.10 in /usr/local/lib/python3.8/dist-packages (from IPython->pycaret) (0.18.2)\n",
            "Requirement already satisfied: prompt-toolkit<2.1.0,>=2.0.0 in /usr/local/lib/python3.8/dist-packages (from IPython->pycaret) (2.0.10)\n",
            "Requirement already satisfied: ipykernel>=4.5.1 in /usr/local/lib/python3.8/dist-packages (from ipywidgets->pycaret) (5.3.4)\n",
            "Requirement already satisfied: widgetsnbextension~=3.6.0 in /usr/local/lib/python3.8/dist-packages (from ipywidgets->pycaret) (3.6.1)\n",
            "Requirement already satisfied: jupyterlab-widgets>=1.0.0 in /usr/local/lib/python3.8/dist-packages (from ipywidgets->pycaret) (3.0.5)\n",
            "Requirement already satisfied: ipython-genutils~=0.2.0 in /usr/local/lib/python3.8/dist-packages (from ipywidgets->pycaret) (0.2.0)\n",
            "Requirement already satisfied: wheel in /usr/local/lib/python3.8/dist-packages (from lightgbm>=2.3.1->pycaret) (0.38.4)\n",
            "Requirement already satisfied: cycler>=0.10 in /usr/local/lib/python3.8/dist-packages (from matplotlib->pycaret) (0.11.0)\n",
            "Requirement already satisfied: kiwisolver>=1.0.1 in /usr/local/lib/python3.8/dist-packages (from matplotlib->pycaret) (1.4.4)\n",
            "Requirement already satisfied: pyparsing!=2.0.4,!=2.1.2,!=2.1.6,>=2.0.1 in /usr/local/lib/python3.8/dist-packages (from matplotlib->pycaret) (3.0.9)\n",
            "Requirement already satisfied: python-dateutil>=2.1 in /usr/local/lib/python3.8/dist-packages (from matplotlib->pycaret) (2.8.2)\n",
            "Requirement already satisfied: pytz>=2017.3 in /usr/local/lib/python3.8/dist-packages (from pandas->pycaret) (2022.7)\n",
            "Requirement already satisfied: PyYAML<6.1,>=5.0.0 in /usr/local/lib/python3.8/dist-packages (from pandas-profiling>=2.8.0->pycaret) (6.0)\n",
            "Requirement already satisfied: jinja2<3.2,>=2.11.1 in /usr/local/lib/python3.8/dist-packages (from pandas-profiling>=2.8.0->pycaret) (2.11.3)\n",
            "Requirement already satisfied: requests<2.29,>=2.24.0 in /usr/local/lib/python3.8/dist-packages (from pandas-profiling>=2.8.0->pycaret) (2.28.2)\n",
            "Requirement already satisfied: phik<0.13,>=0.11.1 in /usr/local/lib/python3.8/dist-packages (from pandas-profiling>=2.8.0->pycaret) (0.12.3)\n",
            "Requirement already satisfied: tqdm<4.65,>=4.48.2 in /usr/local/lib/python3.8/dist-packages (from pandas-profiling>=2.8.0->pycaret) (4.64.1)\n",
            "Requirement already satisfied: statsmodels<0.14,>=0.13.2 in /usr/local/lib/python3.8/dist-packages (from pandas-profiling>=2.8.0->pycaret) (0.13.5)\n",
            "Requirement already satisfied: htmlmin==0.1.12 in /usr/local/lib/python3.8/dist-packages (from pandas-profiling>=2.8.0->pycaret) (0.1.12)\n",
            "Requirement already satisfied: visions[type_image_path]==0.7.5 in /usr/local/lib/python3.8/dist-packages (from pandas-profiling>=2.8.0->pycaret) (0.7.5)\n",
            "Requirement already satisfied: typeguard<2.14,>=2.13.2 in /usr/local/lib/python3.8/dist-packages (from pandas-profiling>=2.8.0->pycaret) (2.13.3)\n",
            "Requirement already satisfied: pydantic<1.11,>=1.8.1 in /usr/local/lib/python3.8/dist-packages (from pandas-profiling>=2.8.0->pycaret) (1.10.4)\n",
            "Requirement already satisfied: multimethod<1.10,>=1.4 in /usr/local/lib/python3.8/dist-packages (from pandas-profiling>=2.8.0->pycaret) (1.9.1)\n",
            "Requirement already satisfied: attrs>=19.3.0 in /usr/local/lib/python3.8/dist-packages (from visions[type_image_path]==0.7.5->pandas-profiling>=2.8.0->pycaret) (22.2.0)\n",
            "Requirement already satisfied: networkx>=2.4 in /usr/local/lib/python3.8/dist-packages (from visions[type_image_path]==0.7.5->pandas-profiling>=2.8.0->pycaret) (2.8.8)\n",
            "Requirement already satisfied: tangled-up-in-unicode>=0.0.4 in /usr/local/lib/python3.8/dist-packages (from visions[type_image_path]==0.7.5->pandas-profiling>=2.8.0->pycaret) (0.2.0)\n",
            "Requirement already satisfied: Pillow in /usr/local/lib/python3.8/dist-packages (from visions[type_image_path]==0.7.5->pandas-profiling>=2.8.0->pycaret) (7.1.2)\n",
            "Requirement already satisfied: imagehash in /usr/local/lib/python3.8/dist-packages (from visions[type_image_path]==0.7.5->pandas-profiling>=2.8.0->pycaret) (4.3.1)\n",
            "Requirement already satisfied: tenacity>=6.2.0 in /usr/local/lib/python3.8/dist-packages (from plotly>=4.4.1->pycaret) (8.1.0)\n",
            "Requirement already satisfied: srsly<1.1.0,>=1.0.2 in /usr/local/lib/python3.8/dist-packages (from spacy<2.4.0->pycaret) (1.0.6)\n",
            "Requirement already satisfied: cymem<2.1.0,>=2.0.2 in /usr/local/lib/python3.8/dist-packages (from spacy<2.4.0->pycaret) (2.0.7)\n",
            "Requirement already satisfied: murmurhash<1.1.0,>=0.28.0 in /usr/local/lib/python3.8/dist-packages (from spacy<2.4.0->pycaret) (1.0.9)\n",
            "Requirement already satisfied: preshed<3.1.0,>=3.0.2 in /usr/local/lib/python3.8/dist-packages (from spacy<2.4.0->pycaret) (3.0.8)\n",
            "Requirement already satisfied: plac<1.2.0,>=0.9.6 in /usr/local/lib/python3.8/dist-packages (from spacy<2.4.0->pycaret) (1.1.3)\n",
            "Requirement already satisfied: wasabi<1.1.0,>=0.4.0 in /usr/local/lib/python3.8/dist-packages (from spacy<2.4.0->pycaret) (0.10.1)\n",
            "Requirement already satisfied: catalogue<1.1.0,>=0.0.7 in /usr/local/lib/python3.8/dist-packages (from spacy<2.4.0->pycaret) (1.0.2)\n",
            "Requirement already satisfied: thinc<7.5.0,>=7.4.1 in /usr/local/lib/python3.8/dist-packages (from spacy<2.4.0->pycaret) (7.4.6)\n",
            "Requirement already satisfied: blis<0.8.0,>=0.4.0 in /usr/local/lib/python3.8/dist-packages (from spacy<2.4.0->pycaret) (0.7.9)\n",
            "Requirement already satisfied: alembic<2 in /usr/local/lib/python3.8/dist-packages (from mlflow->pycaret) (1.9.2)\n",
            "Requirement already satisfied: packaging<23 in /usr/local/lib/python3.8/dist-packages (from mlflow->pycaret) (21.3)\n",
            "Requirement already satisfied: gunicorn<21 in /usr/local/lib/python3.8/dist-packages (from mlflow->pycaret) (20.1.0)\n",
            "Requirement already satisfied: markdown<4,>=3.3 in /usr/local/lib/python3.8/dist-packages (from mlflow->pycaret) (3.4.1)\n",
            "Requirement already satisfied: entrypoints<1 in /usr/local/lib/python3.8/dist-packages (from mlflow->pycaret) (0.4)\n",
            "Requirement already satisfied: querystring-parser<2 in /usr/local/lib/python3.8/dist-packages (from mlflow->pycaret) (1.2.4)\n",
            "Requirement already satisfied: sqlalchemy<2,>=1.4.0 in /usr/local/lib/python3.8/dist-packages (from mlflow->pycaret) (1.4.46)\n",
            "Requirement already satisfied: shap<1,>=0.40 in /usr/local/lib/python3.8/dist-packages (from mlflow->pycaret) (0.41.0)\n",
            "Requirement already satisfied: protobuf<5,>=3.12.0 in /usr/local/lib/python3.8/dist-packages (from mlflow->pycaret) (3.19.6)\n",
            "Requirement already satisfied: importlib-metadata!=4.7.0,<6,>=3.7.0 in /usr/local/lib/python3.8/dist-packages (from mlflow->pycaret) (5.2.0)\n",
            "Requirement already satisfied: gitpython<4,>=2.1.0 in /usr/local/lib/python3.8/dist-packages (from mlflow->pycaret) (3.1.30)\n",
            "Requirement already satisfied: cloudpickle<3 in /usr/local/lib/python3.8/dist-packages (from mlflow->pycaret) (2.2.0)\n",
            "Requirement already satisfied: pyarrow<11,>=4.0.0 in /usr/local/lib/python3.8/dist-packages (from mlflow->pycaret) (9.0.0)\n",
            "Requirement already satisfied: Flask<3 in /usr/local/lib/python3.8/dist-packages (from mlflow->pycaret) (1.1.4)\n",
            "Requirement already satisfied: click<9,>=7.0 in /usr/local/lib/python3.8/dist-packages (from mlflow->pycaret) (7.1.2)\n",
            "Requirement already satisfied: databricks-cli<1,>=0.8.7 in /usr/local/lib/python3.8/dist-packages (from mlflow->pycaret) (0.17.4)\n",
            "Requirement already satisfied: docker<7,>=4.0.0 in /usr/local/lib/python3.8/dist-packages (from mlflow->pycaret) (6.0.1)\n",
            "Requirement already satisfied: sqlparse<1,>=0.4.0 in /usr/local/lib/python3.8/dist-packages (from mlflow->pycaret) (0.4.3)\n",
            "Requirement already satisfied: regex>=2021.8.3 in /usr/local/lib/python3.8/dist-packages (from nltk->pycaret) (2022.6.2)\n",
            "Requirement already satisfied: funcy in /usr/local/lib/python3.8/dist-packages (from pyLDAvis->pycaret) (1.17)\n",
            "Requirement already satisfied: numexpr in /usr/local/lib/python3.8/dist-packages (from pyLDAvis->pycaret) (2.8.4)\n",
            "Requirement already satisfied: future in /usr/local/lib/python3.8/dist-packages (from pyLDAvis->pycaret) (0.16.0)\n",
            "Requirement already satisfied: numba>=0.51 in /usr/local/lib/python3.8/dist-packages (from pyod->pycaret) (0.56.4)\n",
            "Requirement already satisfied: pynndescent>=0.5 in /usr/local/lib/python3.8/dist-packages (from umap-learn->pycaret) (0.5.8)\n",
            "Requirement already satisfied: Mako in /usr/local/lib/python3.8/dist-packages (from alembic<2->mlflow->pycaret) (1.2.4)\n",
            "Requirement already satisfied: importlib-resources in /usr/local/lib/python3.8/dist-packages (from alembic<2->mlflow->pycaret) (5.10.2)\n",
            "Requirement already satisfied: pyjwt>=1.7.0 in /usr/local/lib/python3.8/dist-packages (from databricks-cli<1,>=0.8.7->mlflow->pycaret) (2.6.0)\n",
            "Requirement already satisfied: tabulate>=0.7.7 in /usr/local/lib/python3.8/dist-packages (from databricks-cli<1,>=0.8.7->mlflow->pycaret) (0.8.10)\n",
            "Requirement already satisfied: oauthlib>=3.1.0 in /usr/local/lib/python3.8/dist-packages (from databricks-cli<1,>=0.8.7->mlflow->pycaret) (3.2.2)\n",
            "Requirement already satisfied: websocket-client>=0.32.0 in /usr/local/lib/python3.8/dist-packages (from docker<7,>=4.0.0->mlflow->pycaret) (1.4.2)\n",
            "Requirement already satisfied: urllib3>=1.26.0 in /usr/local/lib/python3.8/dist-packages (from docker<7,>=4.0.0->mlflow->pycaret) (1.26.14)\n",
            "Requirement already satisfied: itsdangerous<2.0,>=0.24 in /usr/local/lib/python3.8/dist-packages (from Flask<3->mlflow->pycaret) (1.1.0)\n",
            "Requirement already satisfied: Werkzeug<2.0,>=0.15 in /usr/local/lib/python3.8/dist-packages (from Flask<3->mlflow->pycaret) (1.0.1)\n",
            "Requirement already satisfied: gitdb<5,>=4.0.1 in /usr/local/lib/python3.8/dist-packages (from gitpython<4,>=2.1.0->mlflow->pycaret) (4.0.10)\n",
            "Requirement already satisfied: zipp>=0.5 in /usr/local/lib/python3.8/dist-packages (from importlib-metadata!=4.7.0,<6,>=3.7.0->mlflow->pycaret) (3.11.0)\n",
            "Requirement already satisfied: tornado>=4.2 in /usr/local/lib/python3.8/dist-packages (from ipykernel>=4.5.1->ipywidgets->pycaret) (6.0.4)\n",
            "Requirement already satisfied: jupyter-client in /usr/local/lib/python3.8/dist-packages (from ipykernel>=4.5.1->ipywidgets->pycaret) (6.1.12)\n",
            "Requirement already satisfied: parso<0.9.0,>=0.8.0 in /usr/local/lib/python3.8/dist-packages (from jedi>=0.10->IPython->pycaret) (0.8.3)\n",
            "Requirement already satisfied: MarkupSafe>=0.23 in /usr/local/lib/python3.8/dist-packages (from jinja2<3.2,>=2.11.1->pandas-profiling>=2.8.0->pycaret) (2.0.1)\n",
            "Requirement already satisfied: llvmlite<0.40,>=0.39.0dev0 in /usr/local/lib/python3.8/dist-packages (from numba>=0.51->pyod->pycaret) (0.39.1)\n",
            "Requirement already satisfied: wcwidth in /usr/local/lib/python3.8/dist-packages (from prompt-toolkit<2.1.0,>=2.0.0->IPython->pycaret) (0.2.5)\n",
            "Requirement already satisfied: typing-extensions>=4.2.0 in /usr/local/lib/python3.8/dist-packages (from pydantic<1.11,>=1.8.1->pandas-profiling>=2.8.0->pycaret) (4.4.0)\n",
            "Requirement already satisfied: charset-normalizer<4,>=2 in /usr/local/lib/python3.8/dist-packages (from requests<2.29,>=2.24.0->pandas-profiling>=2.8.0->pycaret) (2.1.1)\n",
            "Requirement already satisfied: idna<4,>=2.5 in /usr/local/lib/python3.8/dist-packages (from requests<2.29,>=2.24.0->pandas-profiling>=2.8.0->pycaret) (2.10)\n",
            "Requirement already satisfied: certifi>=2017.4.17 in /usr/local/lib/python3.8/dist-packages (from requests<2.29,>=2.24.0->pandas-profiling>=2.8.0->pycaret) (2022.12.7)\n",
            "Requirement already satisfied: slicer==0.0.7 in /usr/local/lib/python3.8/dist-packages (from shap<1,>=0.40->mlflow->pycaret) (0.0.7)\n",
            "Requirement already satisfied: greenlet!=0.4.17 in /usr/local/lib/python3.8/dist-packages (from sqlalchemy<2,>=1.4.0->mlflow->pycaret) (2.0.1)\n",
            "Requirement already satisfied: patsy>=0.5.2 in /usr/local/lib/python3.8/dist-packages (from statsmodels<0.14,>=0.13.2->pandas-profiling>=2.8.0->pycaret) (0.5.3)\n",
            "Requirement already satisfied: notebook>=4.4.1 in /usr/local/lib/python3.8/dist-packages (from widgetsnbextension~=3.6.0->ipywidgets->pycaret) (5.7.16)\n",
            "Requirement already satisfied: ptyprocess>=0.5 in /usr/local/lib/python3.8/dist-packages (from pexpect->IPython->pycaret) (0.7.0)\n",
            "Requirement already satisfied: smmap<6,>=3.0.1 in /usr/local/lib/python3.8/dist-packages (from gitdb<5,>=4.0.1->gitpython<4,>=2.1.0->mlflow->pycaret) (5.0.0)\n",
            "Requirement already satisfied: nbconvert<6.0 in /usr/local/lib/python3.8/dist-packages (from notebook>=4.4.1->widgetsnbextension~=3.6.0->ipywidgets->pycaret) (5.6.1)\n",
            "Requirement already satisfied: prometheus-client in /usr/local/lib/python3.8/dist-packages (from notebook>=4.4.1->widgetsnbextension~=3.6.0->ipywidgets->pycaret) (0.15.0)\n",
            "Requirement already satisfied: terminado>=0.8.1 in /usr/local/lib/python3.8/dist-packages (from notebook>=4.4.1->widgetsnbextension~=3.6.0->ipywidgets->pycaret) (0.13.3)\n",
            "Requirement already satisfied: nbformat in /usr/local/lib/python3.8/dist-packages (from notebook>=4.4.1->widgetsnbextension~=3.6.0->ipywidgets->pycaret) (5.7.1)\n",
            "Requirement already satisfied: pyzmq>=17 in /usr/local/lib/python3.8/dist-packages (from notebook>=4.4.1->widgetsnbextension~=3.6.0->ipywidgets->pycaret) (23.2.1)\n",
            "Requirement already satisfied: jupyter-core>=4.4.0 in /usr/local/lib/python3.8/dist-packages (from notebook>=4.4.1->widgetsnbextension~=3.6.0->ipywidgets->pycaret) (5.1.2)\n",
            "Requirement already satisfied: Send2Trash in /usr/local/lib/python3.8/dist-packages (from notebook>=4.4.1->widgetsnbextension~=3.6.0->ipywidgets->pycaret) (1.8.0)\n",
            "Requirement already satisfied: PyWavelets in /usr/local/lib/python3.8/dist-packages (from imagehash->visions[type_image_path]==0.7.5->pandas-profiling>=2.8.0->pycaret) (1.4.1)\n",
            "Requirement already satisfied: platformdirs>=2.5 in /usr/local/lib/python3.8/dist-packages (from jupyter-core>=4.4.0->notebook>=4.4.1->widgetsnbextension~=3.6.0->ipywidgets->pycaret) (2.6.2)\n",
            "Requirement already satisfied: mistune<2,>=0.8.1 in /usr/local/lib/python3.8/dist-packages (from nbconvert<6.0->notebook>=4.4.1->widgetsnbextension~=3.6.0->ipywidgets->pycaret) (0.8.4)\n",
            "Requirement already satisfied: defusedxml in /usr/local/lib/python3.8/dist-packages (from nbconvert<6.0->notebook>=4.4.1->widgetsnbextension~=3.6.0->ipywidgets->pycaret) (0.7.1)\n",
            "Requirement already satisfied: pandocfilters>=1.4.1 in /usr/local/lib/python3.8/dist-packages (from nbconvert<6.0->notebook>=4.4.1->widgetsnbextension~=3.6.0->ipywidgets->pycaret) (1.5.0)\n",
            "Requirement already satisfied: bleach in /usr/local/lib/python3.8/dist-packages (from nbconvert<6.0->notebook>=4.4.1->widgetsnbextension~=3.6.0->ipywidgets->pycaret) (5.0.1)\n",
            "Requirement already satisfied: testpath in /usr/local/lib/python3.8/dist-packages (from nbconvert<6.0->notebook>=4.4.1->widgetsnbextension~=3.6.0->ipywidgets->pycaret) (0.6.0)\n",
            "Requirement already satisfied: fastjsonschema in /usr/local/lib/python3.8/dist-packages (from nbformat->notebook>=4.4.1->widgetsnbextension~=3.6.0->ipywidgets->pycaret) (2.16.2)\n",
            "Requirement already satisfied: jsonschema>=2.6 in /usr/local/lib/python3.8/dist-packages (from nbformat->notebook>=4.4.1->widgetsnbextension~=3.6.0->ipywidgets->pycaret) (4.3.3)\n",
            "Requirement already satisfied: pyrsistent!=0.17.0,!=0.17.1,!=0.17.2,>=0.14.0 in /usr/local/lib/python3.8/dist-packages (from jsonschema>=2.6->nbformat->notebook>=4.4.1->widgetsnbextension~=3.6.0->ipywidgets->pycaret) (0.19.3)\n",
            "Requirement already satisfied: webencodings in /usr/local/lib/python3.8/dist-packages (from bleach->nbconvert<6.0->notebook>=4.4.1->widgetsnbextension~=3.6.0->ipywidgets->pycaret) (0.5.1)\n",
            "Looking in indexes: https://pypi.org/simple, https://us-python.pkg.dev/colab-wheels/public/simple/\n",
            "Requirement already satisfied: scipy in /usr/local/lib/python3.8/dist-packages (1.5.4)\n",
            "Requirement already satisfied: numpy>=1.14.5 in /usr/local/lib/python3.8/dist-packages (from scipy) (1.19.5)\n"
          ]
        }
      ],
      "source": [
        "!pip install pycaret==2.3.5\n",
        "!pip install scipy==1.4.1"
      ]
    },
    {
      "cell_type": "markdown",
      "metadata": {
        "id": "JLI6vJVPHgSH"
      },
      "source": [
        "We will be performing anomaly detection on the Wisconsin Breast Cancer (Diagnostic) dataset from UCI Machine Learning Repository which contains features computed digitized image of a fine needle aspirate of a breast mass and the diagnosis if the mass is benign (B) or malignant (M). This dataset commonly used for demonstrating supervised machine learning where a model is trained to predict the diagnosis. For the purpose of demonstrating unsupervised anomaly detection, we will ignore the diagnosis. We first split the data into the training set and reserve a small “unseen” set for scoring."
      ]
    },
    {
      "cell_type": "code",
      "execution_count": 36,
      "metadata": {
        "colab": {
          "base_uri": "https://localhost:8080/",
          "height": 334
        },
        "id": "RYww24VEHgSR",
        "outputId": "450cfcec-c76b-4f3f-cfd2-c6664eeaaf74"
      },
      "outputs": [
        {
          "output_type": "execute_result",
          "data": {
            "text/plain": [
              "     mean radius  mean texture  mean perimeter  mean area  mean smoothness  \\\n",
              "559        11.51         23.93           74.52      403.5          0.09261   \n",
              "560        14.05         27.15           91.38      600.4          0.09929   \n",
              "561        11.20         29.37           70.67      386.0          0.07449   \n",
              "562        15.22         30.62          103.40      716.9          0.10480   \n",
              "563        20.92         25.09          143.00     1347.0          0.10990   \n",
              "\n",
              "     mean compactness  mean concavity  mean concave points  mean symmetry  \\\n",
              "559           0.10210         0.11120              0.04105         0.1388   \n",
              "560           0.11260         0.04462              0.04304         0.1537   \n",
              "561           0.03558         0.00000              0.00000         0.1060   \n",
              "562           0.20870         0.25500              0.09429         0.2128   \n",
              "563           0.22360         0.31740              0.14740         0.2149   \n",
              "\n",
              "     mean fractal dimension  ...  worst radius  worst texture  \\\n",
              "559                 0.06570  ...         12.48          37.16   \n",
              "560                 0.06171  ...         15.30          33.17   \n",
              "561                 0.05502  ...         11.92          38.30   \n",
              "562                 0.07152  ...         17.52          42.79   \n",
              "563                 0.06879  ...         24.29          29.41   \n",
              "\n",
              "     worst perimeter  worst area  worst smoothness  worst compactness  \\\n",
              "559            82.28       474.2           0.12980            0.25170   \n",
              "560           100.20       706.7           0.12410            0.22640   \n",
              "561            75.19       439.6           0.09267            0.05494   \n",
              "562           128.70       915.0           0.14170            0.79170   \n",
              "563           179.10      1819.0           0.14070            0.41860   \n",
              "\n",
              "     worst concavity  worst concave points  worst symmetry  \\\n",
              "559           0.3630               0.09653          0.2112   \n",
              "560           0.1326               0.10480          0.2250   \n",
              "561           0.0000               0.00000          0.1566   \n",
              "562           1.1700               0.23560          0.4089   \n",
              "563           0.6599               0.25420          0.2929   \n",
              "\n",
              "     worst fractal dimension  \n",
              "559                  0.08732  \n",
              "560                  0.08321  \n",
              "561                  0.05905  \n",
              "562                  0.14090  \n",
              "563                  0.09873  \n",
              "\n",
              "[5 rows x 30 columns]"
            ],
            "text/html": [
              "\n",
              "  <div id=\"df-865f8527-ddce-46fc-961a-1d821fa5ff66\">\n",
              "    <div class=\"colab-df-container\">\n",
              "      <div>\n",
              "<style scoped>\n",
              "    .dataframe tbody tr th:only-of-type {\n",
              "        vertical-align: middle;\n",
              "    }\n",
              "\n",
              "    .dataframe tbody tr th {\n",
              "        vertical-align: top;\n",
              "    }\n",
              "\n",
              "    .dataframe thead th {\n",
              "        text-align: right;\n",
              "    }\n",
              "</style>\n",
              "<table border=\"1\" class=\"dataframe\">\n",
              "  <thead>\n",
              "    <tr style=\"text-align: right;\">\n",
              "      <th></th>\n",
              "      <th>mean radius</th>\n",
              "      <th>mean texture</th>\n",
              "      <th>mean perimeter</th>\n",
              "      <th>mean area</th>\n",
              "      <th>mean smoothness</th>\n",
              "      <th>mean compactness</th>\n",
              "      <th>mean concavity</th>\n",
              "      <th>mean concave points</th>\n",
              "      <th>mean symmetry</th>\n",
              "      <th>mean fractal dimension</th>\n",
              "      <th>...</th>\n",
              "      <th>worst radius</th>\n",
              "      <th>worst texture</th>\n",
              "      <th>worst perimeter</th>\n",
              "      <th>worst area</th>\n",
              "      <th>worst smoothness</th>\n",
              "      <th>worst compactness</th>\n",
              "      <th>worst concavity</th>\n",
              "      <th>worst concave points</th>\n",
              "      <th>worst symmetry</th>\n",
              "      <th>worst fractal dimension</th>\n",
              "    </tr>\n",
              "  </thead>\n",
              "  <tbody>\n",
              "    <tr>\n",
              "      <th>559</th>\n",
              "      <td>11.51</td>\n",
              "      <td>23.93</td>\n",
              "      <td>74.52</td>\n",
              "      <td>403.5</td>\n",
              "      <td>0.09261</td>\n",
              "      <td>0.10210</td>\n",
              "      <td>0.11120</td>\n",
              "      <td>0.04105</td>\n",
              "      <td>0.1388</td>\n",
              "      <td>0.06570</td>\n",
              "      <td>...</td>\n",
              "      <td>12.48</td>\n",
              "      <td>37.16</td>\n",
              "      <td>82.28</td>\n",
              "      <td>474.2</td>\n",
              "      <td>0.12980</td>\n",
              "      <td>0.25170</td>\n",
              "      <td>0.3630</td>\n",
              "      <td>0.09653</td>\n",
              "      <td>0.2112</td>\n",
              "      <td>0.08732</td>\n",
              "    </tr>\n",
              "    <tr>\n",
              "      <th>560</th>\n",
              "      <td>14.05</td>\n",
              "      <td>27.15</td>\n",
              "      <td>91.38</td>\n",
              "      <td>600.4</td>\n",
              "      <td>0.09929</td>\n",
              "      <td>0.11260</td>\n",
              "      <td>0.04462</td>\n",
              "      <td>0.04304</td>\n",
              "      <td>0.1537</td>\n",
              "      <td>0.06171</td>\n",
              "      <td>...</td>\n",
              "      <td>15.30</td>\n",
              "      <td>33.17</td>\n",
              "      <td>100.20</td>\n",
              "      <td>706.7</td>\n",
              "      <td>0.12410</td>\n",
              "      <td>0.22640</td>\n",
              "      <td>0.1326</td>\n",
              "      <td>0.10480</td>\n",
              "      <td>0.2250</td>\n",
              "      <td>0.08321</td>\n",
              "    </tr>\n",
              "    <tr>\n",
              "      <th>561</th>\n",
              "      <td>11.20</td>\n",
              "      <td>29.37</td>\n",
              "      <td>70.67</td>\n",
              "      <td>386.0</td>\n",
              "      <td>0.07449</td>\n",
              "      <td>0.03558</td>\n",
              "      <td>0.00000</td>\n",
              "      <td>0.00000</td>\n",
              "      <td>0.1060</td>\n",
              "      <td>0.05502</td>\n",
              "      <td>...</td>\n",
              "      <td>11.92</td>\n",
              "      <td>38.30</td>\n",
              "      <td>75.19</td>\n",
              "      <td>439.6</td>\n",
              "      <td>0.09267</td>\n",
              "      <td>0.05494</td>\n",
              "      <td>0.0000</td>\n",
              "      <td>0.00000</td>\n",
              "      <td>0.1566</td>\n",
              "      <td>0.05905</td>\n",
              "    </tr>\n",
              "    <tr>\n",
              "      <th>562</th>\n",
              "      <td>15.22</td>\n",
              "      <td>30.62</td>\n",
              "      <td>103.40</td>\n",
              "      <td>716.9</td>\n",
              "      <td>0.10480</td>\n",
              "      <td>0.20870</td>\n",
              "      <td>0.25500</td>\n",
              "      <td>0.09429</td>\n",
              "      <td>0.2128</td>\n",
              "      <td>0.07152</td>\n",
              "      <td>...</td>\n",
              "      <td>17.52</td>\n",
              "      <td>42.79</td>\n",
              "      <td>128.70</td>\n",
              "      <td>915.0</td>\n",
              "      <td>0.14170</td>\n",
              "      <td>0.79170</td>\n",
              "      <td>1.1700</td>\n",
              "      <td>0.23560</td>\n",
              "      <td>0.4089</td>\n",
              "      <td>0.14090</td>\n",
              "    </tr>\n",
              "    <tr>\n",
              "      <th>563</th>\n",
              "      <td>20.92</td>\n",
              "      <td>25.09</td>\n",
              "      <td>143.00</td>\n",
              "      <td>1347.0</td>\n",
              "      <td>0.10990</td>\n",
              "      <td>0.22360</td>\n",
              "      <td>0.31740</td>\n",
              "      <td>0.14740</td>\n",
              "      <td>0.2149</td>\n",
              "      <td>0.06879</td>\n",
              "      <td>...</td>\n",
              "      <td>24.29</td>\n",
              "      <td>29.41</td>\n",
              "      <td>179.10</td>\n",
              "      <td>1819.0</td>\n",
              "      <td>0.14070</td>\n",
              "      <td>0.41860</td>\n",
              "      <td>0.6599</td>\n",
              "      <td>0.25420</td>\n",
              "      <td>0.2929</td>\n",
              "      <td>0.09873</td>\n",
              "    </tr>\n",
              "  </tbody>\n",
              "</table>\n",
              "<p>5 rows × 30 columns</p>\n",
              "</div>\n",
              "      <button class=\"colab-df-convert\" onclick=\"convertToInteractive('df-865f8527-ddce-46fc-961a-1d821fa5ff66')\"\n",
              "              title=\"Convert this dataframe to an interactive table.\"\n",
              "              style=\"display:none;\">\n",
              "        \n",
              "  <svg xmlns=\"http://www.w3.org/2000/svg\" height=\"24px\"viewBox=\"0 0 24 24\"\n",
              "       width=\"24px\">\n",
              "    <path d=\"M0 0h24v24H0V0z\" fill=\"none\"/>\n",
              "    <path d=\"M18.56 5.44l.94 2.06.94-2.06 2.06-.94-2.06-.94-.94-2.06-.94 2.06-2.06.94zm-11 1L8.5 8.5l.94-2.06 2.06-.94-2.06-.94L8.5 2.5l-.94 2.06-2.06.94zm10 10l.94 2.06.94-2.06 2.06-.94-2.06-.94-.94-2.06-.94 2.06-2.06.94z\"/><path d=\"M17.41 7.96l-1.37-1.37c-.4-.4-.92-.59-1.43-.59-.52 0-1.04.2-1.43.59L10.3 9.45l-7.72 7.72c-.78.78-.78 2.05 0 2.83L4 21.41c.39.39.9.59 1.41.59.51 0 1.02-.2 1.41-.59l7.78-7.78 2.81-2.81c.8-.78.8-2.07 0-2.86zM5.41 20L4 18.59l7.72-7.72 1.47 1.35L5.41 20z\"/>\n",
              "  </svg>\n",
              "      </button>\n",
              "      \n",
              "  <style>\n",
              "    .colab-df-container {\n",
              "      display:flex;\n",
              "      flex-wrap:wrap;\n",
              "      gap: 12px;\n",
              "    }\n",
              "\n",
              "    .colab-df-convert {\n",
              "      background-color: #E8F0FE;\n",
              "      border: none;\n",
              "      border-radius: 50%;\n",
              "      cursor: pointer;\n",
              "      display: none;\n",
              "      fill: #1967D2;\n",
              "      height: 32px;\n",
              "      padding: 0 0 0 0;\n",
              "      width: 32px;\n",
              "    }\n",
              "\n",
              "    .colab-df-convert:hover {\n",
              "      background-color: #E2EBFA;\n",
              "      box-shadow: 0px 1px 2px rgba(60, 64, 67, 0.3), 0px 1px 3px 1px rgba(60, 64, 67, 0.15);\n",
              "      fill: #174EA6;\n",
              "    }\n",
              "\n",
              "    [theme=dark] .colab-df-convert {\n",
              "      background-color: #3B4455;\n",
              "      fill: #D2E3FC;\n",
              "    }\n",
              "\n",
              "    [theme=dark] .colab-df-convert:hover {\n",
              "      background-color: #434B5C;\n",
              "      box-shadow: 0px 1px 3px 1px rgba(0, 0, 0, 0.15);\n",
              "      filter: drop-shadow(0px 1px 2px rgba(0, 0, 0, 0.3));\n",
              "      fill: #FFFFFF;\n",
              "    }\n",
              "  </style>\n",
              "\n",
              "      <script>\n",
              "        const buttonEl =\n",
              "          document.querySelector('#df-865f8527-ddce-46fc-961a-1d821fa5ff66 button.colab-df-convert');\n",
              "        buttonEl.style.display =\n",
              "          google.colab.kernel.accessAllowed ? 'block' : 'none';\n",
              "\n",
              "        async function convertToInteractive(key) {\n",
              "          const element = document.querySelector('#df-865f8527-ddce-46fc-961a-1d821fa5ff66');\n",
              "          const dataTable =\n",
              "            await google.colab.kernel.invokeFunction('convertToInteractive',\n",
              "                                                     [key], {});\n",
              "          if (!dataTable) return;\n",
              "\n",
              "          const docLinkHtml = 'Like what you see? Visit the ' +\n",
              "            '<a target=\"_blank\" href=https://colab.research.google.com/notebooks/data_table.ipynb>data table notebook</a>'\n",
              "            + ' to learn more about interactive tables.';\n",
              "          element.innerHTML = '';\n",
              "          dataTable['output_type'] = 'display_data';\n",
              "          await google.colab.output.renderOutput(dataTable, element);\n",
              "          const docLink = document.createElement('div');\n",
              "          docLink.innerHTML = docLinkHtml;\n",
              "          element.appendChild(docLink);\n",
              "        }\n",
              "      </script>\n",
              "    </div>\n",
              "  </div>\n",
              "  "
            ]
          },
          "metadata": {},
          "execution_count": 36
        }
      ],
      "source": [
        "from pycaret.anomaly import *\n",
        "from sklearn.datasets import load_breast_cancer\n",
        "df = load_breast_cancer(as_frame=True)['data']\n",
        "df_train = df.iloc[:-10]\n",
        "df_unseen = df.tail(10)\n",
        "\n",
        "df_unseen.head()\n"
      ]
    },
    {
      "cell_type": "markdown",
      "metadata": {
        "id": "KNAueBN8HgSR"
      },
      "source": [
        "Next, we will setup Pycaret to use the dataset. To use Pycaret, we will need to first call the setup function as below. Setting the silent parameter to True automatically confirms the input of data types when setup is executed. If silent is set to False, Pycaret requires the user to do manual confirmation of the input data types as shown in the image below."
      ]
    },
    {
      "cell_type": "code",
      "execution_count": null,
      "metadata": {
        "colab": {
          "base_uri": "https://localhost:8080/",
          "height": 1000
        },
        "id": "p80IhOCBHgSS",
        "outputId": "e580f943-fca9-4fdc-bfd8-5277ed0aae12"
      },
      "outputs": [
        {
          "output_type": "display_data",
          "data": {
            "text/plain": [
              "                               Description                 Value\n",
              "0                               session_id                  1594\n",
              "1                            Original Data             (559, 30)\n",
              "2                           Missing Values                 False\n",
              "3                         Numeric Features                    30\n",
              "4                     Categorical Features                     0\n",
              "5                         Ordinal Features                 False\n",
              "6                High Cardinality Features                 False\n",
              "7                  High Cardinality Method                  None\n",
              "8                         Transformed Data             (559, 30)\n",
              "9                                 CPU Jobs                    -1\n",
              "10                                 Use GPU                 False\n",
              "11                          Log Experiment                 False\n",
              "12                         Experiment Name  anomaly-default-name\n",
              "13                                     USI                  f17d\n",
              "14                         Imputation Type                simple\n",
              "15          Iterative Imputation Iteration                  None\n",
              "16                         Numeric Imputer                  mean\n",
              "17      Iterative Imputation Numeric Model                  None\n",
              "18                     Categorical Imputer                  mode\n",
              "19  Iterative Imputation Categorical Model                  None\n",
              "20           Unknown Categoricals Handling        least_frequent\n",
              "21                               Normalize                 False\n",
              "22                        Normalize Method                  None\n",
              "23                          Transformation                 False\n",
              "24                   Transformation Method                  None\n",
              "25                                     PCA                 False\n",
              "26                              PCA Method                  None\n",
              "27                          PCA Components                  None\n",
              "28                     Ignore Low Variance                 False\n",
              "29                     Combine Rare Levels                 False\n",
              "30                    Rare Level Threshold                  None\n",
              "31                         Numeric Binning                 False\n",
              "32                         Remove Outliers                 False\n",
              "33                      Outliers Threshold                  None\n",
              "34                Remove Multicollinearity                 False\n",
              "35             Multicollinearity Threshold                  None\n",
              "36             Remove Perfect Collinearity                 False\n",
              "37                              Clustering                 False\n",
              "38                    Clustering Iteration                  None\n",
              "39                     Polynomial Features                 False\n",
              "40                       Polynomial Degree                  None\n",
              "41                    Trignometry Features                 False\n",
              "42                    Polynomial Threshold                  None\n",
              "43                          Group Features                 False\n",
              "44                       Feature Selection                 False\n",
              "45                Feature Selection Method               classic\n",
              "46            Features Selection Threshold                  None\n",
              "47                     Feature Interaction                 False\n",
              "48                           Feature Ratio                 False\n",
              "49                   Interaction Threshold                  None"
            ],
            "text/html": [
              "\n",
              "  <div id=\"df-2859441f-7c40-4c9e-964a-9c16b28c7d9a\">\n",
              "    <div class=\"colab-df-container\">\n",
              "      <div>\n",
              "<style scoped>\n",
              "    .dataframe tbody tr th:only-of-type {\n",
              "        vertical-align: middle;\n",
              "    }\n",
              "\n",
              "    .dataframe tbody tr th {\n",
              "        vertical-align: top;\n",
              "    }\n",
              "\n",
              "    .dataframe thead th {\n",
              "        text-align: right;\n",
              "    }\n",
              "</style>\n",
              "<table border=\"1\" class=\"dataframe\">\n",
              "  <thead>\n",
              "    <tr style=\"text-align: right;\">\n",
              "      <th></th>\n",
              "      <th>Description</th>\n",
              "      <th>Value</th>\n",
              "    </tr>\n",
              "  </thead>\n",
              "  <tbody>\n",
              "    <tr>\n",
              "      <th>0</th>\n",
              "      <td>session_id</td>\n",
              "      <td>1594</td>\n",
              "    </tr>\n",
              "    <tr>\n",
              "      <th>1</th>\n",
              "      <td>Original Data</td>\n",
              "      <td>(559, 30)</td>\n",
              "    </tr>\n",
              "    <tr>\n",
              "      <th>2</th>\n",
              "      <td>Missing Values</td>\n",
              "      <td>False</td>\n",
              "    </tr>\n",
              "    <tr>\n",
              "      <th>3</th>\n",
              "      <td>Numeric Features</td>\n",
              "      <td>30</td>\n",
              "    </tr>\n",
              "    <tr>\n",
              "      <th>4</th>\n",
              "      <td>Categorical Features</td>\n",
              "      <td>0</td>\n",
              "    </tr>\n",
              "    <tr>\n",
              "      <th>5</th>\n",
              "      <td>Ordinal Features</td>\n",
              "      <td>False</td>\n",
              "    </tr>\n",
              "    <tr>\n",
              "      <th>6</th>\n",
              "      <td>High Cardinality Features</td>\n",
              "      <td>False</td>\n",
              "    </tr>\n",
              "    <tr>\n",
              "      <th>7</th>\n",
              "      <td>High Cardinality Method</td>\n",
              "      <td>None</td>\n",
              "    </tr>\n",
              "    <tr>\n",
              "      <th>8</th>\n",
              "      <td>Transformed Data</td>\n",
              "      <td>(559, 30)</td>\n",
              "    </tr>\n",
              "    <tr>\n",
              "      <th>9</th>\n",
              "      <td>CPU Jobs</td>\n",
              "      <td>-1</td>\n",
              "    </tr>\n",
              "    <tr>\n",
              "      <th>10</th>\n",
              "      <td>Use GPU</td>\n",
              "      <td>False</td>\n",
              "    </tr>\n",
              "    <tr>\n",
              "      <th>11</th>\n",
              "      <td>Log Experiment</td>\n",
              "      <td>False</td>\n",
              "    </tr>\n",
              "    <tr>\n",
              "      <th>12</th>\n",
              "      <td>Experiment Name</td>\n",
              "      <td>anomaly-default-name</td>\n",
              "    </tr>\n",
              "    <tr>\n",
              "      <th>13</th>\n",
              "      <td>USI</td>\n",
              "      <td>f17d</td>\n",
              "    </tr>\n",
              "    <tr>\n",
              "      <th>14</th>\n",
              "      <td>Imputation Type</td>\n",
              "      <td>simple</td>\n",
              "    </tr>\n",
              "    <tr>\n",
              "      <th>15</th>\n",
              "      <td>Iterative Imputation Iteration</td>\n",
              "      <td>None</td>\n",
              "    </tr>\n",
              "    <tr>\n",
              "      <th>16</th>\n",
              "      <td>Numeric Imputer</td>\n",
              "      <td>mean</td>\n",
              "    </tr>\n",
              "    <tr>\n",
              "      <th>17</th>\n",
              "      <td>Iterative Imputation Numeric Model</td>\n",
              "      <td>None</td>\n",
              "    </tr>\n",
              "    <tr>\n",
              "      <th>18</th>\n",
              "      <td>Categorical Imputer</td>\n",
              "      <td>mode</td>\n",
              "    </tr>\n",
              "    <tr>\n",
              "      <th>19</th>\n",
              "      <td>Iterative Imputation Categorical Model</td>\n",
              "      <td>None</td>\n",
              "    </tr>\n",
              "    <tr>\n",
              "      <th>20</th>\n",
              "      <td>Unknown Categoricals Handling</td>\n",
              "      <td>least_frequent</td>\n",
              "    </tr>\n",
              "    <tr>\n",
              "      <th>21</th>\n",
              "      <td>Normalize</td>\n",
              "      <td>False</td>\n",
              "    </tr>\n",
              "    <tr>\n",
              "      <th>22</th>\n",
              "      <td>Normalize Method</td>\n",
              "      <td>None</td>\n",
              "    </tr>\n",
              "    <tr>\n",
              "      <th>23</th>\n",
              "      <td>Transformation</td>\n",
              "      <td>False</td>\n",
              "    </tr>\n",
              "    <tr>\n",
              "      <th>24</th>\n",
              "      <td>Transformation Method</td>\n",
              "      <td>None</td>\n",
              "    </tr>\n",
              "    <tr>\n",
              "      <th>25</th>\n",
              "      <td>PCA</td>\n",
              "      <td>False</td>\n",
              "    </tr>\n",
              "    <tr>\n",
              "      <th>26</th>\n",
              "      <td>PCA Method</td>\n",
              "      <td>None</td>\n",
              "    </tr>\n",
              "    <tr>\n",
              "      <th>27</th>\n",
              "      <td>PCA Components</td>\n",
              "      <td>None</td>\n",
              "    </tr>\n",
              "    <tr>\n",
              "      <th>28</th>\n",
              "      <td>Ignore Low Variance</td>\n",
              "      <td>False</td>\n",
              "    </tr>\n",
              "    <tr>\n",
              "      <th>29</th>\n",
              "      <td>Combine Rare Levels</td>\n",
              "      <td>False</td>\n",
              "    </tr>\n",
              "    <tr>\n",
              "      <th>30</th>\n",
              "      <td>Rare Level Threshold</td>\n",
              "      <td>None</td>\n",
              "    </tr>\n",
              "    <tr>\n",
              "      <th>31</th>\n",
              "      <td>Numeric Binning</td>\n",
              "      <td>False</td>\n",
              "    </tr>\n",
              "    <tr>\n",
              "      <th>32</th>\n",
              "      <td>Remove Outliers</td>\n",
              "      <td>False</td>\n",
              "    </tr>\n",
              "    <tr>\n",
              "      <th>33</th>\n",
              "      <td>Outliers Threshold</td>\n",
              "      <td>None</td>\n",
              "    </tr>\n",
              "    <tr>\n",
              "      <th>34</th>\n",
              "      <td>Remove Multicollinearity</td>\n",
              "      <td>False</td>\n",
              "    </tr>\n",
              "    <tr>\n",
              "      <th>35</th>\n",
              "      <td>Multicollinearity Threshold</td>\n",
              "      <td>None</td>\n",
              "    </tr>\n",
              "    <tr>\n",
              "      <th>36</th>\n",
              "      <td>Remove Perfect Collinearity</td>\n",
              "      <td>False</td>\n",
              "    </tr>\n",
              "    <tr>\n",
              "      <th>37</th>\n",
              "      <td>Clustering</td>\n",
              "      <td>False</td>\n",
              "    </tr>\n",
              "    <tr>\n",
              "      <th>38</th>\n",
              "      <td>Clustering Iteration</td>\n",
              "      <td>None</td>\n",
              "    </tr>\n",
              "    <tr>\n",
              "      <th>39</th>\n",
              "      <td>Polynomial Features</td>\n",
              "      <td>False</td>\n",
              "    </tr>\n",
              "    <tr>\n",
              "      <th>40</th>\n",
              "      <td>Polynomial Degree</td>\n",
              "      <td>None</td>\n",
              "    </tr>\n",
              "    <tr>\n",
              "      <th>41</th>\n",
              "      <td>Trignometry Features</td>\n",
              "      <td>False</td>\n",
              "    </tr>\n",
              "    <tr>\n",
              "      <th>42</th>\n",
              "      <td>Polynomial Threshold</td>\n",
              "      <td>None</td>\n",
              "    </tr>\n",
              "    <tr>\n",
              "      <th>43</th>\n",
              "      <td>Group Features</td>\n",
              "      <td>False</td>\n",
              "    </tr>\n",
              "    <tr>\n",
              "      <th>44</th>\n",
              "      <td>Feature Selection</td>\n",
              "      <td>False</td>\n",
              "    </tr>\n",
              "    <tr>\n",
              "      <th>45</th>\n",
              "      <td>Feature Selection Method</td>\n",
              "      <td>classic</td>\n",
              "    </tr>\n",
              "    <tr>\n",
              "      <th>46</th>\n",
              "      <td>Features Selection Threshold</td>\n",
              "      <td>None</td>\n",
              "    </tr>\n",
              "    <tr>\n",
              "      <th>47</th>\n",
              "      <td>Feature Interaction</td>\n",
              "      <td>False</td>\n",
              "    </tr>\n",
              "    <tr>\n",
              "      <th>48</th>\n",
              "      <td>Feature Ratio</td>\n",
              "      <td>False</td>\n",
              "    </tr>\n",
              "    <tr>\n",
              "      <th>49</th>\n",
              "      <td>Interaction Threshold</td>\n",
              "      <td>None</td>\n",
              "    </tr>\n",
              "  </tbody>\n",
              "</table>\n",
              "</div>\n",
              "      <button class=\"colab-df-convert\" onclick=\"convertToInteractive('df-2859441f-7c40-4c9e-964a-9c16b28c7d9a')\"\n",
              "              title=\"Convert this dataframe to an interactive table.\"\n",
              "              style=\"display:none;\">\n",
              "        \n",
              "  <svg xmlns=\"http://www.w3.org/2000/svg\" height=\"24px\"viewBox=\"0 0 24 24\"\n",
              "       width=\"24px\">\n",
              "    <path d=\"M0 0h24v24H0V0z\" fill=\"none\"/>\n",
              "    <path d=\"M18.56 5.44l.94 2.06.94-2.06 2.06-.94-2.06-.94-.94-2.06-.94 2.06-2.06.94zm-11 1L8.5 8.5l.94-2.06 2.06-.94-2.06-.94L8.5 2.5l-.94 2.06-2.06.94zm10 10l.94 2.06.94-2.06 2.06-.94-2.06-.94-.94-2.06-.94 2.06-2.06.94z\"/><path d=\"M17.41 7.96l-1.37-1.37c-.4-.4-.92-.59-1.43-.59-.52 0-1.04.2-1.43.59L10.3 9.45l-7.72 7.72c-.78.78-.78 2.05 0 2.83L4 21.41c.39.39.9.59 1.41.59.51 0 1.02-.2 1.41-.59l7.78-7.78 2.81-2.81c.8-.78.8-2.07 0-2.86zM5.41 20L4 18.59l7.72-7.72 1.47 1.35L5.41 20z\"/>\n",
              "  </svg>\n",
              "      </button>\n",
              "      \n",
              "  <style>\n",
              "    .colab-df-container {\n",
              "      display:flex;\n",
              "      flex-wrap:wrap;\n",
              "      gap: 12px;\n",
              "    }\n",
              "\n",
              "    .colab-df-convert {\n",
              "      background-color: #E8F0FE;\n",
              "      border: none;\n",
              "      border-radius: 50%;\n",
              "      cursor: pointer;\n",
              "      display: none;\n",
              "      fill: #1967D2;\n",
              "      height: 32px;\n",
              "      padding: 0 0 0 0;\n",
              "      width: 32px;\n",
              "    }\n",
              "\n",
              "    .colab-df-convert:hover {\n",
              "      background-color: #E2EBFA;\n",
              "      box-shadow: 0px 1px 2px rgba(60, 64, 67, 0.3), 0px 1px 3px 1px rgba(60, 64, 67, 0.15);\n",
              "      fill: #174EA6;\n",
              "    }\n",
              "\n",
              "    [theme=dark] .colab-df-convert {\n",
              "      background-color: #3B4455;\n",
              "      fill: #D2E3FC;\n",
              "    }\n",
              "\n",
              "    [theme=dark] .colab-df-convert:hover {\n",
              "      background-color: #434B5C;\n",
              "      box-shadow: 0px 1px 3px 1px rgba(0, 0, 0, 0.15);\n",
              "      filter: drop-shadow(0px 1px 2px rgba(0, 0, 0, 0.3));\n",
              "      fill: #FFFFFF;\n",
              "    }\n",
              "  </style>\n",
              "\n",
              "      <script>\n",
              "        const buttonEl =\n",
              "          document.querySelector('#df-2859441f-7c40-4c9e-964a-9c16b28c7d9a button.colab-df-convert');\n",
              "        buttonEl.style.display =\n",
              "          google.colab.kernel.accessAllowed ? 'block' : 'none';\n",
              "\n",
              "        async function convertToInteractive(key) {\n",
              "          const element = document.querySelector('#df-2859441f-7c40-4c9e-964a-9c16b28c7d9a');\n",
              "          const dataTable =\n",
              "            await google.colab.kernel.invokeFunction('convertToInteractive',\n",
              "                                                     [key], {});\n",
              "          if (!dataTable) return;\n",
              "\n",
              "          const docLinkHtml = 'Like what you see? Visit the ' +\n",
              "            '<a target=\"_blank\" href=https://colab.research.google.com/notebooks/data_table.ipynb>data table notebook</a>'\n",
              "            + ' to learn more about interactive tables.';\n",
              "          element.innerHTML = '';\n",
              "          dataTable['output_type'] = 'display_data';\n",
              "          await google.colab.output.renderOutput(dataTable, element);\n",
              "          const docLink = document.createElement('div');\n",
              "          docLink.innerHTML = docLinkHtml;\n",
              "          element.appendChild(docLink);\n",
              "        }\n",
              "      </script>\n",
              "    </div>\n",
              "  </div>\n",
              "  "
            ]
          },
          "metadata": {}
        },
        {
          "output_type": "stream",
          "name": "stderr",
          "text": [
            "INFO:logs:create_model_container: 0\n",
            "INFO:logs:master_model_container: 0\n",
            "INFO:logs:display_container: 1\n",
            "INFO:logs:Pipeline(memory=None,\n",
            "         steps=[('dtypes',\n",
            "                 DataTypes_Auto_infer(categorical_features=[],\n",
            "                                      display_types=False, features_todrop=[],\n",
            "                                      id_columns=[], ml_usecase='regression',\n",
            "                                      numerical_features=[],\n",
            "                                      target='UNSUPERVISED_DUMMY_TARGET',\n",
            "                                      time_features=[])),\n",
            "                ('imputer',\n",
            "                 Simple_Imputer(categorical_strategy='most frequent',\n",
            "                                fill_value_categorical=None,\n",
            "                                fill_value_numerical=Non...\n",
            "                ('scaling', 'passthrough'), ('P_transform', 'passthrough'),\n",
            "                ('binn', 'passthrough'), ('rem_outliers', 'passthrough'),\n",
            "                ('cluster_all', 'passthrough'),\n",
            "                ('dummy', Dummify(target='UNSUPERVISED_DUMMY_TARGET')),\n",
            "                ('fix_perfect', 'passthrough'),\n",
            "                ('clean_names', Clean_Colum_Names()),\n",
            "                ('feature_select', 'passthrough'), ('fix_multi', 'passthrough'),\n",
            "                ('dfs', 'passthrough'), ('pca', 'passthrough')],\n",
            "         verbose=False)\n",
            "INFO:logs:setup() succesfully completed......................................\n"
          ]
        }
      ],
      "source": [
        "anom = setup(data = df_train, \n",
        "             silent = True)"
      ]
    },
    {
      "cell_type": "markdown",
      "source": [
        "We can check the anomaly detection models available in Pycaret. The reference column indicates which source package the model was built from. "
      ],
      "metadata": {
        "id": "eAf6W9nOHmoO"
      }
    },
    {
      "cell_type": "code",
      "source": [
        "models()"
      ],
      "metadata": {
        "colab": {
          "base_uri": "https://localhost:8080/",
          "height": 474
        },
        "id": "Cz0YeDEqIMZQ",
        "outputId": "886b8a77-c6fa-45aa-eb2f-d4e7e100f08a"
      },
      "execution_count": null,
      "outputs": [
        {
          "output_type": "stream",
          "name": "stderr",
          "text": [
            "INFO:logs:gpu_param set to False\n"
          ]
        },
        {
          "output_type": "execute_result",
          "data": {
            "text/plain": [
              "                                        Name                    Reference\n",
              "ID                                                                       \n",
              "abod            Angle-base Outlier Detection        pyod.models.abod.ABOD\n",
              "cluster       Clustering-Based Local Outlier      pyod.models.cblof.CBLOF\n",
              "cof         Connectivity-Based Local Outlier          pyod.models.cof.COF\n",
              "iforest                     Isolation Forest  pyod.models.iforest.IForest\n",
              "histogram  Histogram-based Outlier Detection        pyod.models.hbos.HBOS\n",
              "knn             K-Nearest Neighbors Detector          pyod.models.knn.KNN\n",
              "lof                     Local Outlier Factor          pyod.models.lof.LOF\n",
              "svm                   One-class SVM detector      pyod.models.ocsvm.OCSVM\n",
              "pca             Principal Component Analysis          pyod.models.pca.PCA\n",
              "mcd           Minimum Covariance Determinant          pyod.models.mcd.MCD\n",
              "sod               Subspace Outlier Detection          pyod.models.sod.SOD\n",
              "sos             Stochastic Outlier Selection          pyod.models.sos.SOS"
            ],
            "text/html": [
              "\n",
              "  <div id=\"df-4f461010-e6d4-4949-ac76-f1a713761594\">\n",
              "    <div class=\"colab-df-container\">\n",
              "      <div>\n",
              "<style scoped>\n",
              "    .dataframe tbody tr th:only-of-type {\n",
              "        vertical-align: middle;\n",
              "    }\n",
              "\n",
              "    .dataframe tbody tr th {\n",
              "        vertical-align: top;\n",
              "    }\n",
              "\n",
              "    .dataframe thead th {\n",
              "        text-align: right;\n",
              "    }\n",
              "</style>\n",
              "<table border=\"1\" class=\"dataframe\">\n",
              "  <thead>\n",
              "    <tr style=\"text-align: right;\">\n",
              "      <th></th>\n",
              "      <th>Name</th>\n",
              "      <th>Reference</th>\n",
              "    </tr>\n",
              "    <tr>\n",
              "      <th>ID</th>\n",
              "      <th></th>\n",
              "      <th></th>\n",
              "    </tr>\n",
              "  </thead>\n",
              "  <tbody>\n",
              "    <tr>\n",
              "      <th>abod</th>\n",
              "      <td>Angle-base Outlier Detection</td>\n",
              "      <td>pyod.models.abod.ABOD</td>\n",
              "    </tr>\n",
              "    <tr>\n",
              "      <th>cluster</th>\n",
              "      <td>Clustering-Based Local Outlier</td>\n",
              "      <td>pyod.models.cblof.CBLOF</td>\n",
              "    </tr>\n",
              "    <tr>\n",
              "      <th>cof</th>\n",
              "      <td>Connectivity-Based Local Outlier</td>\n",
              "      <td>pyod.models.cof.COF</td>\n",
              "    </tr>\n",
              "    <tr>\n",
              "      <th>iforest</th>\n",
              "      <td>Isolation Forest</td>\n",
              "      <td>pyod.models.iforest.IForest</td>\n",
              "    </tr>\n",
              "    <tr>\n",
              "      <th>histogram</th>\n",
              "      <td>Histogram-based Outlier Detection</td>\n",
              "      <td>pyod.models.hbos.HBOS</td>\n",
              "    </tr>\n",
              "    <tr>\n",
              "      <th>knn</th>\n",
              "      <td>K-Nearest Neighbors Detector</td>\n",
              "      <td>pyod.models.knn.KNN</td>\n",
              "    </tr>\n",
              "    <tr>\n",
              "      <th>lof</th>\n",
              "      <td>Local Outlier Factor</td>\n",
              "      <td>pyod.models.lof.LOF</td>\n",
              "    </tr>\n",
              "    <tr>\n",
              "      <th>svm</th>\n",
              "      <td>One-class SVM detector</td>\n",
              "      <td>pyod.models.ocsvm.OCSVM</td>\n",
              "    </tr>\n",
              "    <tr>\n",
              "      <th>pca</th>\n",
              "      <td>Principal Component Analysis</td>\n",
              "      <td>pyod.models.pca.PCA</td>\n",
              "    </tr>\n",
              "    <tr>\n",
              "      <th>mcd</th>\n",
              "      <td>Minimum Covariance Determinant</td>\n",
              "      <td>pyod.models.mcd.MCD</td>\n",
              "    </tr>\n",
              "    <tr>\n",
              "      <th>sod</th>\n",
              "      <td>Subspace Outlier Detection</td>\n",
              "      <td>pyod.models.sod.SOD</td>\n",
              "    </tr>\n",
              "    <tr>\n",
              "      <th>sos</th>\n",
              "      <td>Stochastic Outlier Selection</td>\n",
              "      <td>pyod.models.sos.SOS</td>\n",
              "    </tr>\n",
              "  </tbody>\n",
              "</table>\n",
              "</div>\n",
              "      <button class=\"colab-df-convert\" onclick=\"convertToInteractive('df-4f461010-e6d4-4949-ac76-f1a713761594')\"\n",
              "              title=\"Convert this dataframe to an interactive table.\"\n",
              "              style=\"display:none;\">\n",
              "        \n",
              "  <svg xmlns=\"http://www.w3.org/2000/svg\" height=\"24px\"viewBox=\"0 0 24 24\"\n",
              "       width=\"24px\">\n",
              "    <path d=\"M0 0h24v24H0V0z\" fill=\"none\"/>\n",
              "    <path d=\"M18.56 5.44l.94 2.06.94-2.06 2.06-.94-2.06-.94-.94-2.06-.94 2.06-2.06.94zm-11 1L8.5 8.5l.94-2.06 2.06-.94-2.06-.94L8.5 2.5l-.94 2.06-2.06.94zm10 10l.94 2.06.94-2.06 2.06-.94-2.06-.94-.94-2.06-.94 2.06-2.06.94z\"/><path d=\"M17.41 7.96l-1.37-1.37c-.4-.4-.92-.59-1.43-.59-.52 0-1.04.2-1.43.59L10.3 9.45l-7.72 7.72c-.78.78-.78 2.05 0 2.83L4 21.41c.39.39.9.59 1.41.59.51 0 1.02-.2 1.41-.59l7.78-7.78 2.81-2.81c.8-.78.8-2.07 0-2.86zM5.41 20L4 18.59l7.72-7.72 1.47 1.35L5.41 20z\"/>\n",
              "  </svg>\n",
              "      </button>\n",
              "      \n",
              "  <style>\n",
              "    .colab-df-container {\n",
              "      display:flex;\n",
              "      flex-wrap:wrap;\n",
              "      gap: 12px;\n",
              "    }\n",
              "\n",
              "    .colab-df-convert {\n",
              "      background-color: #E8F0FE;\n",
              "      border: none;\n",
              "      border-radius: 50%;\n",
              "      cursor: pointer;\n",
              "      display: none;\n",
              "      fill: #1967D2;\n",
              "      height: 32px;\n",
              "      padding: 0 0 0 0;\n",
              "      width: 32px;\n",
              "    }\n",
              "\n",
              "    .colab-df-convert:hover {\n",
              "      background-color: #E2EBFA;\n",
              "      box-shadow: 0px 1px 2px rgba(60, 64, 67, 0.3), 0px 1px 3px 1px rgba(60, 64, 67, 0.15);\n",
              "      fill: #174EA6;\n",
              "    }\n",
              "\n",
              "    [theme=dark] .colab-df-convert {\n",
              "      background-color: #3B4455;\n",
              "      fill: #D2E3FC;\n",
              "    }\n",
              "\n",
              "    [theme=dark] .colab-df-convert:hover {\n",
              "      background-color: #434B5C;\n",
              "      box-shadow: 0px 1px 3px 1px rgba(0, 0, 0, 0.15);\n",
              "      filter: drop-shadow(0px 1px 2px rgba(0, 0, 0, 0.3));\n",
              "      fill: #FFFFFF;\n",
              "    }\n",
              "  </style>\n",
              "\n",
              "      <script>\n",
              "        const buttonEl =\n",
              "          document.querySelector('#df-4f461010-e6d4-4949-ac76-f1a713761594 button.colab-df-convert');\n",
              "        buttonEl.style.display =\n",
              "          google.colab.kernel.accessAllowed ? 'block' : 'none';\n",
              "\n",
              "        async function convertToInteractive(key) {\n",
              "          const element = document.querySelector('#df-4f461010-e6d4-4949-ac76-f1a713761594');\n",
              "          const dataTable =\n",
              "            await google.colab.kernel.invokeFunction('convertToInteractive',\n",
              "                                                     [key], {});\n",
              "          if (!dataTable) return;\n",
              "\n",
              "          const docLinkHtml = 'Like what you see? Visit the ' +\n",
              "            '<a target=\"_blank\" href=https://colab.research.google.com/notebooks/data_table.ipynb>data table notebook</a>'\n",
              "            + ' to learn more about interactive tables.';\n",
              "          element.innerHTML = '';\n",
              "          dataTable['output_type'] = 'display_data';\n",
              "          await google.colab.output.renderOutput(dataTable, element);\n",
              "          const docLink = document.createElement('div');\n",
              "          docLink.innerHTML = docLinkHtml;\n",
              "          element.appendChild(docLink);\n",
              "        }\n",
              "      </script>\n",
              "    </div>\n",
              "  </div>\n",
              "  "
            ]
          },
          "metadata": {},
          "execution_count": 18
        }
      ]
    },
    {
      "cell_type": "markdown",
      "source": [
        "Next, we will train an anomaly detection model. Let's load the iforest model that we have seen previously, with fraction parameter = 0.05. The fraction parameter is the contamination parameter that we have seen previously and indicates the amount of outliers present in the dataset. It has a default value of 0.05"
      ],
      "metadata": {
        "id": "OleAgD6bIg6T"
      }
    },
    {
      "cell_type": "code",
      "source": [
        "anom_model = create_model(model = 'iforest', fraction = 0.05)"
      ],
      "metadata": {
        "colab": {
          "base_uri": "https://localhost:8080/",
          "height": 418,
          "referenced_widgets": [
            "2345726f86504dc3b675d88f815c2cea",
            "5b9000f1712a423ab90e4b42a3d4dc06",
            "f1d02c2d10e642a8921a4e01537de5e7"
          ]
        },
        "id": "bTbfQGqEIOkC",
        "outputId": "6cd9e733-b1fc-4198-edb1-ef5a4b661699"
      },
      "execution_count": 56,
      "outputs": [
        {
          "output_type": "stream",
          "name": "stderr",
          "text": [
            "INFO:logs:create_model_container: 3\n",
            "INFO:logs:master_model_container: 3\n",
            "INFO:logs:display_container: 4\n",
            "INFO:logs:IForest(behaviour='new', bootstrap=False, contamination=0.05,\n",
            "    max_features=1.0, max_samples='auto', n_estimators=100, n_jobs=-1,\n",
            "    random_state=1594, verbose=0)\n",
            "INFO:logs:create_model() succesfully completed......................................\n"
          ]
        }
      ]
    },
    {
      "cell_type": "markdown",
      "source": [
        "We can now train the model using the *assign_model* function. This scores the training dataset using the trained model and returns the prediction of the model, concatenated with the training data. The Anomaly column is binary where 1 indicates that the record is anomalous and 0 indicates that it is normal. The Anomaly_Score column gives the raw score for the record, where negative indicates that the record is normal."
      ],
      "metadata": {
        "id": "aGTtUYTHKPMT"
      }
    },
    {
      "cell_type": "code",
      "source": [
        "results = assign_model(anom_model)"
      ],
      "metadata": {
        "colab": {
          "base_uri": "https://localhost:8080/"
        },
        "id": "aJJi70ojKVkt",
        "outputId": "bfba0e75-0876-4494-f2ea-d5c975198ccd"
      },
      "execution_count": 57,
      "outputs": [
        {
          "output_type": "stream",
          "name": "stderr",
          "text": [
            "INFO:logs:Initializing assign_model()\n",
            "INFO:logs:assign_model(model=IForest(behaviour='new', bootstrap=False, contamination=0.05,\n",
            "    max_features=1.0, max_samples='auto', n_estimators=100, n_jobs=-1,\n",
            "    random_state=1594, verbose=0), transformation=False, score=True, verbose=True)\n",
            "INFO:logs:Checking exceptions\n",
            "INFO:logs:Determining Trained Model\n",
            "INFO:logs:Trained Model : Isolation Forest\n",
            "INFO:logs:Copying data\n",
            "INFO:logs:(559, 32)\n",
            "INFO:logs:assign_model() succesfully completed......................................\n"
          ]
        }
      ]
    },
    {
      "cell_type": "code",
      "source": [
        "print(results)"
      ],
      "metadata": {
        "colab": {
          "base_uri": "https://localhost:8080/"
        },
        "id": "0yCX_MVOLiuM",
        "outputId": "e9024b12-511b-489b-a411-860ce2adda96"
      },
      "execution_count": 58,
      "outputs": [
        {
          "output_type": "stream",
          "name": "stdout",
          "text": [
            "     mean radius  mean texture  mean perimeter  mean area  mean smoothness  \\\n",
            "0         17.990         10.38          122.80     1001.0          0.11840   \n",
            "1         20.570         17.77          132.90     1326.0          0.08474   \n",
            "2         19.690         21.25          130.00     1203.0          0.10960   \n",
            "3         11.420         20.38           77.58      386.1          0.14250   \n",
            "4         20.290         14.34          135.10     1297.0          0.10030   \n",
            "..           ...           ...             ...        ...              ...   \n",
            "554       12.880         28.92           82.50      514.3          0.08123   \n",
            "555       10.290         27.61           65.67      321.4          0.09030   \n",
            "556       10.160         19.59           64.73      311.7          0.10030   \n",
            "557        9.423         27.88           59.26      271.3          0.08123   \n",
            "558       14.590         22.68           96.39      657.1          0.08473   \n",
            "\n",
            "     mean compactness  mean concavity  mean concave points  mean symmetry  \\\n",
            "0             0.27760        0.300100              0.14710         0.2419   \n",
            "1             0.07864        0.086900              0.07017         0.1812   \n",
            "2             0.15990        0.197400              0.12790         0.2069   \n",
            "3             0.28390        0.241400              0.10520         0.2597   \n",
            "4             0.13280        0.198000              0.10430         0.1809   \n",
            "..                ...             ...                  ...            ...   \n",
            "554           0.05824        0.061950              0.02343         0.1566   \n",
            "555           0.07658        0.059990              0.02738         0.1593   \n",
            "556           0.07504        0.005025              0.01116         0.1791   \n",
            "557           0.04971        0.000000              0.00000         0.1742   \n",
            "558           0.13300        0.102900              0.03736         0.1454   \n",
            "\n",
            "     mean fractal dimension  ...  worst perimeter  worst area  \\\n",
            "0                   0.07871  ...           184.60      2019.0   \n",
            "1                   0.05667  ...           158.80      1956.0   \n",
            "2                   0.05999  ...           152.50      1709.0   \n",
            "3                   0.09744  ...            98.87       567.7   \n",
            "4                   0.05883  ...           152.20      1575.0   \n",
            "..                      ...  ...              ...         ...   \n",
            "554                 0.05708  ...            88.84       595.7   \n",
            "555                 0.06127  ...            69.57       357.6   \n",
            "556                 0.06331  ...            67.88       347.3   \n",
            "557                 0.06059  ...            66.50       330.6   \n",
            "558                 0.06147  ...           105.90       733.5   \n",
            "\n",
            "     worst smoothness  worst compactness  worst concavity  \\\n",
            "0              0.1622            0.66560          0.71190   \n",
            "1              0.1238            0.18660          0.24160   \n",
            "2              0.1444            0.42450          0.45040   \n",
            "3              0.2098            0.86630          0.68690   \n",
            "4              0.1374            0.20500          0.40000   \n",
            "..                ...                ...              ...   \n",
            "554            0.1227            0.16200          0.24390   \n",
            "555            0.1384            0.17100          0.20000   \n",
            "556            0.1265            0.12000          0.01005   \n",
            "557            0.1073            0.07158          0.00000   \n",
            "558            0.1026            0.31710          0.36620   \n",
            "\n",
            "     worst concave points  worst symmetry  worst fractal dimension  Anomaly  \\\n",
            "0                 0.26540          0.4601                  0.11890        1   \n",
            "1                 0.18600          0.2750                  0.08902        0   \n",
            "2                 0.24300          0.3613                  0.08758        0   \n",
            "3                 0.25750          0.6638                  0.17300        1   \n",
            "4                 0.16250          0.2364                  0.07678        0   \n",
            "..                    ...             ...                      ...      ...   \n",
            "554               0.06493          0.2372                  0.07242        0   \n",
            "555               0.09127          0.2226                  0.08283        0   \n",
            "556               0.02232          0.2262                  0.06742        0   \n",
            "557               0.00000          0.2475                  0.06969        0   \n",
            "558               0.11050          0.2258                  0.08004        0   \n",
            "\n",
            "     Anomaly_Score  \n",
            "0         0.066550  \n",
            "1        -0.088293  \n",
            "2        -0.089429  \n",
            "3         0.107833  \n",
            "4        -0.085485  \n",
            "..             ...  \n",
            "554      -0.140704  \n",
            "555      -0.115114  \n",
            "556      -0.123496  \n",
            "557      -0.050451  \n",
            "558      -0.132020  \n",
            "\n",
            "[559 rows x 32 columns]\n"
          ]
        }
      ]
    },
    {
      "cell_type": "markdown",
      "source": [
        "We can visualize the high dimensional results in lower dimensions using data visualization non-linear graph based methods such as t-SNE or UMAP"
      ],
      "metadata": {
        "id": "27I5VlU8PESd"
      }
    },
    {
      "cell_type": "code",
      "source": [
        "plot_model(anom_model, plot = 'tsne')"
      ],
      "metadata": {
        "colab": {
          "base_uri": "https://localhost:8080/",
          "height": 0,
          "referenced_widgets": [
            "1d5b4613153142f68aba726685eef5b2",
            "a6f525c2a0574b5884a7fa873e1be069",
            "1168f77fc80e476a8d2d0e96c0e40342"
          ]
        },
        "id": "8uqkdC4SLsk1",
        "outputId": "7e5060e9-1519-4d55-bb05-cd57d14e85c1"
      },
      "execution_count": 59,
      "outputs": [
        {
          "output_type": "stream",
          "name": "stderr",
          "text": [
            "INFO:logs:Rendering Visual\n"
          ]
        },
        {
          "output_type": "display_data",
          "data": {
            "text/html": [
              "<html>\n",
              "<head><meta charset=\"utf-8\" /></head>\n",
              "<body>\n",
              "    <div>            <script src=\"https://cdnjs.cloudflare.com/ajax/libs/mathjax/2.7.5/MathJax.js?config=TeX-AMS-MML_SVG\"></script><script type=\"text/javascript\">if (window.MathJax) {MathJax.Hub.Config({SVG: {font: \"STIX-Web\"}});}</script>                <script type=\"text/javascript\">window.PlotlyConfig = {MathJaxConfig: 'local'};</script>\n",
              "        <script src=\"https://cdn.plot.ly/plotly-2.8.3.min.js\"></script>                <div id=\"d948956d-3fa9-4564-8c46-ec406b3ef472\" class=\"plotly-graph-div\" style=\"height:800px; width:900px;\"></div>            <script type=\"text/javascript\">                                    window.PLOTLYENV=window.PLOTLYENV || {};                                    if (document.getElementById(\"d948956d-3fa9-4564-8c46-ec406b3ef472\")) {                    Plotly.newPlot(                        \"d948956d-3fa9-4564-8c46-ec406b3ef472\",                        [{\"customdata\":[[17.99],[20.57],[19.69],[11.42],[20.29],[12.45],[18.25],[13.71],[13.0],[12.46],[16.02],[15.78],[19.17],[15.85],[13.73],[14.54],[14.68],[16.13],[19.81],[13.54],[13.08],[9.504],[15.34],[21.16],[16.65],[17.14],[14.58],[18.61],[15.3],[17.57],[18.63],[11.84],[17.02],[19.27],[16.13],[16.74],[14.25],[13.03],[14.99],[13.48],[13.44],[10.95],[19.07],[13.28],[13.17],[18.65],[8.196],[13.17],[12.05],[13.49],[11.76],[13.64],[11.94],[18.22],[15.1],[11.52],[19.21],[14.71],[13.05],[8.618],[10.17],[8.598],[14.25],[9.173],[12.68],[14.78],[9.465],[11.31],[9.029],[12.78],[18.94],[8.888],[17.2],[13.8],[12.31],[16.07],[13.53],[18.05],[20.18],[12.86],[11.45],[13.34],[25.22],[19.1],[12.0],[18.46],[14.48],[19.02],[12.36],[14.64],[14.62],[15.37],[13.27],[13.45],[15.06],[20.26],[12.18],[9.787],[11.6],[14.42],[13.61],[6.981],[12.18],[9.876],[10.49],[13.11],[11.64],[12.36],[22.27],[11.34],[9.777],[12.63],[14.26],[10.51],[8.726],[11.93],[8.95],[14.87],[15.78],[17.95],[11.41],[18.66],[24.25],[14.5],[13.37],[13.85],[13.61],[19.0],[15.1],[19.79],[12.19],[15.46],[16.16],[15.71],[18.45],[12.77],[11.71],[11.43],[14.95],[11.28],[9.738],[16.11],[11.43],[12.9],[10.75],[11.9],[11.8],[14.95],[14.44],[13.74],[13.0],[8.219],[9.731],[11.15],[13.15],[12.25],[17.68],[16.84],[12.06],[10.9],[11.75],[19.19],[19.59],[12.34],[23.27],[14.97],[10.8],[16.78],[17.47],[14.97],[12.32],[13.43],[15.46],[11.08],[10.66],[8.671],[9.904],[16.46],[13.01],[12.81],[27.22],[21.09],[15.7],[11.41],[15.28],[10.08],[18.31],[11.71],[11.81],[12.3],[14.22],[12.77],[9.72],[12.34],[14.86],[12.91],[13.77],[18.08],[19.18],[14.45],[12.23],[17.54],[23.29],[13.81],[12.47],[15.12],[9.876],[17.01],[13.11],[15.27],[20.58],[11.84],[28.11],[17.42],[14.19],[13.86],[11.89],[10.2],[19.8],[19.53],[13.65],[13.56],[10.18],[15.75],[13.27],[14.34],[10.44],[15.0],[12.62],[12.83],[17.05],[11.32],[11.22],[20.51],[9.567],[14.03],[23.21],[20.48],[14.22],[17.46],[13.64],[12.42],[11.3],[13.75],[19.4],[10.48],[13.2],[12.89],[10.65],[11.52],[20.94],[11.5],[19.73],[17.3],[19.45],[13.96],[19.55],[15.32],[15.66],[15.53],[20.31],[17.35],[17.29],[15.61],[17.19],[20.73],[10.6],[13.59],[12.87],[10.71],[14.29],[11.29],[21.75],[9.742],[17.93],[11.89],[11.33],[18.81],[13.59],[13.85],[19.16],[11.74],[19.4],[16.24],[12.89],[12.58],[11.94],[12.89],[11.26],[11.37],[14.41],[14.96],[12.95],[11.85],[12.72],[13.77],[10.91],[11.76],[14.26],[10.51],[19.53],[12.46],[20.09],[10.49],[11.46],[11.6],[13.2],[9.0],[13.5],[13.05],[11.7],[14.61],[12.76],[11.54],[8.597],[12.49],[12.18],[18.22],[9.042],[12.43],[10.25],[20.16],[12.86],[20.34],[12.2],[12.67],[14.11],[12.03],[16.27],[16.26],[16.03],[12.98],[11.22],[11.25],[12.3],[17.06],[12.99],[18.77],[10.05],[23.51],[14.42],[9.606],[11.06],[19.68],[11.71],[10.26],[12.06],[14.76],[11.47],[11.95],[11.66],[15.75],[25.73],[15.08],[11.14],[12.56],[13.05],[13.87],[8.878],[9.436],[12.54],[13.3],[12.76],[16.5],[13.4],[20.44],[20.2],[12.21],[21.71],[22.01],[16.35],[15.19],[21.37],[20.64],[13.69],[16.17],[10.57],[13.46],[13.66],[11.08],[11.27],[11.04],[12.05],[12.39],[13.28],[14.6],[12.21],[13.88],[11.27],[19.55],[10.26],[8.734],[15.49],[21.61],[12.1],[14.06],[13.51],[12.8],[11.06],[11.8],[17.91],[11.93],[12.96],[12.94],[12.34],[10.94],[16.14],[12.85],[17.99],[12.27],[11.36],[11.04],[9.397],[14.99],[15.13],[11.89],[9.405],[15.5],[12.7],[11.16],[11.57],[14.69],[11.61],[13.66],[9.742],[10.03],[10.48],[10.8],[11.13],[12.72],[14.9],[12.4],[20.18],[18.82],[14.86],[13.98],[12.87],[14.04],[13.85],[14.02],[10.97],[17.27],[13.78],[10.57],[18.03],[11.99],[17.75],[14.8],[14.53],[21.1],[11.87],[19.59],[12.0],[14.53],[12.62],[13.38],[11.63],[13.21],[13.0],[9.755],[17.08],[27.42],[14.4],[11.6],[13.17],[13.24],[13.14],[9.668],[17.6],[11.62],[9.667],[12.04],[14.92],[12.27],[10.88],[12.83],[14.2],[13.9],[11.49],[16.25],[12.16],[13.9],[13.47],[13.7],[15.73],[12.45],[14.64],[19.44],[11.68],[16.69],[12.25],[17.85],[18.01],[12.46],[13.16],[14.87],[12.65],[12.47],[18.49],[20.59],[15.04],[13.82],[12.54],[23.09],[9.268],[9.676],[12.22],[11.06],[16.3],[15.46],[11.74],[14.81],[13.4],[14.58],[15.05],[11.34],[18.31],[19.89],[12.88],[12.75],[9.295],[24.63],[11.26],[13.71],[9.847],[8.571],[13.46],[12.34],[13.94],[12.07],[11.75],[11.67],[13.68],[20.47],[10.96],[20.55],[14.27],[11.69],[7.729],[7.691],[11.54],[14.47],[14.74],[13.21],[13.87],[13.62],[10.32],[10.26],[9.683],[10.82],[10.86],[11.13],[12.77],[9.333],[12.88],[10.29],[10.16],[9.423],[14.59]],\"hovertemplate\":\"0=%{x}<br>1=%{y}<br>2=%{z}<br>Feature=%{customdata[0]}<br>Anomaly=%{marker.color}<extra></extra>\",\"legendgroup\":\"\",\"marker\":{\"color\":[1,0,0,1,0,0,0,0,0,1,0,0,1,0,0,0,0,0,0,0,0,0,0,0,0,0,0,0,0,0,0,0,0,0,0,0,0,0,0,0,0,0,1,0,0,0,0,0,0,0,0,0,0,0,0,0,0,0,0,0,0,0,0,0,0,0,0,0,1,0,0,1,0,0,0,0,0,0,1,0,0,0,1,0,0,0,0,0,0,0,0,0,0,0,0,0,0,0,0,0,0,0,0,0,0,0,0,0,1,0,0,0,0,0,0,0,0,0,0,0,0,0,1,0,0,0,0,0,0,0,0,0,0,0,0,0,0,0,0,0,0,0,0,0,0,0,0,0,0,0,0,0,1,0,0,0,0,0,0,0,0,0,0,0,0,0,0,0,0,0,0,0,0,0,0,0,0,0,0,0,1,1,0,0,0,0,0,0,0,0,1,0,0,0,0,0,0,0,0,0,0,0,1,0,0,0,0,0,0,0,0,0,1,1,0,0,0,0,0,0,0,0,0,0,0,0,0,0,0,0,0,0,0,0,0,0,1,0,0,0,0,0,0,0,0,0,0,0,0,0,0,0,0,0,0,0,0,0,1,0,0,0,0,0,0,1,0,0,0,0,0,0,0,0,0,0,0,0,0,0,0,0,0,0,0,0,0,0,0,0,0,0,0,0,0,0,0,0,0,0,0,0,0,0,0,0,0,0,0,0,0,0,0,0,0,0,0,0,0,0,0,0,0,0,0,0,0,0,0,0,0,0,0,0,0,0,0,0,0,1,0,0,0,0,0,0,0,0,0,0,0,0,1,0,0,0,0,0,0,0,0,0,0,0,0,0,0,0,1,0,0,0,0,0,0,0,0,0,0,0,0,0,0,0,0,0,0,0,0,0,0,0,0,0,0,0,0,0,0,0,0,0,0,0,0,0,0,0,0,0,0,0,0,0,0,0,0,0,0,0,0,0,0,0,0,0,0,0,0,0,0,0,0,0,0,0,0,0,0,0,0,0,0,0,0,0,0,0,0,0,0,0,0,0,0,0,0,0,0,0,0,1,0,0,0,0,0,0,0,0,0,0,0,0,0,0,0,0,0,0,0,0,0,0,0,0,0,0,0,0,0,0,0,0,0,0,0,0,0,0,0,0,0,1,0,1,0,0,0,0,0,0,0,0,0,0,0,0,0,0,0,1,0,0,0,0,0,0,0,0,0,0,0,0,0,0,0,0,0,0,0,0,0,0,0,0,0,0,0,0,0,0,0,0,0,0,0,0,0],\"coloraxis\":\"coloraxis\",\"opacity\":0.7,\"symbol\":\"circle\"},\"mode\":\"markers\",\"name\":\"\",\"scene\":\"scene\",\"showlegend\":false,\"x\":[2.11234974861145,3.9870498180389404,3.093583345413208,-5.115687847137451,4.27400016784668,-6.783107757568359,1.3756440877914429,-4.317103862762451,-6.5370306968688965,-6.857078552246094,0.794128954410553,0.26620200276374817,3.4785990715026855,0.5816173553466797,-5.212499141693115,-1.9650710821151733,-0.7269706726074219,0.35816287994384766,3.7237906455993652,-6.1688337326049805,88.76808166503906,11.635136604309082,-1.019455075263977,4.2936110496521,2.2162890434265137,0.9715742468833923,-2.5485100746154785,2.9183034896850586,-0.05228867381811142,2.5868570804595947,1.7356884479522705,-5.364184379577637,1.241215467453003,2.608506917953491,0.7611153721809387,1.554535984992981,-3.607666492462158,-5.630006313323975,-2.832411050796509,-6.0197553634643555,-5.40878963470459,-0.8485073447227478,1.9671465158462524,-4.622290134429932,-6.433684825897217,1.9563987255096436,13.999496459960938,-6.324991703033447,-6.053444862365723,-5.913008213043213,-2.921780586242676,-5.684853553771973,-3.6464664936065674,2.81449818611145,-0.6667801737785339,-1.7963759899139404,2.929659605026245,-1.8172022104263306,-7.142367839813232,13.40703010559082,8.252163887023926,13.11132526397705,-2.1356961727142334,11.906160354614258,-5.145923614501953,-1.8575456142425537,10.937955856323242,1.4367477893829346,11.484086036682129,-5.569204330444336,1.4956871271133423,12.91843318939209,0.41270193457603455,-4.918575763702393,-6.569416046142578,0.8740702867507935,-6.277587890625,1.052544116973877,3.8053207397460938,-6.765909194946289,-2.94303297996521,-6.423040866851807,5.409908771514893,3.6099977493286133,-5.669611930847168,1.8419488668441772,-3.100318670272827,1.7091010808944702,-6.083150386810303,-2.9898579120635986,-2.4737765789031982,-0.42097264528274536,-5.210049152374268,-6.309420108795166,-0.866222620010376,3.6488537788391113,-2.051190137863159,8.907862663269043,-2.3190927505493164,-3.1916213035583496,-4.210225582122803,14.044244766235352,-5.606899261474609,9.19682788848877,6.319906234741211,-5.364728927612305,-2.9694435596466064,-5.327023506164551,4.600613594055176,-2.358095645904541,8.831061363220215,-4.2930707931518555,-3.872988700866699,7.905008316040039,12.916903495788574,-6.071766376495361,13.305689811706543,-0.8565968871116638,0.3593834936618805,2.6804592609405518,-2.056572198867798,2.037914991378784,5.468189716339111,-3.3937253952026367,-6.321500778198242,-5.266656875610352,-4.801010608673096,2.76906156539917,-2.375513792037964,3.2425291538238525,-4.807919502258301,0.153218075633049,0.942307710647583,0.29241228103637695,1.8296798467636108,-6.911539077758789,-4.511541843414307,1.627915859222412,-1.7976808547973633,3.811211585998535,10.289612770080566,0.8021048903465271,-1.3648178577423096,-6.682981967926025,3.990140199661255,-2.401594877243042,-6.13041877746582,-1.4843955039978027,-3.3225739002227783,-5.413978099822998,-7.19613790512085,13.831640243530273,7.702590465545654,3.4467899799346924,-6.557765007019043,-5.6730241775512695,2.2020998001098633,1.7309430837631226,-4.155807971954346,1.6198090314865112,-4.335003852844238,3.1373183727264404,3.3251261711120605,-5.776134490966797,5.078243732452393,-1.4972087144851685,5.361311435699463,1.5314688682556152,0.7717686295509338,-1.5730899572372437,-4.878007888793945,-3.3305885791778564,-0.10275153070688248,5.900933742523193,5.810391426086426,13.705117225646973,7.475350856781006,1.323188304901123,-6.431303977966309,-5.818334102630615,5.624194145202637,3.7916953563690186,0.2651773989200592,1.3730477094650269,-0.7819762825965881,5.007720470428467,2.2407572269439697,-3.022170305252075,-0.9800674915313721,-4.996647357940674,-4.4590559005737305,-4.878015518188477,11.880417823791504,-6.750096321105957,-2.1537575721740723,-6.450175762176514,-4.883707523345947,3.2215089797973633,2.435044288635254,-1.6234554052352905,-6.735715389251709,2.360365390777588,5.408750534057617,-1.3784611225128174,-6.934663772583008,-0.679770827293396,10.642553329467773,2.0063486099243164,-6.627995014190674,-0.46940022706985474,4.159924507141113,-4.8612213134765625,6.144595623016357,2.1072347164154053,-4.329375743865967,-5.435614585876465,-3.8384196758270264,6.517855167388916,3.251187801361084,3.6970925331115723,-6.2648138999938965,-6.316893100738525,8.136589050292969,0.25718459486961365,-6.481694221496582,-2.868666172027588,6.912006855010986,-1.4824148416519165,-6.798274040222168,-6.809971809387207,2.0208945274353027,2.292529344558716,1.199125051498413,3.9834752082824707,10.654740333557129,-4.7975873947143555,4.979798793792725,4.071309566497803,-4.094007968902588,1.1795235872268677,-5.818448066711426,-5.04219388961792,0.9731442928314209,-5.519713401794434,3.4056780338287354,6.2842607498168945,-6.349150657653809,-6.4636969566345215,3.3356611728668213,-0.7155317664146423,4.145440578460693,-1.955952525138855,3.0553345680236816,2.2675604820251465,2.833216905593872,-4.478465557098389,3.042651891708374,-0.8219199776649475,0.09069211781024933,-0.07693599909543991,3.7521491050720215,2.3409316539764404,2.0133919715881348,0.13453684747219086,1.1652491092681885,4.768986701965332,5.015769958496094,-5.955384254455566,-6.360668659210205,5.771021842956543,-4.1742119789123535,2.2537050247192383,4.515568733215332,9.580609321594238,2.387058734893799,-0.42901504039764404,2.0886716842651367,3.6423983573913574,-5.680994987487793,-5.281606197357178,2.3308072090148926,-3.7971184253692627,2.55816388130188,0.9319343566894531,-6.478578567504883,-5.679854869842529,-5.047153949737549,25.703622817993164,3.499187707901001,1.9056179523468018,-3.074049711227417,-1.4774454832077026,-6.28436279296875,-3.1523804664611816,-5.424354076385498,-5.4439377784729,6.209504127502441,-4.6499552726745605,-3.5467569828033447,7.035785675048828,3.190854787826538,-5.673593521118164,1.9916903972625732,7.934055805206299,-0.537099301815033,-0.05211858078837395,-6.381466865539551,12.873564720153809,-6.337921142578125,-6.701627731323242,-0.3263742923736572,-2.3040413856506348,-6.807742595672607,1.137325644493103,13.89199447631836,-5.021234035491943,-3.3998537063598633,1.7663336992263794,12.362275123596191,-3.7964086532592773,7.125569820404053,4.002583026885986,-6.438056945800781,3.5079236030578613,-6.094674587249756,-5.898388862609863,-4.238627910614014,-3.572521924972534,0.9803755283355713,1.3107168674468994,0.7354890704154968,-6.740044116973877,3.5966413021087646,-0.3365787863731384,-5.336650848388672,1.3305028676986694,-6.100788593292236,1.4851654767990112,7.706174373626709,5.1200995445251465,-2.9194223880767822,9.79069995880127,3.625917911529541,3.3969597816467285,-2.649136781692505,8.902432441711426,-5.6020331382751465,-2.077629327774048,0.6344455480575562,-1.533818006515503,-4.394016742706299,0.22241249680519104,5.384548664093018,-0.5805169343948364,2.7209014892578125,-5.24992036819458,-6.179632186889648,-5.11116361618042,12.302325248718262,5.5730977058410645,-5.922370910644531,-6.549745559692383,-6.04260778427124,1.371322751045227,-6.176900863647461,3.867826223373413,3.528719186782837,-6.650593280792236,4.844254970550537,4.575765609741211,1.3237059116363525,-0.7359601259231567,4.690794944763184,4.058559417724609,-5.522536277770996,0.5865104794502258,8.910719871520996,-5.662520885467529,-5.493979454040527,-0.5605061650276184,0.8676256537437439,3.2115015983581543,-1.7594772577285767,-6.424489498138428,-6.268399715423584,-2.6079132556915283,-4.198078155517578,-4.953510761260986,2.747077465057373,3.725889205932617,7.02855920791626,11.938506126403809,-0.06962087005376816,4.336475372314453,-5.547316551208496,-4.591257572174072,-6.0865068435668945,-5.78028678894043,-0.27317285537719727,-5.3557515144348145,2.443180561065674,-6.120180606842041,-6.615621089935303,-6.287631988525391,-4.266594886779785,1.2935867309570312,0.9201751947402954,-7.310422897338867,38.57490921020508,-6.556159019470215,-2.651641607284546,1.3730541467666626,12.14758586883545,-1.383144497871399,-0.6797967553138733,-3.4136455059051514,9.529098510742188,-0.011694530956447124,-5.759440898895264,2.1824047565460205,-2.8068110942840576,-2.91422963142395,0.5092614889144897,-20.2254695892334,7.897402763366699,8.27197265625,4.503679275512695,0.21306706964969635,4.589563846588135,-6.0152587890625,-1.4395484924316406,-3.632227897644043,3.949054718017578,2.2889280319213867,-2.0668749809265137,-4.176050186157227,-6.930931568145752,-4.436708450317383,-5.0442657470703125,-4.6989006996154785,0.9633827209472656,1.8384438753128052,-5.555521488189697,8.315086364746094,2.485827922821045,-3.0884432792663574,1.5525838136672974,-1.8463690280914307,-2.5197064876556396,4.2759222984313965,-2.5302140712738037,3.605900764465332,-3.7024073600769043,-3.264385223388672,-6.773823261260986,-5.677448749542236,-3.633284568786621,-6.795070648193359,-6.90816593170166,9.881009101867676,0.45642271637916565,5.584395885467529,-3.31481671333313,-1.0152013301849365,-6.5799736976623535,-6.357708930969238,-6.586136341094971,8.305346488952637,1.5019704103469849,-3.2542810440063477,7.975046634674072,-6.780555248260498,-1.5106831789016724,-6.673779487609863,4.290937900543213,-6.511776924133301,-4.018186092376709,-4.914626121520996,1.1198625564575195,1.124109148979187,-5.309610366821289,-4.4229655265808105,-6.2951226234436035,-5.846252918243408,0.08626113086938858,-6.0800347328186035,-2.221815586090088,2.6243062019348145,-4.767763137817383,1.4709498882293701,-6.660394668579102,2.9941959381103516,1.8334378004074097,-4.412801742553711,-6.586112022399902,-1.7954388856887817,-6.77035665512085,-6.552169322967529,1.7875667810440063,4.161273002624512,-1.5054395198822021,-4.8277268409729,-5.309787273406982,5.006466865539551,12.380938529968262,11.080498695373535,-3.3099160194396973,5.31816291809082,1.1383229494094849,-0.3287876844406128,0.11731315404176712,-2.024538278579712,-5.038400173187256,-2.4216198921203613,-1.06183660030365,0.6154047250747681,1.962830662727356,3.307497501373291,-6.93516731262207,-6.846954822540283,11.327349662780762,5.336307525634766,3.5770950317382812,-5.817742347717285,8.40832233428955,13.289380073547363,-6.336765766143799,-5.414355754852295,-5.177584171295166,-4.989051342010498,-4.870400905609131,-5.039276599884033,-5.402164936065674,4.252307415008545,5.5026397705078125,3.9737331867218018,-3.7591769695281982,-0.5219293832778931,13.810928344726562,14.008254051208496,1.9815905094146729,-2.6337637901306152,-2.204387664794922,-6.906145095825195,-5.375237464904785,-5.731958389282227,7.488577842712402,9.007658004760742,9.12208366394043,-0.42978814244270325,5.405511856079102,3.710894823074341,-5.822591304779053,12.371177673339844,-5.96856689453125,9.07085132598877,9.590921401977539,10.862788200378418,-3.01658034324646],\"y\":[4.049378395080566,3.704728364944458,1.5547934770584106,6.392880916595459,0.7581242918968201,-5.6108269691467285,-0.18727438151836395,-9.80390739440918,-6.661873817443848,-5.0383687019348145,-7.393281936645508,-6.0482306480407715,-2.498330593109131,-10.845451354980469,-7.8813676834106445,-10.319962501525879,-8.066438674926758,-5.817042827606201,5.010657787322998,-7.9658355712890625,85.46247100830078,9.145938873291016,-9.957181930541992,5.216825485229492,4.387418746948242,-2.932086944580078,-10.82974624633789,-2.0751540660858154,-6.539037227630615,-5.0468316078186035,0.526022732257843,-8.779468536376953,-4.27811336517334,2.4279091358184814,-6.260514736175537,-5.891310214996338,-11.355172157287598,2.4062483310699463,-12.339127540588379,-8.054542541503906,-9.276305198669434,8.4615478515625,0.4705366790294647,-9.48432731628418,-7.0419440269470215,-0.5216938853263855,8.512682914733887,-7.284040451049805,2.966951370239258,-7.15177059173584,7.292625904083252,-6.6552934646606445,6.675905227661133,-3.3893790245056152,-9.248977661132812,8.034521102905273,4.4093194007873535,-9.767165184020996,-2.4350008964538574,9.206490516662598,8.28488540649414,8.533350944519043,-10.092610359191895,9.207823753356934,-9.04727840423584,-10.599908828735352,8.803390502929688,9.266181945800781,9.018230438232422,2.652113437652588,3.31803560256958,9.318068504333496,-0.23000352084636688,-10.046402931213379,0.6557122468948364,-6.359673023223877,-3.0656120777130127,-0.5079763531684875,0.9982802867889404,-1.4402565956115723,7.5340704917907715,-1.6573538780212402,5.108131408691406,-2.7222964763641357,4.00204610824585,-0.19145406782627106,-11.852285385131836,0.25060227513313293,3.0585577487945557,-12.107231140136719,-12.000746726989746,-11.64807415008545,-9.519132614135742,-7.050711631774902,-9.3330659866333,2.1259689331054688,7.440659046173096,8.87441349029541,8.065974235534668,-11.549331665039062,-9.816957473754883,7.6667914390563965,5.037729740142822,9.115629196166992,9.158458709716797,-9.27286148071289,7.507537841796875,5.0237135887146,5.013328552246094,7.891727924346924,8.781939506530762,5.300329208374023,-10.15628719329834,8.943106651306152,9.009344100952148,3.308044910430908,8.933855056762695,-8.456991195678711,-6.23347806930542,-4.472553730010986,8.466999053955078,-0.7305412888526917,4.452134609222412,-10.845651626586914,-3.921027183532715,-9.101602554321289,-9.91584300994873,-0.4438666105270386,-11.81942081451416,0.34888678789138794,4.993403911590576,-7.567868709564209,-7.0112481117248535,-10.528103828430176,-0.16624030470848083,-2.935520887374878,5.690722942352295,9.31736946105957,-10.31571102142334,9.075875282287598,9.235834121704102,-6.315556526184082,8.307276725769043,-2.6781513690948486,9.167795181274414,7.457768440246582,3.006624221801758,-12.247112274169922,-11.013663291931152,-8.972395896911621,-1.8382376432418823,8.629901885986328,8.131392478942871,9.14587116241455,-5.746273994445801,3.8480682373046875,-4.289967060089111,-8.7608642578125,5.989283084869385,8.927342414855957,5.795151710510254,-0.7682587504386902,4.671619892120361,4.463574409484863,5.025646209716797,-11.809566497802734,9.528512954711914,-5.3683600425720215,-0.16190625727176666,-11.945399284362793,4.465169429779053,-9.50593090057373,-8.244175910949707,9.423270225524902,9.269035339355469,8.867697715759277,8.877633094787598,-9.456578254699707,-1.679667592048645,1.5595403909683228,4.86914587020874,4.334485054016113,-6.449199676513672,8.848151206970215,-9.99215316772461,8.995383262634277,-2.391127109527588,7.3857622146606445,8.297181129455566,4.694355487823486,-10.273724555969238,0.6828240752220154,8.921404838562012,-5.824265956878662,-11.88405704498291,-0.6806429624557495,-10.1987943649292,-4.2672271728515625,1.1092369556427002,-8.997581481933594,-0.05360068008303642,-4.816044330596924,4.301694393157959,-8.154694557189941,-4.041876792907715,-9.792634010314941,8.999757766723633,-5.664099216461182,-3.3889877796173096,-10.550714492797852,1.4836186170578003,5.955511569976807,4.739612579345703,-8.674223899841309,-10.762528419494629,-9.040600776672363,6.659261703491211,9.072830200195312,4.061755180358887,5.08238410949707,-8.034981727600098,-7.117674350738525,9.095817565917969,-8.349651336669922,-6.979051113128662,-11.108222961425781,9.231709480285645,-11.857399940490723,-1.1311461925506592,-5.182713985443115,-5.987060546875,10.09632682800293,10.14832592010498,3.21947979927063,9.102155685424805,-9.413773536682129,5.248636722564697,2.239882707595825,-10.611153602600098,-3.3968772888183594,-7.712895393371582,4.537003040313721,9.257673263549805,-8.998115539550781,-1.5693283081054688,9.146139144897461,-2.2260477542877197,-2.4993367195129395,9.05195426940918,8.542902946472168,4.182326316833496,7.878132343292236,3.4890575408935547,-5.304898262023926,3.728755235671997,-10.555900573730469,3.4799206256866455,-10.709342002868652,-6.30149507522583,-9.120749473571777,2.9793879985809326,-5.305379390716553,-4.464681625366211,-9.707494735717773,-3.0858001708984375,5.172700881958008,9.160649299621582,-6.226182460784912,-0.3033182919025421,9.20715045928955,-9.486998558044434,8.975606918334961,5.049551010131836,9.092193603515625,-3.659313440322876,8.18326473236084,9.079861640930176,-3.426138401031494,-8.64591121673584,-7.683178424835205,1.3681915998458862,5.993900775909424,0.5536844730377197,-8.959486961364746,-0.255892276763916,2.65533185005188,5.390187740325928,39.34805679321289,9.159565925598145,9.481664657592773,-12.347954750061035,-11.947189331054688,0.4681735932826996,7.21148681640625,3.158839225769043,-7.265481948852539,9.409762382507324,5.028942108154297,-11.367341041564941,8.21834659576416,4.175209045410156,4.255319118499756,1.8332196474075317,9.172073364257812,8.626733779907227,8.879799842834473,-3.637133836746216,8.709527969360352,-7.721649646759033,-5.266003131866455,8.647021293640137,-11.763225555419922,-1.1374403238296509,8.97043514251709,8.431354522705078,4.248579025268555,6.359294414520264,-1.7856618165969849,8.737006187438965,5.7314839363098145,8.984569549560547,1.3244166374206543,-0.12810319662094116,3.6715664863586426,2.7058475017547607,1.9764068126678467,-10.247513771057129,6.604630470275879,-7.688853740692139,-9.540178298950195,-8.469510078430176,-2.3819525241851807,9.510290145874023,8.706536293029785,5.0431108474731445,-3.8954579830169678,1.1011302471160889,3.3216471672058105,9.148778915405273,5.224165439605713,-11.20130443572998,9.073524475097656,9.285072326660156,-0.11463602632284164,7.505827903747559,8.711141586303711,4.338429927825928,-11.236420631408691,8.989489555358887,7.967522621154785,6.170233249664307,-10.644903182983398,4.9921441078186035,-8.96790599822998,8.772889137268066,3.836944818496704,0.057049885392189026,-8.645491600036621,9.272428512573242,8.866991996765137,1.2337132692337036,-3.2103490829467773,1.3887274265289307,-9.141497611999512,-5.8364176750183105,2.478184223175049,1.4050145149230957,0.4105765223503113,5.232916355133057,4.769924163818359,-6.882579326629639,-11.801189422607422,0.6277171969413757,3.665342092514038,-7.306802749633789,-10.964333534240723,9.021077156066895,-6.6259026527404785,-7.02272891998291,8.556805610656738,8.929369926452637,9.228960037231445,7.697210311889648,1.3795959949493408,-3.202188730239868,-11.496346473693848,5.635913372039795,-9.58287239074707,9.131422996520996,-2.386049509048462,9.291029930114746,9.065865516662598,-5.896618366241455,4.333853244781494,4.524143695831299,-8.944337844848633,-6.480142593383789,0.29993101954460144,8.694238662719727,4.876357078552246,-3.818636894226074,2.810307502746582,-2.3403573036193848,0.9255400896072388,5.251235008239746,9.001058578491211,-10.021916389465332,-3.030285596847534,4.811152935028076,0.8106482028961182,7.792596817016602,9.081124305725098,8.668359756469727,-11.497440338134766,-10.631921768188477,7.030333518981934,8.784795761108398,-0.26313212513923645,2.2500698566436768,9.416047096252441,7.598204612731934,-12.326555252075195,8.879382133483887,-2.1929643154144287,8.337929725646973,9.327686309814453,9.05795955657959,8.767424583435059,9.454423904418945,0.784164309501648,-11.973398208618164,6.1123833656311035,-0.4326866865158081,-0.05756590515375137,-11.716922760009766,-10.309574127197266,-1.8267717361450195,-10.131036758422852,-9.532952308654785,-8.940227508544922,8.984207153320312,-4.703591346740723,-8.731903076171875,9.056441307067871,-3.980919122695923,7.241335391998291,-2.6320528984069824,-11.873567581176758,-11.799540519714355,4.078561782836914,7.56032657623291,-1.3455802202224731,7.261405944824219,-10.969799041748047,-1.3173688650131226,-6.964181900024414,7.407278537750244,-3.4815118312835693,-2.5257928371429443,8.593961715698242,-0.3598978519439697,4.597283840179443,-10.81148624420166,8.460445404052734,-6.009381294250488,-7.339719772338867,-6.024545192718506,9.007040023803711,-2.646123170852661,7.105689525604248,9.017532348632812,4.327851295471191,-10.940845489501953,4.334208011627197,9.260652542114258,-0.561323344707489,-10.95478630065918,-9.346677780151367,9.136591911315918,-9.992474555969238,4.991489887237549,-10.563714027404785,-5.451833248138428,-7.473892688751221,-11.283469200134277,2.090481758117676,-11.838316917419434,1.6847907304763794,5.850593566894531,-8.16541862487793,0.28136640787124634,-4.74552059173584,-2.523930788040161,4.97227668762207,-4.210355758666992,-11.84611701965332,-0.9346202611923218,0.4941624402999878,-0.35768789052963257,2.377913236618042,-11.613157272338867,-10.14613151550293,4.026766300201416,5.264712810516357,9.327991485595703,9.189849853515625,6.6982526779174805,9.375344276428223,-10.102264404296875,-10.80926513671875,8.602448463439941,-11.531109809875488,-9.641124725341797,-11.416208267211914,-10.13344955444336,9.032901763916016,-1.4832340478897095,0.9902501702308655,-4.007091522216797,-1.0357427597045898,9.198976516723633,5.158269882202148,9.771479606628418,-7.86247444152832,9.23566722869873,9.080708503723145,-7.448787212371826,3.496553421020508,-7.729977607727051,5.035856246948242,5.617098808288574,6.2738189697265625,-9.224218368530273,1.3825552463531494,9.360461235046387,2.7511301040649414,-10.423941612243652,8.891287803649902,8.240646362304688,7.965522289276123,9.071417808532715,-11.646952629089355,-12.043471336364746,-3.404167413711548,-8.148580551147461,-8.547527313232422,9.190319061279297,9.001453399658203,8.97524356842041,8.589542388916016,9.216750144958496,9.544586181640625,-0.367169588804245,8.851646423339844,-0.5791646838188171,9.231319427490234,8.929619789123535,8.6031494140625,-10.994547843933105],\"z\":[-12.558507919311523,-11.730792045593262,-10.166852951049805,3.1616709232330322,-9.111639976501465,3.6196515560150146,-9.039085388183594,-0.9676886200904846,3.5659000873565674,4.069815635681152,-5.00625467300415,-6.531002044677734,-7.117689609527588,-1.2935543060302734,6.068446159362793,-2.4432289600372314,-4.875202655792236,-6.636927127838135,-13.589004516601562,5.305492877960205,-18.303327560424805,-1.8416404724121094,-3.231764316558838,-14.127144813537598,-13.016753196716309,-7.955713748931885,-1.3679890632629395,-7.604388236999512,-6.340907096862793,-6.084047794342041,-9.831591606140137,-0.6961638927459717,-7.035696983337402,-10.945671081542969,-6.293482780456543,-5.824958324432373,1.6955868005752563,9.950294494628906,4.620498180389404,3.7581989765167236,1.9834191799163818,1.9326581954956055,-9.750663757324219,-0.9385963678359985,3.5621230602264404,-8.874197006225586,-3.4219908714294434,3.209062337875366,5.509449481964111,5.751433372497559,5.251418590545654,7.962385654449463,5.904919147491455,-6.9428229331970215,-3.833796739578247,4.186849594116211,-12.765735626220703,-3.1259710788726807,7.967852592468262,-3.1856791973114014,-0.37773674726486206,-3.321316957473755,-2.8146860599517822,-2.320035219192505,-0.6879472136497498,-2.123640775680542,-2.071129083633423,3.8235952854156494,-2.7174553871154785,9.26739501953125,-11.862646102905273,-2.682424545288086,-9.720367431640625,1.1228363513946533,5.800927639007568,-5.6982269287109375,9.438986778259277,-9.494176864624023,-9.384586334228516,7.098174571990967,3.347805976867676,8.150616645812988,-14.197833061218262,-6.895117282867432,5.454677581787109,-9.328709602355957,1.5188438892364502,-9.198202133178711,6.582787990570068,1.793802261352539,1.7928402423858643,0.3816082775592804,0.45296868681907654,5.686253070831299,-3.801729917526245,-10.4268217086792,6.92618465423584,-1.032863736152649,4.358107089996338,0.8216399550437927,-1.0835200548171997,-3.678520679473877,7.049109935760498,-0.7434930801391602,1.0109295845031738,0.37791720032691956,3.987210988998413,7.745182037353516,-13.453598976135254,3.189420223236084,-1.303726077079773,8.665574073791504,5.56899881362915,0.9666880369186401,-3.2703185081481934,5.087864398956299,-2.5352392196655273,-4.529491424560547,-6.27553653717041,-6.311474323272705,3.8158493041992188,-8.816070556640625,-12.748807907104492,4.1620378494262695,8.515887260437012,4.798125267028809,0.08701956272125244,-8.700695037841797,3.521759271621704,-9.108156204223633,6.885962963104248,-5.081666946411133,-5.274632930755615,-2.0682103633880615,-8.936537742614746,5.95043420791626,4.131976127624512,4.3369622230529785,-3.3739044666290283,3.550598382949829,-1.244752287864685,-5.813192367553711,3.589198589324951,6.4536919593811035,1.7360771894454956,5.7110795974731445,4.906162261962891,1.565877914428711,3.5196211338043213,4.756943702697754,7.933795928955078,-3.5834102630615234,-1.169491171836853,3.1537721157073975,6.444052696228027,6.608321189880371,-6.875620365142822,-3.485246181488037,6.71999979019165,2.13364839553833,3.9109623432159424,-8.388357162475586,-13.066941261291504,7.236070156097412,-13.666280746459961,2.677403211593628,2.0525825023651123,-6.203511714935303,-9.692648887634277,2.2285962104797363,7.401088714599609,-2.3262946605682373,-4.584915637969971,2.6055188179016113,1.6005932092666626,-2.9337005615234375,-0.8111094236373901,-2.954306125640869,8.777029037475586,9.29327392578125,-15.278508186340332,-12.382439613342285,-6.352508068084717,4.45449686050415,-3.0065441131591797,0.2524396777153015,-7.607085227966309,4.689515113830566,5.7361626625061035,7.436607360839844,3.380110263824463,8.69148063659668,-1.4825165271759033,3.361255645751953,2.563646078109741,8.658326148986816,1.3686364889144897,-6.188296318054199,-9.946328163146973,-3.9329586029052734,5.267733573913574,-5.883751392364502,-12.483777046203613,-4.884946823120117,4.787797927856445,-3.2922635078430176,-1.0599074363708496,-5.763620853424072,7.425309658050537,-2.290947437286377,-9.675215721130371,4.822757720947266,-14.360824584960938,-3.4273197650909424,1.2665249109268188,3.60089111328125,5.340641975402832,0.3050316572189331,-12.004215240478516,-13.754498481750488,5.675549030303955,6.560983657836914,-0.0713125541806221,-4.404793739318848,5.102853775024414,-0.754335343837738,0.7882919311523438,1.6100112199783325,6.458181858062744,4.371413230895996,-5.481959342956543,3.757737159729004,3.0830748081207275,-11.231915473937988,-1.6297576427459717,5.487264156341553,-14.932249069213867,-10.405293464660645,3.440047264099121,-7.546937465667725,6.98306941986084,8.389631271362305,3.3739938735961914,5.944263458251953,-7.730081558227539,1.0626485347747803,9.215765953063965,6.5269083976745605,1.270344614982605,4.300619125366211,-11.949212074279785,4.035479545593262,-11.706526756286621,-5.782555103302002,-11.965250968933105,0.8191385269165039,-11.656835556030273,-2.3764865398406982,-5.55384635925293,-3.8786849975585938,-11.054926872253418,-5.8247528076171875,-6.738289833068848,-3.1880955696105957,-7.725022792816162,-15.524232864379883,1.299414038658142,7.596480369567871,8.662911415100098,1.347474217414856,6.720474720001221,3.587928295135498,-13.531070709228516,-1.1974425315856934,-6.716163158416748,6.492433547973633,4.149178981781006,-6.439790725708008,3.971543312072754,7.654426097869873,-10.224767684936523,4.319267272949219,-9.360718727111816,-3.625624656677246,8.825056076049805,8.531122207641602,5.578495979309082,32.61671447753906,4.108993053436279,3.970492124557495,3.6677403450012207,1.551310658454895,9.141768455505371,5.778465270996094,8.912797927856445,7.97845458984375,2.353721857070923,3.9754953384399414,0.9892826080322266,33.28744125366211,-12.29871654510498,7.8654351234436035,-16.715442657470703,1.007964015007019,4.137763023376465,5.265811443328857,7.896019458770752,-2.557114362716675,6.074687957763672,6.345834255218506,5.2759294509887695,0.22281554341316223,7.179116725921631,5.060142517089844,-3.0108251571655273,8.59071159362793,7.718308925628662,-8.224217414855957,-2.8722472190856934,8.544780731201172,0.38438665866851807,-9.806109428405762,8.244715690612793,-11.522063255310059,5.886355876922607,8.403024673461914,4.043618679046631,6.564041614532471,-4.680816173553467,-2.8777267932891846,-4.141241550445557,6.867755889892578,3.5132267475128174,3.2867696285247803,7.548876762390137,-7.226906776428223,9.480835914611816,-11.868595123291016,-0.27441057562828064,-14.86160659790039,-0.444587767124176,-1.584344506263733,2.6642518043518066,-8.7376070022583,4.776547908782959,0.4091111421585083,5.64766263961792,-0.9627109169960022,4.399116516113281,5.640439510345459,4.285341739654541,-1.9817544221878052,-15.315221786499023,-4.120477199554443,3.514660120010376,8.73428726196289,8.88092041015625,6.56583309173584,-3.0292820930480957,-0.6369855403900146,8.130035400390625,8.689568519592285,8.58219051361084,-3.274183988571167,7.416598320007324,-10.653956413269043,-9.7886381149292,5.388576507568359,-15.24731159210205,-13.013771057128906,-5.161688327789307,1.030337929725647,-8.89684009552002,-11.677299499511719,7.592326641082764,-1.0140981674194336,1.1864503622055054,6.657381534576416,8.063509941101074,1.809564471244812,3.2222800254821777,2.5783209800720215,6.854529857635498,5.725303649902344,8.57318115234375,3.689401626586914,7.691417694091797,4.016269683837891,3.8751749992370605,-7.07484769821167,0.34953492879867554,-3.2101259231567383,-6.848481178283691,-12.35555648803711,5.719586372375488,6.98085355758667,6.982598781585693,8.626361846923828,2.6273109912872314,4.772501468658447,-6.486971855163574,5.202275276184082,7.9703240394592285,9.13027286529541,8.23468017578125,2.2031352519989014,-2.4661312103271484,6.470793724060059,-75.5140151977539,5.63822603225708,3.154804229736328,2.433626651763916,-1.9768255949020386,-0.5492197275161743,-2.3413240909576416,5.6931586265563965,-2.0250306129455566,-9.914950370788574,8.830363273620605,2.9327993392944336,3.877856492996216,1.6303521394729614,4.7475972175598145,-19.72555160522461,-1.45521879196167,-0.3809286952018738,0.8288102149963379,1.8142672777175903,2.9974441528320312,8.535215377807617,0.5695030689239502,8.00296401977539,-8.34054183959961,-9.378381729125977,2.9354751110076904,-0.38796770572662354,7.0063042640686035,3.926254987716675,3.7687981128692627,6.845901966094971,2.265850067138672,-6.416733264923096,5.848609924316406,1.2373855113983154,-6.283331394195557,6.3730669021606445,-7.7916259765625,0.7338951230049133,0.6695848107337952,-12.087774276733398,5.878318786621094,-7.811268329620361,6.421261787414551,4.024372577667236,6.0385870933532715,5.216945648193359,3.7891013622283936,8.049229621887207,7.506776809692383,-1.0948898792266846,-9.66781997680664,-15.819704055786133,4.60031795501709,4.688004493713379,6.028878688812256,3.7971200942993164,5.859659194946289,-1.4855105876922607,-7.881316661834717,3.7565724849700928,-1.3492575883865356,5.887653350830078,-1.6688766479492188,6.790738582611084,2.022217035293579,8.064457893371582,0.7586042881011963,5.269351959228516,4.60573148727417,-2.395570755004883,6.77680778503418,0.6844078302383423,7.407538890838623,6.701061725616455,-0.4947429299354553,7.2153639793396,0.63863605260849,-10.360554695129395,4.192036151885986,-4.1081953048706055,5.525724411010742,-5.8886942863464355,-7.783824920654297,8.513376235961914,7.500504016876221,2.6479742527008057,5.882403373718262,6.2154951095581055,-9.411548614501953,-10.486249923706055,-0.2662332057952881,2.045590400695801,8.11964225769043,-14.607285499572754,-2.598695755004883,-1.8992400169372559,7.165462493896484,2.4350857734680176,-2.216275691986084,-1.8981436491012573,5.658881664276123,3.471362590789795,0.1646956503391266,-0.47616779804229736,-2.9320547580718994,3.549636125564575,-8.336540222167969,-9.631357192993164,4.944962978363037,6.471771240234375,-2.470674514770508,-14.349204063415527,3.3566925525665283,5.831030368804932,-1.1045708656311035,-3.4310545921325684,4.572329044342041,7.185150146484375,8.354619979858398,6.010551929473877,4.194085597991943,4.187807083129883,2.6636502742767334,-9.611011505126953,2.426286220550537,-10.83816146850586,4.86599588394165,4.490006923675537,-3.7965006828308105,-3.6585216522216797,4.529953479766846,1.5039012432098389,0.8635870814323425,8.194086074829102,6.763016700744629,4.376930236816406,0.5052766799926758,0.47620517015457153,-1.4788572788238525,1.7256431579589844,2.038892984390259,3.016059637069702,9.23921012878418,-2.124544620513916,9.255859375,0.4645061194896698,-0.07748552411794662,-2.195760488510132,4.499454975128174],\"type\":\"scatter3d\"}],                        {\"template\":{\"data\":{\"bar\":[{\"error_x\":{\"color\":\"#2a3f5f\"},\"error_y\":{\"color\":\"#2a3f5f\"},\"marker\":{\"line\":{\"color\":\"#E5ECF6\",\"width\":0.5},\"pattern\":{\"fillmode\":\"overlay\",\"size\":10,\"solidity\":0.2}},\"type\":\"bar\"}],\"barpolar\":[{\"marker\":{\"line\":{\"color\":\"#E5ECF6\",\"width\":0.5},\"pattern\":{\"fillmode\":\"overlay\",\"size\":10,\"solidity\":0.2}},\"type\":\"barpolar\"}],\"carpet\":[{\"aaxis\":{\"endlinecolor\":\"#2a3f5f\",\"gridcolor\":\"white\",\"linecolor\":\"white\",\"minorgridcolor\":\"white\",\"startlinecolor\":\"#2a3f5f\"},\"baxis\":{\"endlinecolor\":\"#2a3f5f\",\"gridcolor\":\"white\",\"linecolor\":\"white\",\"minorgridcolor\":\"white\",\"startlinecolor\":\"#2a3f5f\"},\"type\":\"carpet\"}],\"choropleth\":[{\"colorbar\":{\"outlinewidth\":0,\"ticks\":\"\"},\"type\":\"choropleth\"}],\"contour\":[{\"colorbar\":{\"outlinewidth\":0,\"ticks\":\"\"},\"colorscale\":[[0.0,\"#0d0887\"],[0.1111111111111111,\"#46039f\"],[0.2222222222222222,\"#7201a8\"],[0.3333333333333333,\"#9c179e\"],[0.4444444444444444,\"#bd3786\"],[0.5555555555555556,\"#d8576b\"],[0.6666666666666666,\"#ed7953\"],[0.7777777777777778,\"#fb9f3a\"],[0.8888888888888888,\"#fdca26\"],[1.0,\"#f0f921\"]],\"type\":\"contour\"}],\"contourcarpet\":[{\"colorbar\":{\"outlinewidth\":0,\"ticks\":\"\"},\"type\":\"contourcarpet\"}],\"heatmap\":[{\"colorbar\":{\"outlinewidth\":0,\"ticks\":\"\"},\"colorscale\":[[0.0,\"#0d0887\"],[0.1111111111111111,\"#46039f\"],[0.2222222222222222,\"#7201a8\"],[0.3333333333333333,\"#9c179e\"],[0.4444444444444444,\"#bd3786\"],[0.5555555555555556,\"#d8576b\"],[0.6666666666666666,\"#ed7953\"],[0.7777777777777778,\"#fb9f3a\"],[0.8888888888888888,\"#fdca26\"],[1.0,\"#f0f921\"]],\"type\":\"heatmap\"}],\"heatmapgl\":[{\"colorbar\":{\"outlinewidth\":0,\"ticks\":\"\"},\"colorscale\":[[0.0,\"#0d0887\"],[0.1111111111111111,\"#46039f\"],[0.2222222222222222,\"#7201a8\"],[0.3333333333333333,\"#9c179e\"],[0.4444444444444444,\"#bd3786\"],[0.5555555555555556,\"#d8576b\"],[0.6666666666666666,\"#ed7953\"],[0.7777777777777778,\"#fb9f3a\"],[0.8888888888888888,\"#fdca26\"],[1.0,\"#f0f921\"]],\"type\":\"heatmapgl\"}],\"histogram\":[{\"marker\":{\"pattern\":{\"fillmode\":\"overlay\",\"size\":10,\"solidity\":0.2}},\"type\":\"histogram\"}],\"histogram2d\":[{\"colorbar\":{\"outlinewidth\":0,\"ticks\":\"\"},\"colorscale\":[[0.0,\"#0d0887\"],[0.1111111111111111,\"#46039f\"],[0.2222222222222222,\"#7201a8\"],[0.3333333333333333,\"#9c179e\"],[0.4444444444444444,\"#bd3786\"],[0.5555555555555556,\"#d8576b\"],[0.6666666666666666,\"#ed7953\"],[0.7777777777777778,\"#fb9f3a\"],[0.8888888888888888,\"#fdca26\"],[1.0,\"#f0f921\"]],\"type\":\"histogram2d\"}],\"histogram2dcontour\":[{\"colorbar\":{\"outlinewidth\":0,\"ticks\":\"\"},\"colorscale\":[[0.0,\"#0d0887\"],[0.1111111111111111,\"#46039f\"],[0.2222222222222222,\"#7201a8\"],[0.3333333333333333,\"#9c179e\"],[0.4444444444444444,\"#bd3786\"],[0.5555555555555556,\"#d8576b\"],[0.6666666666666666,\"#ed7953\"],[0.7777777777777778,\"#fb9f3a\"],[0.8888888888888888,\"#fdca26\"],[1.0,\"#f0f921\"]],\"type\":\"histogram2dcontour\"}],\"mesh3d\":[{\"colorbar\":{\"outlinewidth\":0,\"ticks\":\"\"},\"type\":\"mesh3d\"}],\"parcoords\":[{\"line\":{\"colorbar\":{\"outlinewidth\":0,\"ticks\":\"\"}},\"type\":\"parcoords\"}],\"pie\":[{\"automargin\":true,\"type\":\"pie\"}],\"scatter\":[{\"marker\":{\"colorbar\":{\"outlinewidth\":0,\"ticks\":\"\"}},\"type\":\"scatter\"}],\"scatter3d\":[{\"line\":{\"colorbar\":{\"outlinewidth\":0,\"ticks\":\"\"}},\"marker\":{\"colorbar\":{\"outlinewidth\":0,\"ticks\":\"\"}},\"type\":\"scatter3d\"}],\"scattercarpet\":[{\"marker\":{\"colorbar\":{\"outlinewidth\":0,\"ticks\":\"\"}},\"type\":\"scattercarpet\"}],\"scattergeo\":[{\"marker\":{\"colorbar\":{\"outlinewidth\":0,\"ticks\":\"\"}},\"type\":\"scattergeo\"}],\"scattergl\":[{\"marker\":{\"colorbar\":{\"outlinewidth\":0,\"ticks\":\"\"}},\"type\":\"scattergl\"}],\"scattermapbox\":[{\"marker\":{\"colorbar\":{\"outlinewidth\":0,\"ticks\":\"\"}},\"type\":\"scattermapbox\"}],\"scatterpolar\":[{\"marker\":{\"colorbar\":{\"outlinewidth\":0,\"ticks\":\"\"}},\"type\":\"scatterpolar\"}],\"scatterpolargl\":[{\"marker\":{\"colorbar\":{\"outlinewidth\":0,\"ticks\":\"\"}},\"type\":\"scatterpolargl\"}],\"scatterternary\":[{\"marker\":{\"colorbar\":{\"outlinewidth\":0,\"ticks\":\"\"}},\"type\":\"scatterternary\"}],\"surface\":[{\"colorbar\":{\"outlinewidth\":0,\"ticks\":\"\"},\"colorscale\":[[0.0,\"#0d0887\"],[0.1111111111111111,\"#46039f\"],[0.2222222222222222,\"#7201a8\"],[0.3333333333333333,\"#9c179e\"],[0.4444444444444444,\"#bd3786\"],[0.5555555555555556,\"#d8576b\"],[0.6666666666666666,\"#ed7953\"],[0.7777777777777778,\"#fb9f3a\"],[0.8888888888888888,\"#fdca26\"],[1.0,\"#f0f921\"]],\"type\":\"surface\"}],\"table\":[{\"cells\":{\"fill\":{\"color\":\"#EBF0F8\"},\"line\":{\"color\":\"white\"}},\"header\":{\"fill\":{\"color\":\"#C8D4E3\"},\"line\":{\"color\":\"white\"}},\"type\":\"table\"}]},\"layout\":{\"annotationdefaults\":{\"arrowcolor\":\"#2a3f5f\",\"arrowhead\":0,\"arrowwidth\":1},\"autotypenumbers\":\"strict\",\"coloraxis\":{\"colorbar\":{\"outlinewidth\":0,\"ticks\":\"\"}},\"colorscale\":{\"diverging\":[[0,\"#8e0152\"],[0.1,\"#c51b7d\"],[0.2,\"#de77ae\"],[0.3,\"#f1b6da\"],[0.4,\"#fde0ef\"],[0.5,\"#f7f7f7\"],[0.6,\"#e6f5d0\"],[0.7,\"#b8e186\"],[0.8,\"#7fbc41\"],[0.9,\"#4d9221\"],[1,\"#276419\"]],\"sequential\":[[0.0,\"#0d0887\"],[0.1111111111111111,\"#46039f\"],[0.2222222222222222,\"#7201a8\"],[0.3333333333333333,\"#9c179e\"],[0.4444444444444444,\"#bd3786\"],[0.5555555555555556,\"#d8576b\"],[0.6666666666666666,\"#ed7953\"],[0.7777777777777778,\"#fb9f3a\"],[0.8888888888888888,\"#fdca26\"],[1.0,\"#f0f921\"]],\"sequentialminus\":[[0.0,\"#0d0887\"],[0.1111111111111111,\"#46039f\"],[0.2222222222222222,\"#7201a8\"],[0.3333333333333333,\"#9c179e\"],[0.4444444444444444,\"#bd3786\"],[0.5555555555555556,\"#d8576b\"],[0.6666666666666666,\"#ed7953\"],[0.7777777777777778,\"#fb9f3a\"],[0.8888888888888888,\"#fdca26\"],[1.0,\"#f0f921\"]]},\"colorway\":[\"#636efa\",\"#EF553B\",\"#00cc96\",\"#ab63fa\",\"#FFA15A\",\"#19d3f3\",\"#FF6692\",\"#B6E880\",\"#FF97FF\",\"#FECB52\"],\"font\":{\"color\":\"#2a3f5f\"},\"geo\":{\"bgcolor\":\"white\",\"lakecolor\":\"white\",\"landcolor\":\"#E5ECF6\",\"showlakes\":true,\"showland\":true,\"subunitcolor\":\"white\"},\"hoverlabel\":{\"align\":\"left\"},\"hovermode\":\"closest\",\"mapbox\":{\"style\":\"light\"},\"paper_bgcolor\":\"white\",\"plot_bgcolor\":\"#E5ECF6\",\"polar\":{\"angularaxis\":{\"gridcolor\":\"white\",\"linecolor\":\"white\",\"ticks\":\"\"},\"bgcolor\":\"#E5ECF6\",\"radialaxis\":{\"gridcolor\":\"white\",\"linecolor\":\"white\",\"ticks\":\"\"}},\"scene\":{\"xaxis\":{\"backgroundcolor\":\"#E5ECF6\",\"gridcolor\":\"white\",\"gridwidth\":2,\"linecolor\":\"white\",\"showbackground\":true,\"ticks\":\"\",\"zerolinecolor\":\"white\"},\"yaxis\":{\"backgroundcolor\":\"#E5ECF6\",\"gridcolor\":\"white\",\"gridwidth\":2,\"linecolor\":\"white\",\"showbackground\":true,\"ticks\":\"\",\"zerolinecolor\":\"white\"},\"zaxis\":{\"backgroundcolor\":\"#E5ECF6\",\"gridcolor\":\"white\",\"gridwidth\":2,\"linecolor\":\"white\",\"showbackground\":true,\"ticks\":\"\",\"zerolinecolor\":\"white\"}},\"shapedefaults\":{\"line\":{\"color\":\"#2a3f5f\"}},\"ternary\":{\"aaxis\":{\"gridcolor\":\"white\",\"linecolor\":\"white\",\"ticks\":\"\"},\"baxis\":{\"gridcolor\":\"white\",\"linecolor\":\"white\",\"ticks\":\"\"},\"bgcolor\":\"#E5ECF6\",\"caxis\":{\"gridcolor\":\"white\",\"linecolor\":\"white\",\"ticks\":\"\"}},\"title\":{\"x\":0.05},\"xaxis\":{\"automargin\":true,\"gridcolor\":\"white\",\"linecolor\":\"white\",\"ticks\":\"\",\"title\":{\"standoff\":15},\"zerolinecolor\":\"white\",\"zerolinewidth\":2},\"yaxis\":{\"automargin\":true,\"gridcolor\":\"white\",\"linecolor\":\"white\",\"ticks\":\"\",\"title\":{\"standoff\":15},\"zerolinecolor\":\"white\",\"zerolinewidth\":2}}},\"scene\":{\"domain\":{\"x\":[0.0,1.0],\"y\":[0.0,1.0]},\"xaxis\":{\"title\":{\"text\":\"0\"}},\"yaxis\":{\"title\":{\"text\":\"1\"}},\"zaxis\":{\"title\":{\"text\":\"2\"}}},\"coloraxis\":{\"colorbar\":{\"title\":{\"text\":\"Anomaly\"}},\"colorscale\":[[0.0,\"#0d0887\"],[0.1111111111111111,\"#46039f\"],[0.2222222222222222,\"#7201a8\"],[0.3333333333333333,\"#9c179e\"],[0.4444444444444444,\"#bd3786\"],[0.5555555555555556,\"#d8576b\"],[0.6666666666666666,\"#ed7953\"],[0.7777777777777778,\"#fb9f3a\"],[0.8888888888888888,\"#fdca26\"],[1.0,\"#f0f921\"]]},\"legend\":{\"tracegroupgap\":0},\"title\":{\"text\":\"3d TSNE Plot for Outliers\"},\"height\":800,\"width\":900},                        {\"responsive\": true}                    ).then(function(){\n",
              "                            \n",
              "var gd = document.getElementById('d948956d-3fa9-4564-8c46-ec406b3ef472');\n",
              "var x = new MutationObserver(function (mutations, observer) {{\n",
              "        var display = window.getComputedStyle(gd).display;\n",
              "        if (!display || display === 'none') {{\n",
              "            console.log([gd, 'removed!']);\n",
              "            Plotly.purge(gd);\n",
              "            observer.disconnect();\n",
              "        }}\n",
              "}});\n",
              "\n",
              "// Listen for the removal of the full notebook cells\n",
              "var notebookContainer = gd.closest('#notebook-container');\n",
              "if (notebookContainer) {{\n",
              "    x.observe(notebookContainer, {childList: true});\n",
              "}}\n",
              "\n",
              "// Listen for the clearing of the current output cell\n",
              "var outputEl = gd.closest('.output');\n",
              "if (outputEl) {{\n",
              "    x.observe(outputEl, {childList: true});\n",
              "}}\n",
              "\n",
              "                        })                };                            </script>        </div>\n",
              "</body>\n",
              "</html>"
            ]
          },
          "metadata": {}
        },
        {
          "output_type": "stream",
          "name": "stderr",
          "text": [
            "INFO:logs:Visual Rendered Successfully\n",
            "INFO:logs:plot_model() succesfully completed......................................\n"
          ]
        }
      ]
    },
    {
      "cell_type": "code",
      "source": [
        "plot_model(anom_model, plot = 'umap')"
      ],
      "metadata": {
        "colab": {
          "base_uri": "https://localhost:8080/",
          "height": 889,
          "referenced_widgets": [
            "03cb0660aaba4cb280028a2ef9ddd558",
            "9fe7c98aab714c88a40642ba0867ce2d",
            "5d54e3cf4d974cef8c39a714cd67c759"
          ]
        },
        "id": "EoiHLctnMQum",
        "outputId": "2572bc04-3535-4307-f83b-f0444f894648"
      },
      "execution_count": 60,
      "outputs": [
        {
          "output_type": "stream",
          "name": "stderr",
          "text": [
            "INFO:logs:Rendering Visual\n"
          ]
        },
        {
          "output_type": "display_data",
          "data": {
            "text/html": [
              "<html>\n",
              "<head><meta charset=\"utf-8\" /></head>\n",
              "<body>\n",
              "    <div>            <script src=\"https://cdnjs.cloudflare.com/ajax/libs/mathjax/2.7.5/MathJax.js?config=TeX-AMS-MML_SVG\"></script><script type=\"text/javascript\">if (window.MathJax) {MathJax.Hub.Config({SVG: {font: \"STIX-Web\"}});}</script>                <script type=\"text/javascript\">window.PlotlyConfig = {MathJaxConfig: 'local'};</script>\n",
              "        <script src=\"https://cdn.plot.ly/plotly-2.8.3.min.js\"></script>                <div id=\"ab5f9d60-a3b3-4d5b-a4cf-8a1cd3e7bfbe\" class=\"plotly-graph-div\" style=\"height:800px; width:900px;\"></div>            <script type=\"text/javascript\">                                    window.PLOTLYENV=window.PLOTLYENV || {};                                    if (document.getElementById(\"ab5f9d60-a3b3-4d5b-a4cf-8a1cd3e7bfbe\")) {                    Plotly.newPlot(                        \"ab5f9d60-a3b3-4d5b-a4cf-8a1cd3e7bfbe\",                        [{\"customdata\":[[17.99],[20.57],[19.69],[11.42],[20.29],[12.45],[18.25],[13.71],[13.0],[12.46],[16.02],[15.78],[19.17],[15.85],[13.73],[14.54],[14.68],[16.13],[19.81],[13.54],[13.08],[9.504],[15.34],[21.16],[16.65],[17.14],[14.58],[18.61],[15.3],[17.57],[18.63],[11.84],[17.02],[19.27],[16.13],[16.74],[14.25],[13.03],[14.99],[13.48],[13.44],[10.95],[19.07],[13.28],[13.17],[18.65],[8.196],[13.17],[12.05],[13.49],[11.76],[13.64],[11.94],[18.22],[15.1],[11.52],[19.21],[14.71],[13.05],[8.618],[10.17],[8.598],[14.25],[9.173],[12.68],[14.78],[9.465],[11.31],[9.029],[12.78],[18.94],[8.888],[17.2],[13.8],[12.31],[16.07],[13.53],[18.05],[20.18],[12.86],[11.45],[13.34],[25.22],[19.1],[12.0],[18.46],[14.48],[19.02],[12.36],[14.64],[14.62],[15.37],[13.27],[13.45],[15.06],[20.26],[12.18],[9.787],[11.6],[14.42],[13.61],[6.981],[12.18],[9.876],[10.49],[13.11],[11.64],[12.36],[22.27],[11.34],[9.777],[12.63],[14.26],[10.51],[8.726],[11.93],[8.95],[14.87],[15.78],[17.95],[11.41],[18.66],[24.25],[14.5],[13.37],[13.85],[13.61],[19.0],[15.1],[19.79],[12.19],[15.46],[16.16],[15.71],[18.45],[12.77],[11.71],[11.43],[14.95],[11.28],[9.738],[16.11],[11.43],[12.9],[10.75],[11.9],[11.8],[14.95],[14.44],[13.74],[13.0],[8.219],[9.731],[11.15],[13.15],[12.25],[17.68],[16.84],[12.06],[10.9],[11.75],[19.19],[19.59],[12.34],[23.27],[14.97],[10.8],[16.78],[17.47],[14.97],[12.32],[13.43],[15.46],[11.08],[10.66],[8.671],[9.904],[16.46],[13.01],[12.81],[27.22],[21.09],[15.7],[11.41],[15.28],[10.08],[18.31],[11.71],[11.81],[12.3],[14.22],[12.77],[9.72],[12.34],[14.86],[12.91],[13.77],[18.08],[19.18],[14.45],[12.23],[17.54],[23.29],[13.81],[12.47],[15.12],[9.876],[17.01],[13.11],[15.27],[20.58],[11.84],[28.11],[17.42],[14.19],[13.86],[11.89],[10.2],[19.8],[19.53],[13.65],[13.56],[10.18],[15.75],[13.27],[14.34],[10.44],[15.0],[12.62],[12.83],[17.05],[11.32],[11.22],[20.51],[9.567],[14.03],[23.21],[20.48],[14.22],[17.46],[13.64],[12.42],[11.3],[13.75],[19.4],[10.48],[13.2],[12.89],[10.65],[11.52],[20.94],[11.5],[19.73],[17.3],[19.45],[13.96],[19.55],[15.32],[15.66],[15.53],[20.31],[17.35],[17.29],[15.61],[17.19],[20.73],[10.6],[13.59],[12.87],[10.71],[14.29],[11.29],[21.75],[9.742],[17.93],[11.89],[11.33],[18.81],[13.59],[13.85],[19.16],[11.74],[19.4],[16.24],[12.89],[12.58],[11.94],[12.89],[11.26],[11.37],[14.41],[14.96],[12.95],[11.85],[12.72],[13.77],[10.91],[11.76],[14.26],[10.51],[19.53],[12.46],[20.09],[10.49],[11.46],[11.6],[13.2],[9.0],[13.5],[13.05],[11.7],[14.61],[12.76],[11.54],[8.597],[12.49],[12.18],[18.22],[9.042],[12.43],[10.25],[20.16],[12.86],[20.34],[12.2],[12.67],[14.11],[12.03],[16.27],[16.26],[16.03],[12.98],[11.22],[11.25],[12.3],[17.06],[12.99],[18.77],[10.05],[23.51],[14.42],[9.606],[11.06],[19.68],[11.71],[10.26],[12.06],[14.76],[11.47],[11.95],[11.66],[15.75],[25.73],[15.08],[11.14],[12.56],[13.05],[13.87],[8.878],[9.436],[12.54],[13.3],[12.76],[16.5],[13.4],[20.44],[20.2],[12.21],[21.71],[22.01],[16.35],[15.19],[21.37],[20.64],[13.69],[16.17],[10.57],[13.46],[13.66],[11.08],[11.27],[11.04],[12.05],[12.39],[13.28],[14.6],[12.21],[13.88],[11.27],[19.55],[10.26],[8.734],[15.49],[21.61],[12.1],[14.06],[13.51],[12.8],[11.06],[11.8],[17.91],[11.93],[12.96],[12.94],[12.34],[10.94],[16.14],[12.85],[17.99],[12.27],[11.36],[11.04],[9.397],[14.99],[15.13],[11.89],[9.405],[15.5],[12.7],[11.16],[11.57],[14.69],[11.61],[13.66],[9.742],[10.03],[10.48],[10.8],[11.13],[12.72],[14.9],[12.4],[20.18],[18.82],[14.86],[13.98],[12.87],[14.04],[13.85],[14.02],[10.97],[17.27],[13.78],[10.57],[18.03],[11.99],[17.75],[14.8],[14.53],[21.1],[11.87],[19.59],[12.0],[14.53],[12.62],[13.38],[11.63],[13.21],[13.0],[9.755],[17.08],[27.42],[14.4],[11.6],[13.17],[13.24],[13.14],[9.668],[17.6],[11.62],[9.667],[12.04],[14.92],[12.27],[10.88],[12.83],[14.2],[13.9],[11.49],[16.25],[12.16],[13.9],[13.47],[13.7],[15.73],[12.45],[14.64],[19.44],[11.68],[16.69],[12.25],[17.85],[18.01],[12.46],[13.16],[14.87],[12.65],[12.47],[18.49],[20.59],[15.04],[13.82],[12.54],[23.09],[9.268],[9.676],[12.22],[11.06],[16.3],[15.46],[11.74],[14.81],[13.4],[14.58],[15.05],[11.34],[18.31],[19.89],[12.88],[12.75],[9.295],[24.63],[11.26],[13.71],[9.847],[8.571],[13.46],[12.34],[13.94],[12.07],[11.75],[11.67],[13.68],[20.47],[10.96],[20.55],[14.27],[11.69],[7.729],[7.691],[11.54],[14.47],[14.74],[13.21],[13.87],[13.62],[10.32],[10.26],[9.683],[10.82],[10.86],[11.13],[12.77],[9.333],[12.88],[10.29],[10.16],[9.423],[14.59]],\"hovertemplate\":\"0=%{x}<br>1=%{y}<br>Feature=%{customdata[0]}<br>Anomaly=%{marker.color}<extra></extra>\",\"legendgroup\":\"\",\"marker\":{\"color\":[1,0,0,1,0,0,0,0,0,1,0,0,1,0,0,0,0,0,0,0,0,0,0,0,0,0,0,0,0,0,0,0,0,0,0,0,0,0,0,0,0,0,1,0,0,0,0,0,0,0,0,0,0,0,0,0,0,0,0,0,0,0,0,0,0,0,0,0,1,0,0,1,0,0,0,0,0,0,1,0,0,0,1,0,0,0,0,0,0,0,0,0,0,0,0,0,0,0,0,0,0,0,0,0,0,0,0,0,1,0,0,0,0,0,0,0,0,0,0,0,0,0,1,0,0,0,0,0,0,0,0,0,0,0,0,0,0,0,0,0,0,0,0,0,0,0,0,0,0,0,0,0,1,0,0,0,0,0,0,0,0,0,0,0,0,0,0,0,0,0,0,0,0,0,0,0,0,0,0,0,1,1,0,0,0,0,0,0,0,0,1,0,0,0,0,0,0,0,0,0,0,0,1,0,0,0,0,0,0,0,0,0,1,1,0,0,0,0,0,0,0,0,0,0,0,0,0,0,0,0,0,0,0,0,0,0,1,0,0,0,0,0,0,0,0,0,0,0,0,0,0,0,0,0,0,0,0,0,1,0,0,0,0,0,0,1,0,0,0,0,0,0,0,0,0,0,0,0,0,0,0,0,0,0,0,0,0,0,0,0,0,0,0,0,0,0,0,0,0,0,0,0,0,0,0,0,0,0,0,0,0,0,0,0,0,0,0,0,0,0,0,0,0,0,0,0,0,0,0,0,0,0,0,0,0,0,0,0,0,1,0,0,0,0,0,0,0,0,0,0,0,0,1,0,0,0,0,0,0,0,0,0,0,0,0,0,0,0,1,0,0,0,0,0,0,0,0,0,0,0,0,0,0,0,0,0,0,0,0,0,0,0,0,0,0,0,0,0,0,0,0,0,0,0,0,0,0,0,0,0,0,0,0,0,0,0,0,0,0,0,0,0,0,0,0,0,0,0,0,0,0,0,0,0,0,0,0,0,0,0,0,0,0,0,0,0,0,0,0,0,0,0,0,0,0,0,0,0,0,0,0,1,0,0,0,0,0,0,0,0,0,0,0,0,0,0,0,0,0,0,0,0,0,0,0,0,0,0,0,0,0,0,0,0,0,0,0,0,0,0,0,0,0,1,0,1,0,0,0,0,0,0,0,0,0,0,0,0,0,0,0,1,0,0,0,0,0,0,0,0,0,0,0,0,0,0,0,0,0,0,0,0,0,0,0,0,0,0,0,0,0,0,0,0,0,0,0,0,0],\"coloraxis\":\"coloraxis\",\"opacity\":0.7,\"symbol\":\"circle\"},\"mode\":\"markers\",\"name\":\"\",\"orientation\":\"v\",\"showlegend\":false,\"x\":[10.897720336914062,10.600436210632324,10.95628833770752,-2.6802802085876465,10.8573637008667,6.678675651550293,10.929780960083008,9.632765769958496,6.924827575683594,6.565067291259766,11.070839881896973,11.370595932006836,11.994233131408691,9.837345123291016,7.302302837371826,10.446261405944824,11.000203132629395,11.445480346679688,10.687384605407715,7.268608093261719,0.21016573905944824,-6.5444560050964355,10.6035737991333,10.746749877929688,10.7752046585083,11.54198932647705,9.629494667053223,11.737704277038574,11.437880516052246,11.863994598388672,10.87296199798584,9.568016052246094,11.687655448913574,10.891424179077148,11.416720390319824,11.658774375915527,8.903738021850586,-1.8003745079040527,8.01695728302002,7.470902919769287,8.75002670288086,-5.016890048980713,10.926124572753906,9.710530281066895,7.081137657165527,11.141039848327637,-5.824807167053223,7.175721168518066,-1.9834835529327393,7.0133161544799805,-4.190207481384277,6.8375043869018555,-3.9168643951416016,11.910947799682617,10.88494873046875,-4.668815612792969,10.714513778686523,10.648941993713379,0.0260105412453413,-5.976366996765137,-6.4584760665893555,-6.016197204589844,10.50284481048584,-6.4976348876953125,9.724553108215332,10.244766235351562,-6.626049518585205,-5.965633869171143,-6.560912609100342,-1.8895238637924194,10.890030860900879,-6.208991527557373,10.83560848236084,9.223868370056152,-0.3625785708427429,11.355330467224121,-0.20123444497585297,10.815669059753418,10.909797668457031,0.0983031690120697,-4.280473232269287,-0.2663663923740387,10.726085662841797,11.976814270019531,-2.2204787731170654,10.927687644958496,8.907435417175293,10.953924179077148,-2.2077319622039795,8.724730491638184,8.684906959533691,8.934247016906738,9.407055854797363,6.961512565612793,10.817032814025879,10.803001403808594,-4.387895584106445,-6.59257173538208,-4.465811252593994,9.002902030944824,9.672513961791992,-5.855352401733398,-2.6583950519561768,-6.630744934082031,-6.407217502593994,9.445958137512207,-4.331965923309326,-2.81925630569458,10.684158325195312,-4.416553497314453,-6.574367523193359,-3.2743802070617676,7.780548572540283,-6.577630043029785,-6.096786022186279,-2.003990650177002,-6.0423173904418945,10.974393844604492,11.420674324035645,11.914737701416016,-4.561309337615967,11.168252944946289,10.545077323913574,7.931899070739746,-0.00881290528923273,7.785150527954102,9.456149101257324,11.31324291229248,8.054725646972656,11.146631240844727,-2.789994716644287,11.018047332763672,11.14737319946289,10.05942153930664,10.992018699645996,0.39343997836112976,-2.728808879852295,-5.972085952758789,10.539238929748535,-6.214963436126709,-6.619624137878418,11.348664283752441,-4.779534339904785,0.3899150490760803,-6.274341106414795,-4.3059282302856445,-1.9878207445144653,8.559052467346191,7.980964183807373,7.740307807922363,-0.05129285901784897,-5.884551048278809,-6.550260066986084,-6.264848709106445,6.500983238220215,-2.4207730293273926,11.77808666229248,10.322154998779297,-3.573183298110962,-5.413570404052734,-2.747164011001587,11.488213539123535,10.70634651184082,-2.614603281021118,10.641547203063965,8.181541442871094,-6.459859848022461,11.7160005569458,10.803318977355957,8.33377456665039,-2.8484342098236084,9.921043395996094,10.963603973388672,-6.488992214202881,-6.420722484588623,-5.943531036376953,-6.577662944793701,10.177013397216797,-0.4963664412498474,-1.67023503780365,10.809728622436523,10.490078926086426,11.402073860168457,-5.913445949554443,10.53283977508545,-6.31960391998291,11.618121147155762,-4.225467205047607,-5.075610160827637,-2.87855863571167,8.05053997039795,-1.3815888166427612,-6.549005508422852,6.775942325592041,8.239518165588379,-0.9844658374786377,9.116820335388184,11.948354721069336,10.993133544921875,10.810489654541016,-0.1689341813325882,11.845105171203613,10.55053424835205,10.959672927856445,6.241333961486816,10.611895561218262,-6.614202499389648,11.718464851379395,0.21621382236480713,10.19372844696045,10.85250473022461,-2.6627604961395264,10.68422794342041,10.214216232299805,9.071720123291016,7.845438003540039,-3.8318376541137695,-6.424663066864014,10.624053955078125,10.738042831420898,7.181559085845947,6.905533790588379,-6.476088047027588,10.834625244140625,6.983988285064697,9.476903915405273,-6.446792125701904,8.51408576965332,0.08787082135677338,6.53993558883667,11.698184967041016,-6.0115838050842285,-5.843454837799072,10.481390953063965,-6.607551574707031,7.69093132019043,10.92187786102295,10.756649017333984,8.016918182373047,11.556785583496094,7.081308841705322,-2.8739233016967773,-5.714828968048096,7.523108959197998,11.702739715576172,-6.4138102531433105,-0.3960132896900177,0.26030635833740234,-6.19200325012207,-4.9865803718566895,10.411222457885742,-4.604279518127441,10.724205017089844,11.760865211486816,10.76334285736084,9.192151069641113,10.651683807373047,10.278531074523926,11.323162078857422,10.73105525970459,10.654343605041504,11.785447120666504,11.773716926574707,10.465165138244629,11.537816047668457,10.912517547607422,-6.339907646179199,6.649815559387207,-1.0646861791610718,-6.401042938232422,7.587040424346924,-6.009453773498535,10.647063255310059,-6.623221397399902,11.917891502380371,-4.980103969573975,-6.096477031707764,11.973526000976562,7.690603256225586,7.081245422363281,10.998229026794434,-2.860835313796997,11.088712692260742,10.424768447875977,-0.9654930830001831,-1.8497474193572998,-2.577531099319458,-1.5009446144104004,-6.199585914611816,-6.034194469451904,8.100939750671387,8.56779956817627,-1.3656278848648071,-4.065881252288818,-2.01415753364563,6.936161041259766,-6.5287580490112305,-2.612640619277954,8.981703758239746,-6.615874290466309,10.592086791992188,-2.793818950653076,10.892014503479004,-6.52561092376709,-5.106034278869629,-5.256985664367676,0.11148019134998322,-6.158576011657715,7.055955410003662,6.429468631744385,-5.1664137840271,9.041491508483887,-0.024335093796253204,-5.89480447769165,-5.882043361663818,-2.857478618621826,-3.691458225250244,11.546342849731445,-6.359330654144287,-3.3656105995178223,-6.4113359451293945,10.807257652282715,-0.9510002732276917,10.673653602600098,-2.0329442024230957,-1.655814528465271,7.913248538970947,-3.8156023025512695,10.894011497497559,10.212379455566406,10.674585342407227,0.3503074645996094,-6.219138145446777,-5.166000843048096,-2.832615613937378,11.607038497924805,-1.5812321901321411,10.870704650878906,-6.483922004699707,10.853352546691895,9.386703491210938,-6.614308834075928,-6.27791690826416,11.38051986694336,-4.285778045654297,-6.639954566955566,-2.273561716079712,9.502080917358398,-5.677675724029541,-4.797550678253174,-2.7463912963867188,9.972246170043945,10.856432914733887,10.861967086791992,-6.1362433433532715,-2.7623226642608643,-1.2037880420684814,7.509037017822266,-6.295530319213867,-6.347402095794678,-1.4557055234909058,-0.06688936799764633,-1.532088279724121,10.267513275146484,6.6412553787231445,10.732391357421875,10.922127723693848,-0.27263686060905457,10.870677947998047,10.528363227844238,11.087499618530273,8.626605033874512,10.890403747558594,10.54311752319336,6.972917079925537,9.723392486572266,-6.5558085441589355,6.848357677459717,6.897694110870361,-5.1267476081848145,-5.51546049118042,-6.143292427062988,-4.42877197265625,-0.42861035466194153,-0.0167649257928133,8.0059175491333,-3.2891581058502197,7.849143981933594,-6.125533580780029,11.972500801086426,-6.457740783691406,-6.485935688018799,11.458641052246094,10.492820739746094,-2.433992624282837,7.485756874084473,6.677059173583984,-1.2428340911865234,-5.175400257110596,-2.4443702697753906,11.917166709899902,-1.972618579864502,-0.00423504039645195,-1.4598063230514526,-3.2602956295013428,-5.385908603668213,10.04521656036377,0.5275274515151978,11.774283409118652,-0.3365728557109833,-4.337347507476807,-5.512853622436523,-6.489599227905273,9.291577339172363,10.216363906860352,-3.980436086654663,-6.6102519035339355,10.7627592086792,-1.705861210823059,-5.921974182128906,-4.354470729827881,8.725790023803711,-5.6500773429870605,7.409957408905029,-6.500458240509033,-6.487082004547119,-6.261416912078857,-5.231301307678223,-6.293866157531738,-1.3598097562789917,8.833044052124023,-3.486506938934326,11.532251358032227,11.055013656616211,8.13219165802002,9.399993896484375,0.2988448143005371,7.955377578735352,7.923390865325928,7.510815143585205,-5.4219160079956055,11.786200523376465,7.508204460144043,-6.579076290130615,11.877657890319824,-4.122016429901123,11.594980239868164,8.870741844177246,9.004990577697754,10.44310474395752,-4.212387561798096,11.653257369995117,-3.9798951148986816,7.942266941070557,0.15041173994541168,7.0694169998168945,-4.193299770355225,0.1869891732931137,0.18017736077308655,-6.618678569793701,10.770009994506836,10.842747688293457,7.862954616546631,-4.945903778076172,6.5837836265563965,7.190308570861816,6.616528034210205,-6.492931365966797,11.556804656982422,-4.2099432945251465,-6.540012836456299,-2.2653636932373047,9.995431900024414,-2.509936809539795,-6.3117170333862305,-0.886696994304657,9.124507904052734,7.704333305358887,-5.887400150299072,10.061149597167969,-2.7111806869506836,9.234895706176758,6.487005710601807,7.012580394744873,9.306649208068848,-1.5616462230682373,8.979494094848633,10.984692573547363,-2.6532583236694336,10.577676773071289,-0.256698876619339,11.890644073486328,11.60402774810791,-3.1951351165771484,0.22443264722824097,8.232564926147461,0.05363594740629196,-0.25737327337265015,11.00211238861084,10.69778060913086,9.19027042388916,8.858181953430176,-2.8062756061553955,10.83580207824707,-6.371366500854492,-6.587860584259033,-3.873652219772339,-6.468217372894287,10.024453163146973,10.096096992492676,-5.277242660522461,8.064926147460938,9.459763526916504,9.348503112792969,10.567615509033203,-5.612459182739258,11.483223915100098,10.931464195251465,6.278079509735107,0.1118624284863472,-6.559398651123047,10.770416259765625,-6.2085347175598145,7.232243537902832,-6.588866233825684,-6.037333011627197,7.111480236053467,-2.589768171310425,6.950654029846191,-2.6048600673675537,-2.67154598236084,-2.6181318759918213,8.066217422485352,10.832125663757324,-6.504657745361328,10.653980255126953,7.905267238616943,-5.0646491050720215,-5.82674503326416,-5.840749263763428,-6.072783470153809,8.778977394104004,8.897770881652832,0.1093781366944313,7.243584632873535,7.594665050506592,-6.479770660400391,-6.643742084503174,-6.594569683074951,-5.094252109527588,-6.399071216583252,-6.275758266448975,-1.1396592855453491,-6.432388782501221,-1.1333099603652954,-6.625651836395264,-6.6610260009765625,-6.610672950744629,7.856585502624512],\"xaxis\":\"x\",\"y\":[-0.982783854007721,-0.9702545404434204,0.5182002782821655,9.467905044555664,0.44925811886787415,12.420433044433594,1.8334906101226807,10.638928413391113,12.477783203125,12.517664909362793,6.924887180328369,6.02634859085083,3.3784475326538086,8.388590812683105,13.099393844604492,8.664822578430176,7.663651466369629,5.929476737976074,-1.6934784650802612,12.902274131774902,13.001852035522461,0.8059414625167847,8.337617874145508,-1.9689689874649048,-1.1770490407943726,3.5539114475250244,9.388222694396973,3.159869432449341,5.971706390380859,4.633677959442139,1.512387752532959,10.869752883911133,4.036468029022217,-0.22951175272464752,5.978321075439453,5.122213840484619,10.331622123718262,12.341652870178223,10.82094955444336,12.362520217895508,11.472179412841797,6.999154090881348,1.5262315273284912,10.656756401062012,12.433817863464355,2.0421228408813477,-0.366782009601593,12.368285179138184,10.738654136657715,12.956974983215332,8.832619667053223,13.730883598327637,9.286311149597168,3.994249105453491,8.07630729675293,7.972192764282227,-1.1985889673233032,8.505205154418945,13.125008583068848,-0.22607167065143585,2.7840323448181152,-0.21998922526836395,8.673395156860352,0.6254488825798035,10.781350135803223,8.811646461486816,0.9620183706283569,6.635429382324219,0.6787154674530029,12.208216667175293,-0.6513450741767883,0.12711147964000702,1.8290860652923584,10.927679061889648,11.874190330505371,6.05045223236084,13.503682136535645,1.8417470455169678,0.4630430042743683,12.706558227539062,8.046930313110352,12.960061073303223,-2.1050705909729004,3.424596071243286,10.572772979736328,1.8375446796417236,10.208916664123535,1.7262113094329834,10.91469669342041,10.109659194946289,10.100494384765625,9.355576515197754,11.024008750915527,12.974285125732422,8.04034423828125,-0.033252764493227005,8.984393119812012,2.1794941425323486,8.055017471313477,10.058347702026367,10.594292640686035,-0.33231407403945923,10.768183708190918,2.105673313140869,4.036019325256348,11.032258987426758,8.09080696105957,10.976269721984863,-1.8147815465927124,7.905418395996094,2.182098627090454,10.663424491882324,11.561447143554688,3.228421211242676,-0.06399790197610855,10.685661315917969,-0.11250553280115128,7.746608257293701,5.968651294708252,4.36833381652832,7.918278217315674,2.102487802505493,-1.6131596565246582,11.184574127197266,13.513655662536621,12.558736801147461,10.84192180633545,2.0779502391815186,10.615221977233887,1.299578070640564,10.662425994873047,7.2271728515625,6.68602180480957,8.34679889678955,1.907659649848938,12.813915252685547,9.566486358642578,6.794951438903809,8.526153564453125,5.778566837310791,1.4529920816421509,6.0529961585998535,7.752071380615234,12.869357109069824,4.998528480529785,8.80765438079834,10.660969734191895,9.75733470916748,11.237399101257324,12.626111030578613,12.997171401977539,-0.30444204807281494,2.4983935356140137,5.6071062088012695,13.145752906799316,10.8070707321167,4.2862467765808105,7.480731010437012,9.835041999816895,6.571052074432373,9.490153312683105,2.2415523529052734,-1.3418784141540527,10.844058990478516,-1.8924658298492432,10.258323669433594,4.609716892242432,4.906564235687256,1.8644381761550903,10.073097229003906,10.856217384338379,10.362717628479004,7.569475173950195,4.581017971038818,4.406440734863281,-0.2509366571903229,2.5665671825408936,7.652041912078857,13.057518005371094,12.451597213745117,-2.2733876705169678,-1.3108553886413574,6.00623893737793,6.932347774505615,8.350139617919922,4.249256134033203,3.385127544403076,8.42485237121582,8.063529014587402,10.83034896850586,11.693147659301758,12.614940643310547,0.7802923917770386,12.431334495544434,10.255777359008789,12.861706733703613,10.991690635681152,4.387599468231201,0.9809778332710266,8.135647773742676,11.95076847076416,4.674723148345947,-1.5184599161148071,7.760311126708984,12.690815925598145,8.301900863647461,1.4037410020828247,4.9469380378723145,13.372447967529297,8.44430923461914,0.38006392121315,9.594524383544922,-2.1657609939575195,7.5277099609375,10.77677059173584,12.139647483825684,9.22727108001709,3.7908949851989746,-1.0576002597808838,-1.7612944841384888,12.98541259765625,13.267735481262207,2.7828125953674316,7.488971710205078,12.812302589416504,9.597783088684082,3.66985821723938,9.849467277526855,12.519628524780273,12.602514266967773,5.014353275299072,6.537034511566162,6.557101726531982,-0.5769941210746765,1.2220720052719116,12.789198875427246,-2.343513250350952,-0.08955036848783493,11.463037490844727,3.6704516410827637,13.438920021057129,11.060541152954102,6.777124404907227,13.082542419433594,2.8443286418914795,4.13408899307251,13.243890762329102,12.866217613220215,5.080760955810547,7.660397052764893,-1.2046722173690796,7.978682994842529,-0.8820464611053467,4.829007625579834,-0.8512712717056274,10.841426849365234,-0.7855151891708374,8.53184700012207,6.087961673736572,7.89961576461792,-0.4664897620677948,4.781042098999023,4.318160057067871,8.111007690429688,3.558004379272461,-2.26340913772583,4.52351713180542,13.469500541687012,12.86074161529541,4.402371406555176,13.285042762756348,6.4320478439331055,-1.8070764541625977,1.9411479234695435,4.076809883117676,8.202751159667969,6.598224639892578,3.827198028564453,12.328556060791016,13.726616859436035,0.83903968334198,9.401445388793945,1.344504475593567,7.536743640899658,12.94781494140625,12.175034523010254,10.229805946350098,12.640077590942383,5.914669036865234,6.579660415649414,10.733245849609375,9.776718139648438,12.746201515197754,9.078975677490234,12.067471504211426,13.741281509399414,4.569235801696777,9.679497718811035,10.37695598602295,3.0788121223449707,-1.164347529411316,11.014388084411621,0.3352035880088806,3.203347682952881,7.679741859436035,7.748480319976807,13.44531536102295,0.06124134734272957,13.141456604003906,13.112855911254883,7.876789093017578,9.68981647491455,12.6322603225708,7.093717098236084,-0.3129921555519104,11.210384368896484,9.95256519317627,3.1542744636535645,0.34801989793777466,10.550082206726074,3.570054769515991,0.3792476952075958,12.847973823547363,-0.881729245185852,10.858331680297852,12.28139591217041,11.627968788146973,9.512608528137207,7.0874128341674805,7.678110122680664,7.466350078582764,12.902121543884277,5.6973066329956055,7.143195152282715,10.845416069030762,3.8673064708709717,12.611412048339844,-0.7049002051353455,2.821751117706299,-2.2283248901367188,9.610594749450684,1.8494131565093994,5.474287509918213,1.9932825565338135,8.589591026306152,2.8986873626708984,10.50150203704834,9.383095741271973,7.2324957847595215,8.372193336486816,9.515157699584961,8.315329551696777,-2.3014144897460938,7.834375381469727,6.139305591583252,11.293598175048828,12.782050132751465,13.21644401550293,0.27080395817756653,3.5910542011260986,12.412334442138672,13.498000144958496,12.475237846374512,7.591975212097168,13.392236709594727,-0.22121155261993408,0.48354706168174744,11.978388786315918,-2.2750184535980225,-1.627658724784851,6.730039119720459,9.599833488464355,0.559768795967102,-1.065679669380188,13.67394733428955,8.450607299804688,3.0800437927246094,13.303035736083984,13.731466293334961,6.917756080627441,6.829071044921875,5.5685834884643555,8.870348930358887,11.835453987121582,13.468920707702637,10.80698299407959,10.536602973937988,12.135802268981934,6.265852451324463,3.36122989654541,3.557980537414551,0.5330641269683838,5.926755428314209,-1.3188986778259277,10.430356979370117,13.353571891784668,13.43920612335205,12.703980445861816,6.984219074249268,10.079497337341309,4.125378608703613,10.762274742126465,13.148383140563965,12.6783447265625,10.6568021774292,6.613531589508057,7.929669380187988,12.710243225097656,3.958801746368408,11.921107292175293,7.978351593017578,6.544372081756592,0.617820680141449,9.374950408935547,8.496280670166016,9.176077842712402,1.941527247428894,1.8103249073028564,12.3079195022583,6.3705315589904785,8.076934814453125,10.043046951293945,7.372493743896484,12.989758491516113,2.5015692710876465,2.596726179122925,4.682522773742676,6.757955551147461,5.292008399963379,12.569504737854004,9.653185844421387,10.303318977355957,2.176240921020508,1.8639267683029175,10.397336959838867,10.773913383483887,12.756782531738281,11.662439346313477,12.052750587463379,13.252127647399902,6.648122787475586,4.518735408782959,13.064295768737793,3.153204917907715,4.2188639640808105,9.104172706604004,3.40572190284729,9.66207504272461,9.774982452392578,-1.2732692956924438,8.924697875976562,2.604607582092285,9.259014129638672,11.264848709106445,12.456487655639648,12.96572494506836,8.16849136352539,13.399321556091309,13.030566215515137,1.9455227851867676,1.8947765827178955,-2.3589727878570557,11.329394340515137,7.8921685218811035,13.077751159667969,12.454155921936035,13.034048080444336,2.3423802852630615,3.46321964263916,8.207582473754883,2.390958786010742,10.569018363952637,8.934720039367676,10.835433959960938,5.006489276885986,12.826531410217285,10.694548606872559,12.780007362365723,6.9938130378723145,7.874959945678711,10.720377922058105,10.852132797241211,13.525106430053711,13.348173141479492,8.892454147338867,11.895463943481445,9.718097686767578,0.5970066785812378,9.549537658691406,7.345898151397705,11.985424041748047,4.606362342834473,3.433753728866577,10.734140396118164,13.426597595214844,10.221516609191895,12.400702476501465,12.029661178588867,1.9679192304611206,-0.15465082228183746,9.464079856872559,11.182272911071777,11.229065895080566,-2.19449782371521,0.3852158784866333,0.8964830636978149,9.585095405578613,4.663110733032227,7.9388813972473145,8.448272705078125,7.779016017913818,10.586959838867188,10.914064407348633,9.556085586547852,8.379657745361328,6.929825782775879,2.8979053497314453,0.7042350172996521,12.735800743103027,12.526782989501953,0.7473620772361755,-2.1782593727111816,5.636876583099365,13.042655944824219,2.2920210361480713,-0.15456818044185638,12.654825210571289,10.965044975280762,13.725162506103516,10.403412818908691,9.566737174987793,9.4481840133667,11.948786735534668,0.36506906151771545,4.700235843658447,-0.34453514218330383,11.53764820098877,7.729294776916504,-0.36467286944389343,-0.34908297657966614,6.738330841064453,10.10977840423584,9.781764030456543,13.437484741210938,13.334195137023926,12.512560844421387,3.4179394245147705,2.9733409881591797,2.048762321472168,6.912084102630615,4.552183628082275,5.500034809112549,12.815266609191895,0.5368779301643372,12.820295333862305,2.9175708293914795,2.8270277976989746,0.9774583578109741,11.220982551574707],\"yaxis\":\"y\",\"type\":\"scatter\"}],                        {\"template\":{\"data\":{\"bar\":[{\"error_x\":{\"color\":\"#2a3f5f\"},\"error_y\":{\"color\":\"#2a3f5f\"},\"marker\":{\"line\":{\"color\":\"#E5ECF6\",\"width\":0.5},\"pattern\":{\"fillmode\":\"overlay\",\"size\":10,\"solidity\":0.2}},\"type\":\"bar\"}],\"barpolar\":[{\"marker\":{\"line\":{\"color\":\"#E5ECF6\",\"width\":0.5},\"pattern\":{\"fillmode\":\"overlay\",\"size\":10,\"solidity\":0.2}},\"type\":\"barpolar\"}],\"carpet\":[{\"aaxis\":{\"endlinecolor\":\"#2a3f5f\",\"gridcolor\":\"white\",\"linecolor\":\"white\",\"minorgridcolor\":\"white\",\"startlinecolor\":\"#2a3f5f\"},\"baxis\":{\"endlinecolor\":\"#2a3f5f\",\"gridcolor\":\"white\",\"linecolor\":\"white\",\"minorgridcolor\":\"white\",\"startlinecolor\":\"#2a3f5f\"},\"type\":\"carpet\"}],\"choropleth\":[{\"colorbar\":{\"outlinewidth\":0,\"ticks\":\"\"},\"type\":\"choropleth\"}],\"contour\":[{\"colorbar\":{\"outlinewidth\":0,\"ticks\":\"\"},\"colorscale\":[[0.0,\"#0d0887\"],[0.1111111111111111,\"#46039f\"],[0.2222222222222222,\"#7201a8\"],[0.3333333333333333,\"#9c179e\"],[0.4444444444444444,\"#bd3786\"],[0.5555555555555556,\"#d8576b\"],[0.6666666666666666,\"#ed7953\"],[0.7777777777777778,\"#fb9f3a\"],[0.8888888888888888,\"#fdca26\"],[1.0,\"#f0f921\"]],\"type\":\"contour\"}],\"contourcarpet\":[{\"colorbar\":{\"outlinewidth\":0,\"ticks\":\"\"},\"type\":\"contourcarpet\"}],\"heatmap\":[{\"colorbar\":{\"outlinewidth\":0,\"ticks\":\"\"},\"colorscale\":[[0.0,\"#0d0887\"],[0.1111111111111111,\"#46039f\"],[0.2222222222222222,\"#7201a8\"],[0.3333333333333333,\"#9c179e\"],[0.4444444444444444,\"#bd3786\"],[0.5555555555555556,\"#d8576b\"],[0.6666666666666666,\"#ed7953\"],[0.7777777777777778,\"#fb9f3a\"],[0.8888888888888888,\"#fdca26\"],[1.0,\"#f0f921\"]],\"type\":\"heatmap\"}],\"heatmapgl\":[{\"colorbar\":{\"outlinewidth\":0,\"ticks\":\"\"},\"colorscale\":[[0.0,\"#0d0887\"],[0.1111111111111111,\"#46039f\"],[0.2222222222222222,\"#7201a8\"],[0.3333333333333333,\"#9c179e\"],[0.4444444444444444,\"#bd3786\"],[0.5555555555555556,\"#d8576b\"],[0.6666666666666666,\"#ed7953\"],[0.7777777777777778,\"#fb9f3a\"],[0.8888888888888888,\"#fdca26\"],[1.0,\"#f0f921\"]],\"type\":\"heatmapgl\"}],\"histogram\":[{\"marker\":{\"pattern\":{\"fillmode\":\"overlay\",\"size\":10,\"solidity\":0.2}},\"type\":\"histogram\"}],\"histogram2d\":[{\"colorbar\":{\"outlinewidth\":0,\"ticks\":\"\"},\"colorscale\":[[0.0,\"#0d0887\"],[0.1111111111111111,\"#46039f\"],[0.2222222222222222,\"#7201a8\"],[0.3333333333333333,\"#9c179e\"],[0.4444444444444444,\"#bd3786\"],[0.5555555555555556,\"#d8576b\"],[0.6666666666666666,\"#ed7953\"],[0.7777777777777778,\"#fb9f3a\"],[0.8888888888888888,\"#fdca26\"],[1.0,\"#f0f921\"]],\"type\":\"histogram2d\"}],\"histogram2dcontour\":[{\"colorbar\":{\"outlinewidth\":0,\"ticks\":\"\"},\"colorscale\":[[0.0,\"#0d0887\"],[0.1111111111111111,\"#46039f\"],[0.2222222222222222,\"#7201a8\"],[0.3333333333333333,\"#9c179e\"],[0.4444444444444444,\"#bd3786\"],[0.5555555555555556,\"#d8576b\"],[0.6666666666666666,\"#ed7953\"],[0.7777777777777778,\"#fb9f3a\"],[0.8888888888888888,\"#fdca26\"],[1.0,\"#f0f921\"]],\"type\":\"histogram2dcontour\"}],\"mesh3d\":[{\"colorbar\":{\"outlinewidth\":0,\"ticks\":\"\"},\"type\":\"mesh3d\"}],\"parcoords\":[{\"line\":{\"colorbar\":{\"outlinewidth\":0,\"ticks\":\"\"}},\"type\":\"parcoords\"}],\"pie\":[{\"automargin\":true,\"type\":\"pie\"}],\"scatter\":[{\"marker\":{\"colorbar\":{\"outlinewidth\":0,\"ticks\":\"\"}},\"type\":\"scatter\"}],\"scatter3d\":[{\"line\":{\"colorbar\":{\"outlinewidth\":0,\"ticks\":\"\"}},\"marker\":{\"colorbar\":{\"outlinewidth\":0,\"ticks\":\"\"}},\"type\":\"scatter3d\"}],\"scattercarpet\":[{\"marker\":{\"colorbar\":{\"outlinewidth\":0,\"ticks\":\"\"}},\"type\":\"scattercarpet\"}],\"scattergeo\":[{\"marker\":{\"colorbar\":{\"outlinewidth\":0,\"ticks\":\"\"}},\"type\":\"scattergeo\"}],\"scattergl\":[{\"marker\":{\"colorbar\":{\"outlinewidth\":0,\"ticks\":\"\"}},\"type\":\"scattergl\"}],\"scattermapbox\":[{\"marker\":{\"colorbar\":{\"outlinewidth\":0,\"ticks\":\"\"}},\"type\":\"scattermapbox\"}],\"scatterpolar\":[{\"marker\":{\"colorbar\":{\"outlinewidth\":0,\"ticks\":\"\"}},\"type\":\"scatterpolar\"}],\"scatterpolargl\":[{\"marker\":{\"colorbar\":{\"outlinewidth\":0,\"ticks\":\"\"}},\"type\":\"scatterpolargl\"}],\"scatterternary\":[{\"marker\":{\"colorbar\":{\"outlinewidth\":0,\"ticks\":\"\"}},\"type\":\"scatterternary\"}],\"surface\":[{\"colorbar\":{\"outlinewidth\":0,\"ticks\":\"\"},\"colorscale\":[[0.0,\"#0d0887\"],[0.1111111111111111,\"#46039f\"],[0.2222222222222222,\"#7201a8\"],[0.3333333333333333,\"#9c179e\"],[0.4444444444444444,\"#bd3786\"],[0.5555555555555556,\"#d8576b\"],[0.6666666666666666,\"#ed7953\"],[0.7777777777777778,\"#fb9f3a\"],[0.8888888888888888,\"#fdca26\"],[1.0,\"#f0f921\"]],\"type\":\"surface\"}],\"table\":[{\"cells\":{\"fill\":{\"color\":\"#EBF0F8\"},\"line\":{\"color\":\"white\"}},\"header\":{\"fill\":{\"color\":\"#C8D4E3\"},\"line\":{\"color\":\"white\"}},\"type\":\"table\"}]},\"layout\":{\"annotationdefaults\":{\"arrowcolor\":\"#2a3f5f\",\"arrowhead\":0,\"arrowwidth\":1},\"autotypenumbers\":\"strict\",\"coloraxis\":{\"colorbar\":{\"outlinewidth\":0,\"ticks\":\"\"}},\"colorscale\":{\"diverging\":[[0,\"#8e0152\"],[0.1,\"#c51b7d\"],[0.2,\"#de77ae\"],[0.3,\"#f1b6da\"],[0.4,\"#fde0ef\"],[0.5,\"#f7f7f7\"],[0.6,\"#e6f5d0\"],[0.7,\"#b8e186\"],[0.8,\"#7fbc41\"],[0.9,\"#4d9221\"],[1,\"#276419\"]],\"sequential\":[[0.0,\"#0d0887\"],[0.1111111111111111,\"#46039f\"],[0.2222222222222222,\"#7201a8\"],[0.3333333333333333,\"#9c179e\"],[0.4444444444444444,\"#bd3786\"],[0.5555555555555556,\"#d8576b\"],[0.6666666666666666,\"#ed7953\"],[0.7777777777777778,\"#fb9f3a\"],[0.8888888888888888,\"#fdca26\"],[1.0,\"#f0f921\"]],\"sequentialminus\":[[0.0,\"#0d0887\"],[0.1111111111111111,\"#46039f\"],[0.2222222222222222,\"#7201a8\"],[0.3333333333333333,\"#9c179e\"],[0.4444444444444444,\"#bd3786\"],[0.5555555555555556,\"#d8576b\"],[0.6666666666666666,\"#ed7953\"],[0.7777777777777778,\"#fb9f3a\"],[0.8888888888888888,\"#fdca26\"],[1.0,\"#f0f921\"]]},\"colorway\":[\"#636efa\",\"#EF553B\",\"#00cc96\",\"#ab63fa\",\"#FFA15A\",\"#19d3f3\",\"#FF6692\",\"#B6E880\",\"#FF97FF\",\"#FECB52\"],\"font\":{\"color\":\"#2a3f5f\"},\"geo\":{\"bgcolor\":\"white\",\"lakecolor\":\"white\",\"landcolor\":\"#E5ECF6\",\"showlakes\":true,\"showland\":true,\"subunitcolor\":\"white\"},\"hoverlabel\":{\"align\":\"left\"},\"hovermode\":\"closest\",\"mapbox\":{\"style\":\"light\"},\"paper_bgcolor\":\"white\",\"plot_bgcolor\":\"#E5ECF6\",\"polar\":{\"angularaxis\":{\"gridcolor\":\"white\",\"linecolor\":\"white\",\"ticks\":\"\"},\"bgcolor\":\"#E5ECF6\",\"radialaxis\":{\"gridcolor\":\"white\",\"linecolor\":\"white\",\"ticks\":\"\"}},\"scene\":{\"xaxis\":{\"backgroundcolor\":\"#E5ECF6\",\"gridcolor\":\"white\",\"gridwidth\":2,\"linecolor\":\"white\",\"showbackground\":true,\"ticks\":\"\",\"zerolinecolor\":\"white\"},\"yaxis\":{\"backgroundcolor\":\"#E5ECF6\",\"gridcolor\":\"white\",\"gridwidth\":2,\"linecolor\":\"white\",\"showbackground\":true,\"ticks\":\"\",\"zerolinecolor\":\"white\"},\"zaxis\":{\"backgroundcolor\":\"#E5ECF6\",\"gridcolor\":\"white\",\"gridwidth\":2,\"linecolor\":\"white\",\"showbackground\":true,\"ticks\":\"\",\"zerolinecolor\":\"white\"}},\"shapedefaults\":{\"line\":{\"color\":\"#2a3f5f\"}},\"ternary\":{\"aaxis\":{\"gridcolor\":\"white\",\"linecolor\":\"white\",\"ticks\":\"\"},\"baxis\":{\"gridcolor\":\"white\",\"linecolor\":\"white\",\"ticks\":\"\"},\"bgcolor\":\"#E5ECF6\",\"caxis\":{\"gridcolor\":\"white\",\"linecolor\":\"white\",\"ticks\":\"\"}},\"title\":{\"x\":0.05},\"xaxis\":{\"automargin\":true,\"gridcolor\":\"white\",\"linecolor\":\"white\",\"ticks\":\"\",\"title\":{\"standoff\":15},\"zerolinecolor\":\"white\",\"zerolinewidth\":2},\"yaxis\":{\"automargin\":true,\"gridcolor\":\"white\",\"linecolor\":\"white\",\"ticks\":\"\",\"title\":{\"standoff\":15},\"zerolinecolor\":\"white\",\"zerolinewidth\":2}}},\"xaxis\":{\"anchor\":\"y\",\"domain\":[0.0,1.0],\"title\":{\"text\":\"0\"}},\"yaxis\":{\"anchor\":\"x\",\"domain\":[0.0,1.0],\"title\":{\"text\":\"1\"}},\"coloraxis\":{\"colorbar\":{\"title\":{\"text\":\"Anomaly\"}},\"colorscale\":[[0.0,\"#0d0887\"],[0.1111111111111111,\"#46039f\"],[0.2222222222222222,\"#7201a8\"],[0.3333333333333333,\"#9c179e\"],[0.4444444444444444,\"#bd3786\"],[0.5555555555555556,\"#d8576b\"],[0.6666666666666666,\"#ed7953\"],[0.7777777777777778,\"#fb9f3a\"],[0.8888888888888888,\"#fdca26\"],[1.0,\"#f0f921\"]]},\"legend\":{\"tracegroupgap\":0},\"title\":{\"text\":\"uMAP Plot for Outliers\"},\"height\":800,\"width\":900},                        {\"responsive\": true}                    ).then(function(){\n",
              "                            \n",
              "var gd = document.getElementById('ab5f9d60-a3b3-4d5b-a4cf-8a1cd3e7bfbe');\n",
              "var x = new MutationObserver(function (mutations, observer) {{\n",
              "        var display = window.getComputedStyle(gd).display;\n",
              "        if (!display || display === 'none') {{\n",
              "            console.log([gd, 'removed!']);\n",
              "            Plotly.purge(gd);\n",
              "            observer.disconnect();\n",
              "        }}\n",
              "}});\n",
              "\n",
              "// Listen for the removal of the full notebook cells\n",
              "var notebookContainer = gd.closest('#notebook-container');\n",
              "if (notebookContainer) {{\n",
              "    x.observe(notebookContainer, {childList: true});\n",
              "}}\n",
              "\n",
              "// Listen for the clearing of the current output cell\n",
              "var outputEl = gd.closest('.output');\n",
              "if (outputEl) {{\n",
              "    x.observe(outputEl, {childList: true});\n",
              "}}\n",
              "\n",
              "                        })                };                            </script>        </div>\n",
              "</body>\n",
              "</html>"
            ]
          },
          "metadata": {}
        },
        {
          "output_type": "stream",
          "name": "stderr",
          "text": [
            "INFO:logs:Visual Rendered Successfully\n",
            "INFO:logs:plot_model() succesfully completed......................................\n"
          ]
        }
      ]
    },
    {
      "cell_type": "markdown",
      "source": [
        "Finally, we can save the model, load the saved model and use it to make predictions "
      ],
      "metadata": {
        "id": "5VrLo6JOP3QI"
      }
    },
    {
      "cell_type": "code",
      "source": [
        "save_model(model = anom_model, model_name = 'iforest_model')\n",
        "loaded_model = load_model('iforest_model')\n",
        "loaded_model.predict(df_unseen)"
      ],
      "metadata": {
        "colab": {
          "base_uri": "https://localhost:8080/"
        },
        "id": "WgvffCE7QBZg",
        "outputId": "4bb2d586-198f-4a1a-e1dd-3e87d0f60c86"
      },
      "execution_count": 61,
      "outputs": [
        {
          "output_type": "stream",
          "name": "stderr",
          "text": [
            "INFO:logs:Initializing save_model()\n",
            "INFO:logs:save_model(model=IForest(behaviour='new', bootstrap=False, contamination=0.05,\n",
            "    max_features=1.0, max_samples='auto', n_estimators=100, n_jobs=-1,\n",
            "    random_state=1594, verbose=0), model_name=iforest_model, prep_pipe_=Pipeline(memory=None,\n",
            "         steps=[('dtypes',\n",
            "                 DataTypes_Auto_infer(categorical_features=[],\n",
            "                                      display_types=False, features_todrop=[],\n",
            "                                      id_columns=[], ml_usecase='regression',\n",
            "                                      numerical_features=[],\n",
            "                                      target='UNSUPERVISED_DUMMY_TARGET',\n",
            "                                      time_features=[])),\n",
            "                ('imputer',\n",
            "                 Simple_Imputer(categorical_strategy='most frequent',\n",
            "                                fill_value_categorical=None,\n",
            "                                fill_value_numerical=Non...\n",
            "                ('scaling', 'passthrough'), ('P_transform', 'passthrough'),\n",
            "                ('binn', 'passthrough'), ('rem_outliers', 'passthrough'),\n",
            "                ('cluster_all', 'passthrough'),\n",
            "                ('dummy', Dummify(target='UNSUPERVISED_DUMMY_TARGET')),\n",
            "                ('fix_perfect', 'passthrough'),\n",
            "                ('clean_names', Clean_Colum_Names()),\n",
            "                ('feature_select', 'passthrough'), ('fix_multi', 'passthrough'),\n",
            "                ('dfs', 'passthrough'), ('pca', 'passthrough')],\n",
            "         verbose=False), verbose=True, kwargs={})\n",
            "INFO:logs:Adding model into prep_pipe\n",
            "INFO:logs:iforest_model.pkl saved in current working directory\n",
            "INFO:logs:Pipeline(memory=None,\n",
            "         steps=[('dtypes',\n",
            "                 DataTypes_Auto_infer(categorical_features=[],\n",
            "                                      display_types=False, features_todrop=[],\n",
            "                                      id_columns=[], ml_usecase='regression',\n",
            "                                      numerical_features=[],\n",
            "                                      target='UNSUPERVISED_DUMMY_TARGET',\n",
            "                                      time_features=[])),\n",
            "                ('imputer',\n",
            "                 Simple_Imputer(categorical_strategy='most frequent',\n",
            "                                fill_value_categorical=None,\n",
            "                                fill_value_numerical=Non...\n",
            "                ('fix_perfect', 'passthrough'),\n",
            "                ('clean_names', Clean_Colum_Names()),\n",
            "                ('feature_select', 'passthrough'), ('fix_multi', 'passthrough'),\n",
            "                ('dfs', 'passthrough'), ('pca', 'passthrough'),\n",
            "                ['trained_model',\n",
            "                 IForest(behaviour='new', bootstrap=False, contamination=0.05,\n",
            "    max_features=1.0, max_samples='auto', n_estimators=100, n_jobs=-1,\n",
            "    random_state=1594, verbose=0)]],\n",
            "         verbose=False)\n",
            "INFO:logs:save_model() successfully completed......................................\n"
          ]
        },
        {
          "output_type": "stream",
          "name": "stdout",
          "text": [
            "Transformation Pipeline and Model Successfully Saved\n"
          ]
        },
        {
          "output_type": "stream",
          "name": "stderr",
          "text": [
            "INFO:logs:Initializing load_model()\n",
            "INFO:logs:load_model(model_name=iforest_model, platform=None, authentication=None, verbose=True)\n"
          ]
        },
        {
          "output_type": "stream",
          "name": "stdout",
          "text": [
            "Transformation Pipeline and Model Successfully Loaded\n"
          ]
        },
        {
          "output_type": "execute_result",
          "data": {
            "text/plain": [
              "array([0, 0, 0, 0, 0, 0, 0, 0, 1, 0])"
            ]
          },
          "metadata": {},
          "execution_count": 61
        }
      ]
    },
    {
      "cell_type": "markdown",
      "source": [
        "We can look also look at the probabilities, as well as the anomaly scores using the following functions respectively."
      ],
      "metadata": {
        "id": "s6-GHWuhSAdl"
      }
    },
    {
      "cell_type": "code",
      "source": [
        "loaded_model.predict_proba(df_unseen)"
      ],
      "metadata": {
        "colab": {
          "base_uri": "https://localhost:8080/"
        },
        "id": "P_1-vX-eQUHP",
        "outputId": "92ed165d-f2f4-4999-ee36-134dc63d4df5"
      },
      "execution_count": 62,
      "outputs": [
        {
          "output_type": "execute_result",
          "data": {
            "text/plain": [
              "array([[0.77383401, 0.22616599],\n",
              "       [0.89916207, 0.10083793],\n",
              "       [0.47670737, 0.52329263],\n",
              "       [0.47385537, 0.52614463],\n",
              "       [0.53946081, 0.46053919],\n",
              "       [0.50067118, 0.49932882],\n",
              "       [0.68264866, 0.31735134],\n",
              "       [0.85376346, 0.14623654],\n",
              "       [0.30544885, 0.69455115],\n",
              "       [0.69041753, 0.30958247]])"
            ]
          },
          "metadata": {},
          "execution_count": 62
        }
      ]
    },
    {
      "cell_type": "code",
      "source": [
        "loaded_model.decision_function(df_unseen)"
      ],
      "metadata": {
        "colab": {
          "base_uri": "https://localhost:8080/"
        },
        "id": "ySxxOpQMQfPy",
        "outputId": "4b386f6b-0fed-488d-a3c1-a0cf30fcc527"
      },
      "execution_count": 63,
      "outputs": [
        {
          "output_type": "execute_result",
          "data": {
            "text/plain": [
              "array([-0.10612619, -0.14954957, -0.00317845, -0.00219029, -0.02492111,\n",
              "       -0.01148137, -0.0745325 , -0.13381996,  0.0561588 , -0.07722425])"
            ]
          },
          "metadata": {},
          "execution_count": 63
        }
      ]
    },
    {
      "cell_type": "markdown",
      "source": [
        "However, the results are not very accurate with the default fraction value"
      ],
      "metadata": {
        "id": "LXWl1kRpSX8c"
      }
    },
    {
      "cell_type": "code",
      "source": [
        "df2=load_breast_cancer(as_frame=True)['target']\n",
        "df2_unseen = df2.tail(10)\n",
        "print(df2_unseen)"
      ],
      "metadata": {
        "colab": {
          "base_uri": "https://localhost:8080/"
        },
        "id": "ntQZEwxYQj91",
        "outputId": "7f437342-47be-41b4-d22c-f57f06882ed8"
      },
      "execution_count": 64,
      "outputs": [
        {
          "output_type": "stream",
          "name": "stdout",
          "text": [
            "559    1\n",
            "560    1\n",
            "561    1\n",
            "562    0\n",
            "563    0\n",
            "564    0\n",
            "565    0\n",
            "566    0\n",
            "567    0\n",
            "568    1\n",
            "Name: target, dtype: int64\n"
          ]
        }
      ]
    },
    {
      "cell_type": "markdown",
      "source": [
        "## Exercise\n",
        "\n",
        "1. Try changing the fraction/contamination value and see if the prediction accuracy increases. Discuss why or why not.\n",
        "2. Try using the pycaret package on the credit card fraud dataset and vice versa"
      ],
      "metadata": {
        "id": "KXLsBw6TSn5P"
      }
    },
    {
      "cell_type": "code",
      "source": [],
      "metadata": {
        "id": "WPyroeWGS0cM"
      },
      "execution_count": null,
      "outputs": []
    }
  ],
  "metadata": {
    "colab": {
      "provenance": [],
      "collapsed_sections": [
        "gxt7qvITHgSA",
        "_dCFQ7rGgyhW",
        "xBhTpJ3-HgSH",
        "KXLsBw6TSn5P"
      ]
    },
    "kernelspec": {
      "display_name": "Python 3",
      "language": "python",
      "name": "python3"
    },
    "language_info": {
      "codemirror_mode": {
        "name": "ipython",
        "version": 3
      },
      "file_extension": ".py",
      "mimetype": "text/x-python",
      "name": "python",
      "nbconvert_exporter": "python",
      "pygments_lexer": "ipython3",
      "version": "3.9.7"
    },
    "vscode": {
      "interpreter": {
        "hash": "c769739c27f17ff849287a42121146e7db3afc66371c5feb48135b62d032b925"
      }
    },
    "widgets": {
      "application/vnd.jupyter.widget-state+json": {
        "2345726f86504dc3b675d88f815c2cea": {
          "model_module": "@jupyter-widgets/controls",
          "model_name": "IntProgressModel",
          "model_module_version": "1.5.0",
          "state": {
            "_dom_classes": [],
            "_model_module": "@jupyter-widgets/controls",
            "_model_module_version": "1.5.0",
            "_model_name": "IntProgressModel",
            "_view_count": null,
            "_view_module": "@jupyter-widgets/controls",
            "_view_module_version": "1.5.0",
            "_view_name": "ProgressView",
            "bar_style": "",
            "description": "Processing: ",
            "description_tooltip": null,
            "layout": "IPY_MODEL_5b9000f1712a423ab90e4b42a3d4dc06",
            "max": 3,
            "min": 0,
            "orientation": "horizontal",
            "style": "IPY_MODEL_f1d02c2d10e642a8921a4e01537de5e7",
            "value": 3
          }
        },
        "5b9000f1712a423ab90e4b42a3d4dc06": {
          "model_module": "@jupyter-widgets/base",
          "model_name": "LayoutModel",
          "model_module_version": "1.2.0",
          "state": {
            "_model_module": "@jupyter-widgets/base",
            "_model_module_version": "1.2.0",
            "_model_name": "LayoutModel",
            "_view_count": null,
            "_view_module": "@jupyter-widgets/base",
            "_view_module_version": "1.2.0",
            "_view_name": "LayoutView",
            "align_content": null,
            "align_items": null,
            "align_self": null,
            "border": null,
            "bottom": null,
            "display": null,
            "flex": null,
            "flex_flow": null,
            "grid_area": null,
            "grid_auto_columns": null,
            "grid_auto_flow": null,
            "grid_auto_rows": null,
            "grid_column": null,
            "grid_gap": null,
            "grid_row": null,
            "grid_template_areas": null,
            "grid_template_columns": null,
            "grid_template_rows": null,
            "height": null,
            "justify_content": null,
            "justify_items": null,
            "left": null,
            "margin": null,
            "max_height": null,
            "max_width": null,
            "min_height": null,
            "min_width": null,
            "object_fit": null,
            "object_position": null,
            "order": null,
            "overflow": null,
            "overflow_x": null,
            "overflow_y": null,
            "padding": null,
            "right": null,
            "top": null,
            "visibility": null,
            "width": null
          }
        },
        "f1d02c2d10e642a8921a4e01537de5e7": {
          "model_module": "@jupyter-widgets/controls",
          "model_name": "ProgressStyleModel",
          "model_module_version": "1.5.0",
          "state": {
            "_model_module": "@jupyter-widgets/controls",
            "_model_module_version": "1.5.0",
            "_model_name": "ProgressStyleModel",
            "_view_count": null,
            "_view_module": "@jupyter-widgets/base",
            "_view_module_version": "1.2.0",
            "_view_name": "StyleView",
            "bar_color": null,
            "description_width": ""
          }
        },
        "1d5b4613153142f68aba726685eef5b2": {
          "model_module": "@jupyter-widgets/controls",
          "model_name": "IntProgressModel",
          "model_module_version": "1.5.0",
          "state": {
            "_dom_classes": [],
            "_model_module": "@jupyter-widgets/controls",
            "_model_module_version": "1.5.0",
            "_model_name": "IntProgressModel",
            "_view_count": null,
            "_view_module": "@jupyter-widgets/controls",
            "_view_module_version": "1.5.0",
            "_view_name": "ProgressView",
            "bar_style": "",
            "description": "Processing: ",
            "description_tooltip": null,
            "layout": "IPY_MODEL_a6f525c2a0574b5884a7fa873e1be069",
            "max": 5,
            "min": 0,
            "orientation": "horizontal",
            "style": "IPY_MODEL_1168f77fc80e476a8d2d0e96c0e40342",
            "value": 3
          }
        },
        "a6f525c2a0574b5884a7fa873e1be069": {
          "model_module": "@jupyter-widgets/base",
          "model_name": "LayoutModel",
          "model_module_version": "1.2.0",
          "state": {
            "_model_module": "@jupyter-widgets/base",
            "_model_module_version": "1.2.0",
            "_model_name": "LayoutModel",
            "_view_count": null,
            "_view_module": "@jupyter-widgets/base",
            "_view_module_version": "1.2.0",
            "_view_name": "LayoutView",
            "align_content": null,
            "align_items": null,
            "align_self": null,
            "border": null,
            "bottom": null,
            "display": null,
            "flex": null,
            "flex_flow": null,
            "grid_area": null,
            "grid_auto_columns": null,
            "grid_auto_flow": null,
            "grid_auto_rows": null,
            "grid_column": null,
            "grid_gap": null,
            "grid_row": null,
            "grid_template_areas": null,
            "grid_template_columns": null,
            "grid_template_rows": null,
            "height": null,
            "justify_content": null,
            "justify_items": null,
            "left": null,
            "margin": null,
            "max_height": null,
            "max_width": null,
            "min_height": null,
            "min_width": null,
            "object_fit": null,
            "object_position": null,
            "order": null,
            "overflow": null,
            "overflow_x": null,
            "overflow_y": null,
            "padding": null,
            "right": null,
            "top": null,
            "visibility": null,
            "width": null
          }
        },
        "1168f77fc80e476a8d2d0e96c0e40342": {
          "model_module": "@jupyter-widgets/controls",
          "model_name": "ProgressStyleModel",
          "model_module_version": "1.5.0",
          "state": {
            "_model_module": "@jupyter-widgets/controls",
            "_model_module_version": "1.5.0",
            "_model_name": "ProgressStyleModel",
            "_view_count": null,
            "_view_module": "@jupyter-widgets/base",
            "_view_module_version": "1.2.0",
            "_view_name": "StyleView",
            "bar_color": null,
            "description_width": ""
          }
        },
        "03cb0660aaba4cb280028a2ef9ddd558": {
          "model_module": "@jupyter-widgets/controls",
          "model_name": "IntProgressModel",
          "model_module_version": "1.5.0",
          "state": {
            "_dom_classes": [],
            "_model_module": "@jupyter-widgets/controls",
            "_model_module_version": "1.5.0",
            "_model_name": "IntProgressModel",
            "_view_count": null,
            "_view_module": "@jupyter-widgets/controls",
            "_view_module_version": "1.5.0",
            "_view_name": "ProgressView",
            "bar_style": "",
            "description": "Processing: ",
            "description_tooltip": null,
            "layout": "IPY_MODEL_9fe7c98aab714c88a40642ba0867ce2d",
            "max": 5,
            "min": 0,
            "orientation": "horizontal",
            "style": "IPY_MODEL_5d54e3cf4d974cef8c39a714cd67c759",
            "value": 3
          }
        },
        "9fe7c98aab714c88a40642ba0867ce2d": {
          "model_module": "@jupyter-widgets/base",
          "model_name": "LayoutModel",
          "model_module_version": "1.2.0",
          "state": {
            "_model_module": "@jupyter-widgets/base",
            "_model_module_version": "1.2.0",
            "_model_name": "LayoutModel",
            "_view_count": null,
            "_view_module": "@jupyter-widgets/base",
            "_view_module_version": "1.2.0",
            "_view_name": "LayoutView",
            "align_content": null,
            "align_items": null,
            "align_self": null,
            "border": null,
            "bottom": null,
            "display": null,
            "flex": null,
            "flex_flow": null,
            "grid_area": null,
            "grid_auto_columns": null,
            "grid_auto_flow": null,
            "grid_auto_rows": null,
            "grid_column": null,
            "grid_gap": null,
            "grid_row": null,
            "grid_template_areas": null,
            "grid_template_columns": null,
            "grid_template_rows": null,
            "height": null,
            "justify_content": null,
            "justify_items": null,
            "left": null,
            "margin": null,
            "max_height": null,
            "max_width": null,
            "min_height": null,
            "min_width": null,
            "object_fit": null,
            "object_position": null,
            "order": null,
            "overflow": null,
            "overflow_x": null,
            "overflow_y": null,
            "padding": null,
            "right": null,
            "top": null,
            "visibility": null,
            "width": null
          }
        },
        "5d54e3cf4d974cef8c39a714cd67c759": {
          "model_module": "@jupyter-widgets/controls",
          "model_name": "ProgressStyleModel",
          "model_module_version": "1.5.0",
          "state": {
            "_model_module": "@jupyter-widgets/controls",
            "_model_module_version": "1.5.0",
            "_model_name": "ProgressStyleModel",
            "_view_count": null,
            "_view_module": "@jupyter-widgets/base",
            "_view_module_version": "1.2.0",
            "_view_name": "StyleView",
            "bar_color": null,
            "description_width": ""
          }
        }
      }
    },
    "gpuClass": "standard"
  },
  "nbformat": 4,
  "nbformat_minor": 0
}