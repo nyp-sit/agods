{
  "nbformat": 4,
  "nbformat_minor": 0,
  "metadata": {
    "kernelspec": {
      "display_name": "Python 3",
      "language": "python",
      "name": "python3"
    },
    "language_info": {
      "codemirror_mode": {
        "name": "ipython",
        "version": 2
      },
      "file_extension": ".py",
      "mimetype": "text/x-python",
      "name": "python",
      "nbconvert_exporter": "python",
      "pygments_lexer": "ipython2",
      "version": "2.7.15"
    },
    "colab": {
      "provenance": [],
      "collapsed_sections": [
        "44DETbUdn92z",
        "oVti2kuU34ru",
        "ZrJTXSZeC9gN",
        "9Ve_0Qu_HmYg",
        "xNCcV-n7XsKB"
      ]
    }
  },
  "cells": [
    {
      "cell_type": "markdown",
      "source": [
        "<img src=\"https://nyp-aicourse.s3.ap-southeast-1.amazonaws.com/agods/nyp_ago_logo.png\" width='400'/>"
      ],
      "metadata": {
        "id": "r1WmqOCcnzBc"
      }
    },
    {
      "cell_type": "markdown",
      "metadata": {
        "id": "C_5bmyGnPcnN"
      },
      "source": [
        "# Lab 1 - Descriptive Statistics\n",
        "\n"
      ]
    },
    {
      "cell_type": "markdown",
      "metadata": {
        "id": "s0B0leC1lwya"
      },
      "source": [
        "By the end of this practical you will be able to apply descriptive statistics methods using Python\n"
      ]
    },
    {
      "cell_type": "markdown",
      "metadata": {
        "id": "3WovTsuyPcnP"
      },
      "source": [
        "## Descriptive Statistics \n",
        "\n",
        "Descriptive statistics are numbers that are used to describe and summarize the data. They are used to describe the basic features of the data under consideration. They provide simple summary measures which give an overview of the dataset. Summary measures that are commonly used to describe a data set are measures of central tendency and measures of variability or dispersion. \n",
        "\n",
        "\n",
        "Measures of central tendency include the `mean`, `median` and `mode`. These measures summarize a given data set by providing a single data point. These measures describe the center position of a distribution for a data set. We analyze the frequency of each data point in the distribution and describes it using the mean, median or mode. They provide the average of a data set. They can be either a representation of entire population or a sample of the population.\n",
        "\n",
        "\n",
        "Measures of variability or dispersion include the `variance` or `standard deviation`, `coefficient of variation`,  `minimum` and `maximum` values, `IQR (Interquartile Range)`,  `skewness and `kurtosis`. These measures help us to analyze how spread-out the distribution is for a dataset. So, they provide the shape of the data set.\n",
        "\n",
        "\n"
      ]
    },
    {
      "cell_type": "markdown",
      "source": [
        "### Understand the data source\n",
        "\n",
        "\n",
        "\n",
        "\n",
        "The data set consists of revenue and profit figures of fortune 500 companies along with their rank."
      ],
      "metadata": {
        "id": "cdFrVTjIbava"
      }
    },
    {
      "cell_type": "code",
      "source": [
        "#import python libraries\n",
        "\n",
        "import pandas as pd\n",
        "import numpy as np\n",
        "import matplotlib.pyplot as plt\n",
        "import seaborn as sns\n",
        "%matplotlib inline"
      ],
      "metadata": {
        "id": "OIz-gKI1cBhZ"
      },
      "execution_count": null,
      "outputs": []
    },
    {
      "cell_type": "code",
      "source": [
        "import warnings\n",
        "warnings.filterwarnings('ignore')"
      ],
      "metadata": {
        "id": "MQmestqRcO5V"
      },
      "execution_count": null,
      "outputs": []
    },
    {
      "cell_type": "code",
      "source": [
        "!curl -O https://s3.amazonaws.com/dq-blog-files/fortune500.csv"
      ],
      "metadata": {
        "id": "EC09J3gEh5JR"
      },
      "execution_count": null,
      "outputs": []
    },
    {
      "cell_type": "code",
      "source": [
        "#use pandas_csv read the data source into python dataframe\n",
        "data = 'fortune500.csv'\n",
        "\n",
        "df = pd.read_csv(data)"
      ],
      "metadata": {
        "id": "JuMjnCp1cYti"
      },
      "execution_count": null,
      "outputs": []
    },
    {
      "cell_type": "code",
      "source": [
        "#View dimension of data source\n",
        "df.shape"
      ],
      "metadata": {
        "id": "yu22NObOcjSj"
      },
      "execution_count": null,
      "outputs": []
    },
    {
      "cell_type": "code",
      "source": [
        "#Preview the dataset\n",
        "df.head()"
      ],
      "metadata": {
        "id": "O_RCiOOWdM69"
      },
      "execution_count": null,
      "outputs": []
    },
    {
      "cell_type": "code",
      "source": [
        "#View summary of dataset\n",
        "df.info()"
      ],
      "metadata": {
        "id": "Dp0Fw9f7dT70"
      },
      "execution_count": null,
      "outputs": []
    },
    {
      "cell_type": "markdown",
      "source": [
        "Observations\n",
        "\n",
        "- We can see that the `Year` and `Rank` variables have integer data types as expected. The `Company` variable is of object data type. \n",
        "\n",
        "- The `Revenue (in millions)` variable is of float data type.\n",
        "\n",
        "- The `Profit (in millions)` variable is of object data type. "
      ],
      "metadata": {
        "id": "mqyayF7RdjCW"
      }
    },
    {
      "cell_type": "code",
      "source": [
        "#Descriptive or summary statistics in python – pandas, can be obtained by using the describe() function\n",
        "df.describe()"
      ],
      "metadata": {
        "id": "FnZ_mepTfN1H"
      },
      "execution_count": null,
      "outputs": []
    },
    {
      "cell_type": "markdown",
      "source": [
        "We can see that the describe() function excludes the character columns and gives summary statistics of numeric columns only."
      ],
      "metadata": {
        "id": "0Jvq_CKMfYe_"
      }
    },
    {
      "cell_type": "markdown",
      "metadata": {
        "id": "jQGO4UlimDyD"
      },
      "source": [
        "\n",
        "\n",
        "### Mean\n",
        "\n",
        "The mean is the numerical average of the entire data set.\n",
        "\n",
        "$$nums = \\{ 872,  432,  397,  427,  388,  782, 397\\}$$\n",
        "\n",
        "$$mean = \\Sigma nums / | nums |$$"
      ]
    },
    {
      "cell_type": "code",
      "metadata": {
        "id": "AQvyC9qNPcnQ"
      },
      "source": [
        "\n",
        "mean = df['Revenue (in millions)'].mean()\n",
        "\n",
        "print(mean)\n"
      ],
      "execution_count": null,
      "outputs": []
    },
    {
      "cell_type": "markdown",
      "metadata": {
        "id": "Q1ijJ1cxPcnS"
      },
      "source": [
        "### Median\n",
        "\n",
        "Median is the center (position) value in the ordered list.\n",
        "\n",
        "$$nums = \\{ 872, 432, 397, 427, 388, 782, 397\\}  = \\{ 388, 397, 397, \\underline{427}, 432, 782, 872\\}$$\n",
        "\n",
        "$$median = 427$$\n",
        "\n",
        "If the number of values in the data set is even, we take the average of the two center value. "
      ]
    },
    {
      "cell_type": "code",
      "metadata": {
        "id": "lJnG_MhOPcnT"
      },
      "source": [
        "median = df['Revenue (in millions)'].median()\n",
        "\n",
        "print(median)"
      ],
      "execution_count": null,
      "outputs": []
    },
    {
      "cell_type": "markdown",
      "metadata": {
        "id": "adg4rztfPcnV"
      },
      "source": [
        "### Mode\n",
        "\n",
        "Mode - the most frequent observation. If there is no repetition, no\n",
        "  mode exists.\n",
        "  \n",
        "$$nums = \\{ 872, \\underline{432, 432, 432}, 388, 782, 388\\}$$\n",
        "\n",
        "$$mode = 432$$\n"
      ]
    },
    {
      "cell_type": "code",
      "metadata": {
        "id": "kC2p_HEEImgk"
      },
      "source": [
        "mode = df['Revenue (in millions)'].mode()\n",
        "\n",
        "print(mode)"
      ],
      "execution_count": null,
      "outputs": []
    },
    {
      "cell_type": "markdown",
      "source": [
        "###Execrise 1"
      ],
      "metadata": {
        "id": "FQv6THX2hTQG"
      }
    },
    {
      "cell_type": "markdown",
      "source": [
        "Can you tell the type of skewness for data in the column 'Revenue (in millions)'?\n",
        "\n",
        "Draw distrubrition graph to verify the skewness."
      ],
      "metadata": {
        "id": "PI55izdchchY"
      }
    },
    {
      "cell_type": "code",
      "source": [
        "#Add code"
      ],
      "metadata": {
        "id": "FerdvFmKhaPv"
      },
      "execution_count": null,
      "outputs": []
    },
    {
      "cell_type": "markdown",
      "source": [
        "####Solution\n"
      ],
      "metadata": {
        "id": "KofplF93msDa"
      }
    },
    {
      "cell_type": "markdown",
      "source": [
        "Observation\n",
        "\n",
        "\n",
        "- We can see that `mean > median > mode`. So, the distribution of `Revenue (in millions)` is positively skewed. I will plot its distribution to confirm the same."
      ],
      "metadata": {
        "id": "GsfWQ1-jnC-u"
      }
    },
    {
      "cell_type": "code",
      "source": [
        "data = df['Revenue (in millions)']\n",
        "\n",
        "sns.distplot(data, bins=50, hist=True, kde=True, label = 'Revenue (in millions)')"
      ],
      "metadata": {
        "id": "HEBUEdmSmxsF"
      },
      "execution_count": null,
      "outputs": []
    },
    {
      "cell_type": "markdown",
      "metadata": {
        "id": "sHKp8qK2PcnX"
      },
      "source": [
        "### Variance\n",
        "\n",
        "The variance measures how far each value in the data set is from the\n",
        "mean.\n",
        "\n",
        "Let $x$ denote the data set, $n$ be the size of the data, $\\bar{x}$ denote the mean, variance $\\sigma^2$ is defined as \n",
        "$$\\sigma^2=\\frac{\\Sigma (x - \\bar{x})^2}{n}$$\n"
      ]
    },
    {
      "cell_type": "code",
      "metadata": {
        "id": "KMDAxV0pPcnY"
      },
      "source": [
        "df['Revenue (in millions)'].var()"
      ],
      "execution_count": null,
      "outputs": []
    },
    {
      "cell_type": "markdown",
      "metadata": {
        "id": "Q9Jps7gWPcnZ"
      },
      "source": [
        "### Standard deviation\n",
        "\n",
        "The standard deviation measures the spread of the data about the mean\n",
        "value. It is useful in comparing sets of data which may have the same\n",
        "mean but a different range.  $\\sigma$ is the standard deviation\n",
        "Let $x$ denote the data set, $n$ be the size of the data, $\\bar{x}$ denote the mean, standard deviation $\\sigma$ is defined as \n",
        "$$\\sigma=\\sqrt{\\frac{\\Sigma (x - \\bar{x})^2}{n}}$$\n",
        "\n"
      ]
    },
    {
      "cell_type": "code",
      "metadata": {
        "id": "KUf5mZtpPcna"
      },
      "source": [
        "df['Revenue (in millions)'].std()"
      ],
      "execution_count": null,
      "outputs": []
    },
    {
      "cell_type": "markdown",
      "source": [
        "###Execrise 2"
      ],
      "metadata": {
        "id": "TxAAjyVBmrAY"
      }
    },
    {
      "cell_type": "markdown",
      "source": [
        "Variance and standard deviation can help us understand if the data contains outliers. A low standard devation indicates that there are few or no outliers. A high standard deviation indicates there may be significant outliers.\n",
        "\n",
        "> The following table shows the starting salary of a class of 20 geography graduates from the University of North Carolina in 1986. Person 7 is Michael Jordan, who became a professional basketball player upon graduating. Calculate the average salary for the class. Find the standard deviation of the salaries with and without Person 7 included. How different are they?\n",
        ">\n",
        "> <img src=\"https://i.imgur.com/cJHEEEt.png\" width=\"240\">\n",
        "> "
      ],
      "metadata": {
        "id": "k_jhGMuvntrF"
      }
    },
    {
      "cell_type": "code",
      "source": [
        "#Add code"
      ],
      "metadata": {
        "id": "zOrFBm3n4jwg"
      },
      "execution_count": null,
      "outputs": []
    },
    {
      "cell_type": "markdown",
      "source": [
        "####Solution"
      ],
      "metadata": {
        "id": "44DETbUdn92z"
      }
    },
    {
      "cell_type": "code",
      "source": [
        "#solution 1\n",
        "import numpy as np\n",
        "salaries = [22000, 21000, 26000, 31000, 19000, 21500, 800000, 24500, 25000, 24000]\n",
        "salaries_woPerson7= [22000, 21000, 26000, 31000, 19000, 21500, 24500, 25000, 24000]\n",
        "\n",
        "sd = np.std(salaries)\n",
        "sd_woPerson7=np.std(salaries_woPerson7)\n",
        "print(sd, sd_woPerson7)"
      ],
      "metadata": {
        "id": "X2OeEX5iocKe"
      },
      "execution_count": null,
      "outputs": []
    },
    {
      "cell_type": "code",
      "source": [
        "#solution 2\n",
        "df_salaries=pd.DataFrame([22000, 21000, 26000, 31000, 19000, 21500, 800000, 24500, 25000, 24000])\n",
        "df_salaries_woPerson7=pd.DataFrame([22000, 21000, 26000, 31000, 19000, 21500, 24500, 25000, 24000])\n",
        "print(df_salaries.std(ddof=0), df_salaries_woPerson7.std(ddof=0))"
      ],
      "metadata": {
        "id": "buGJJmUQnAlr"
      },
      "execution_count": null,
      "outputs": []
    },
    {
      "cell_type": "markdown",
      "source": [
        "Low SD indicates a low variability. It is ideal because it you can better predict information about the population based on sample data.\n",
        "Hight SD indicates high variability means that the values are less consistent, so it’s harder to make predictions.\n"
      ],
      "metadata": {
        "id": "GVpSFRe2CNwI"
      }
    },
    {
      "cell_type": "markdown",
      "metadata": {
        "id": "9GKwLTqLHMLa"
      },
      "source": [
        "### Skewness\n"
      ]
    },
    {
      "cell_type": "markdown",
      "source": [
        "https://pandas.pydata.org/docs/reference/api/pandas.DataFrame.skew.html\n",
        "\n",
        "![skew.png](data:image/png;base64,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)\n",
        "\n",
        "\n",
        "\n",
        "\n",
        "· In a normal distribution, the mean divides the curve symmetrically into two equal parts at the median and the value of skewness is zero.\n",
        "\n",
        "· When the value of the skewness is negative, the tail of the distribution is longer towards the left hand side of the curve.\n",
        "\n",
        "· When the value of the skewness is positive, the tail of the distribution is longer towards the right hand side of the curve"
      ],
      "metadata": {
        "id": "uwo_FqqCDTR2"
      }
    },
    {
      "cell_type": "code",
      "metadata": {
        "id": "W9dKpd-4HbBK"
      },
      "source": [
        "df['Revenue (in millions)'].skew()"
      ],
      "execution_count": null,
      "outputs": []
    },
    {
      "cell_type": "markdown",
      "source": [
        "Interpretation\n",
        "\n",
        "the skewness to be 9.3267. So, it is greater than 1. Hence, we can conclude that the `Revenue (in millions)` data is highly skewed right."
      ],
      "metadata": {
        "id": "YbV0TnuF9yjY"
      }
    },
    {
      "cell_type": "markdown",
      "metadata": {
        "id": "EuGTIIc1Hcns"
      },
      "source": [
        "### Kurtosis\n",
        "https://pandas.pydata.org/docs/reference/api/pandas.DataFrame.kurtosis.html"
      ]
    },
    {
      "cell_type": "code",
      "metadata": {
        "id": "Yykl5RmpHlWB"
      },
      "source": [
        "df['Revenue (in millions)'].kurt()\n",
        " "
      ],
      "execution_count": null,
      "outputs": []
    },
    {
      "cell_type": "markdown",
      "source": [
        "Interpretation\n",
        "\n",
        "the kurtosis to be 132.0456. So, it is greater than 3 and so excess kurtosis > 0. Hence, we can conclude that the `Revenue (in millions)` curve is a leptokurtic curve. As compared to a normal distribution, its central peak is higher and sharper, and its tails are longer and fatter."
      ],
      "metadata": {
        "id": "fMds03wd-RE-"
      }
    },
    {
      "cell_type": "markdown",
      "source": [
        "###Execrise 3"
      ],
      "metadata": {
        "id": "UeQeKPlSEcPh"
      }
    },
    {
      "cell_type": "markdown",
      "source": [
        ">The following table shows a summary of test scores for a class of students. 2 students scored 1 mark in the test, 3 students scored 2 marks, 8 students scored 3 marks and so on. Compute the mean, median and mode of the scores. Does the data skew towards one side or the other?\n",
        ">\n",
        "> <img src=\"https://i.imgur.com/AD7m3gJ.png\" width=\"240\">\n",
        "> "
      ],
      "metadata": {
        "id": "nuKw1bfsEfkV"
      }
    },
    {
      "cell_type": "code",
      "source": [
        "#Add code\n"
      ],
      "metadata": {
        "id": "FMELAGI_3-MG"
      },
      "execution_count": null,
      "outputs": []
    },
    {
      "cell_type": "markdown",
      "source": [
        "####Solution(execrise 3)"
      ],
      "metadata": {
        "id": "oVti2kuU34ru"
      }
    },
    {
      "cell_type": "code",
      "source": [
        "import pandas as pd\n",
        "score = {\"score\":[1,2,3,4,5,6,7,8,9,10],\"No of students\":[2,3,8,7,13,18,23,12,5,1]}\n",
        "df = pd.DataFrame(score)\n",
        "print(df)\n",
        "listscore=[]\n",
        "for index,row in df.iterrows():\n",
        "  for i in range(row[\"No of students\"]):\n",
        "    listscore.append(row[\"score\"])\n",
        "print(listscore)"
      ],
      "metadata": {
        "id": "pPztZ83SHR0q"
      },
      "execution_count": null,
      "outputs": []
    },
    {
      "cell_type": "code",
      "source": [
        "df1=pd.DataFrame({\"newscore\" : listscore})\n",
        "\n",
        "print(\"mean mode median\")\n",
        "print(df1[\"newscore\"].mean())\n",
        "print(df1[\"newscore\"].mode()[0])\n",
        "print(df1[\"newscore\"].median())\n",
        "# dataFrame.describe()"
      ],
      "metadata": {
        "id": "zoUFL18cYHLj"
      },
      "execution_count": null,
      "outputs": []
    },
    {
      "cell_type": "markdown",
      "source": [
        "Mode> Median> Mean then the distribution is negatively skewed"
      ],
      "metadata": {
        "id": "g3mLqP0R5ofn"
      }
    },
    {
      "cell_type": "code",
      "source": [
        "\n",
        "skewValue = df1[\"newscore\"].skew() \n",
        "\n",
        "skewValue"
      ],
      "metadata": {
        "id": "CQk-gz8HEx42"
      },
      "execution_count": null,
      "outputs": []
    },
    {
      "cell_type": "markdown",
      "source": [
        "Moderately negative skewed"
      ],
      "metadata": {
        "id": "EjkTXfn75q88"
      }
    },
    {
      "cell_type": "markdown",
      "source": [
        "###Execrise 4"
      ],
      "metadata": {
        "id": "xMAiqMFqBdAK"
      }
    },
    {
      "cell_type": "markdown",
      "source": [
        "Import the wage.csv and perform descriptive analysis"
      ],
      "metadata": {
        "id": "-0xU7VMqBm3G"
      }
    },
    {
      "cell_type": "code",
      "source": [
        "#import wage.csv data source\n",
        "#Add code"
      ],
      "metadata": {
        "id": "K6zIxOgdBgde"
      },
      "execution_count": null,
      "outputs": []
    },
    {
      "cell_type": "code",
      "source": [
        "#Display the first 10 rows of data\n",
        "#Add code"
      ],
      "metadata": {
        "id": "ApgXfVcRDRYO"
      },
      "execution_count": null,
      "outputs": []
    },
    {
      "cell_type": "code",
      "source": [
        "#Measures of central tendency for column age \n",
        "\n",
        "#Mean for the column age\n",
        "#Add code\n",
        "\n",
        "#Median for the column age\n",
        "#Add code\n",
        "\n",
        "#Mode for the column age\n",
        "#Add code"
      ],
      "metadata": {
        "id": "Xy3ZsKjEDwbT"
      },
      "execution_count": null,
      "outputs": []
    },
    {
      "cell_type": "code",
      "source": [
        "# summary statistics for all numerical columns\n",
        "#Add code"
      ],
      "metadata": {
        "id": "t7l3onILDwMX"
      },
      "execution_count": null,
      "outputs": []
    },
    {
      "cell_type": "code",
      "source": [
        "# Find the skewness and kurtosis of the column wage\n",
        "#Add code"
      ],
      "metadata": {
        "id": "1GLMa0yzFtfJ"
      },
      "execution_count": null,
      "outputs": []
    },
    {
      "cell_type": "code",
      "source": [
        "#Give summary statistic of the age groupby eduction\n",
        "#Add code"
      ],
      "metadata": {
        "id": "pY5acT_jK6yA"
      },
      "execution_count": null,
      "outputs": []
    },
    {
      "cell_type": "code",
      "source": [
        "#Give summary statistic of the wage groupby eduction\n",
        "#Add code"
      ],
      "metadata": {
        "id": "fcPdkjSVL-XO"
      },
      "execution_count": null,
      "outputs": []
    },
    {
      "cell_type": "markdown",
      "source": [
        "####Solution(execrise 4)"
      ],
      "metadata": {
        "id": "ZrJTXSZeC9gN"
      }
    },
    {
      "cell_type": "code",
      "source": [
        "#import wage.csv data source\n",
        "import pandas as pd\n",
        "df = pd.read_csv(\"wage.csv\")"
      ],
      "metadata": {
        "id": "qZHso9kjDSqw"
      },
      "execution_count": null,
      "outputs": []
    },
    {
      "cell_type": "code",
      "source": [
        "#Display the first 10 rows of data\n",
        "df.head(10)"
      ],
      "metadata": {
        "id": "NbkeM3n6DgRw"
      },
      "execution_count": null,
      "outputs": []
    },
    {
      "cell_type": "code",
      "source": [
        "#Measures of central tendency for column age \n",
        "\n",
        "#Mean for the column age\n",
        "#Add code\n",
        "mean=df[\"age\"].mean()\n",
        "print(mean)\n",
        "\n",
        "#Median for the column age\n",
        "#Add code\n",
        "median=df[\"age\"].median()\n",
        "print(median)\n",
        "\n",
        "#Mode for the column age\n",
        "#Add code\n",
        "mode=df['age'].mode()\n",
        "print(mode)"
      ],
      "metadata": {
        "id": "sB4BdlbODxiG"
      },
      "execution_count": null,
      "outputs": []
    },
    {
      "cell_type": "code",
      "source": [
        "# summary statistics for all numerical columns\n",
        "round(df.describe(),2)"
      ],
      "metadata": {
        "id": "VQhwRr4aFY7X"
      },
      "execution_count": null,
      "outputs": []
    },
    {
      "cell_type": "code",
      "source": [
        "# Find the skewness and kurtosis of the column wage\n",
        "#Add code\n",
        "print(\"mean=\",df[\"wage\"].mean())\n",
        "print(\"median=\",df[\"wage\"].median())\n",
        "print(\"mode=\",df[\"wage\"].mode())\n",
        "\n",
        "print(\"skew=\", df[\"wage\"].skew())\n",
        "print(\"kurtosis=\", df[\"wage\"].kurt())\n",
        "\n",
        "\n",
        "data = df['wage']\n",
        "sns.distplot(data, bins=50, hist=True, kde=True, label = 'wage')"
      ],
      "metadata": {
        "id": "mqtfSIYaFrJJ"
      },
      "execution_count": null,
      "outputs": []
    },
    {
      "cell_type": "markdown",
      "source": [
        "Observation-skewness\n",
        "\n",
        "-\tPositive values for skewness indicate positive skewness. \n",
        "-\tThe dataset are skewed or tail to right. \n",
        "-\tBy skewed right, we mean that the right tail is long relative to the left tail. \n",
        "-\tThe data values are concentrated in the right. \n",
        "-\tSo, there is a long tail to the right that is caused by extremely large values which pull the mean upward so that it is greater than the median. \n",
        "-\tSo, we have\n",
        "       **Mean > Median > Mode**"
      ],
      "metadata": {
        "id": "_JMO36-PJXas"
      }
    },
    {
      "cell_type": "markdown",
      "source": [
        "Observation -  kurtosis\n",
        "\n",
        "-\tA distribution with kurtosis > 3 (**excess kurtosis** > 0) is called **leptokurtic**. \n",
        "-\tAs compared to a normal distribution, its central peak is higher and sharper, and its tails are longer and fatter."
      ],
      "metadata": {
        "id": "G0qZNt_bJdQZ"
      }
    },
    {
      "cell_type": "code",
      "source": [
        "#Give summary statistic of the age groupby eduction\n",
        "#Add code\n",
        "df['age'].groupby(df['education']).describe()"
      ],
      "metadata": {
        "id": "oXYYywegKV-r"
      },
      "execution_count": null,
      "outputs": []
    },
    {
      "cell_type": "code",
      "source": [
        "#Give summary statistic of the wage groupby eduction\n",
        "#Add code\n",
        "df['wage'].groupby(df['education']).describe()"
      ],
      "metadata": {
        "id": "T5lrOvTNLkw7"
      },
      "execution_count": null,
      "outputs": []
    },
    {
      "cell_type": "markdown",
      "metadata": {
        "id": "9Ve_0Qu_HmYg"
      },
      "source": [
        "### Correlation\n"
      ]
    },
    {
      "cell_type": "markdown",
      "source": [
        "https://pandas.pydata.org/pandas-docs/stable/reference/api/pandas.DataFrame.corr.html"
      ],
      "metadata": {
        "id": "ZAarVWsU4E4L"
      }
    },
    {
      "cell_type": "code",
      "metadata": {
        "id": "QCyQVakuPcpB"
      },
      "source": [
        "from pandas import DataFrame\n",
        "import seaborn as sn\n",
        "\n",
        "Data = {'A': [45,37,42,35,39],\n",
        "        'B': [38,31,26,28,33],\n",
        "        'C': [10,15,17,21,12]\n",
        "        }\n",
        "\n",
        "df = DataFrame(Data,columns=['A','B','C'])\n",
        "\n",
        "corrMatrix = df.corr()\n",
        "sn.heatmap(corrMatrix, annot=True)\n"
      ],
      "execution_count": null,
      "outputs": []
    },
    {
      "cell_type": "markdown",
      "source": [
        "###Execrise 5"
      ],
      "metadata": {
        "id": "OeozIitq4PEK"
      }
    },
    {
      "cell_type": "markdown",
      "source": [
        "The Boston Housing Dataset\n",
        "\n",
        "The Boston Housing Dataset is a derived from information collected by the U.S. Census Service concerning housing in the area of [ Boston MA](http://www.cs.toronto.edu/~delve/data/boston/bostonDetail.html). The following describes the dataset columns:\n",
        "\n",
        "* CRIM - per capita crime rate by town\n",
        "* ZN - proportion of residential land zoned for lots over 25,000 sq.ft.\n",
        "* INDUS - proportion of non-retail business acres per town.\n",
        "* CHAS - Charles River dummy variable (1 if tract bounds river; 0 otherwise)\n",
        "* NOX - nitric oxides concentration (parts per 10 million)\n",
        "* RM - average number of rooms per dwelling\n",
        "* AGE - proportion of owner-occupied units built prior to 1940\n",
        "* DIS - weighted distances to five Boston employment centres\n",
        "* RAD - index of accessibility to radial highways\n",
        "* TAX - full-value property-tax rate per \\$10,000\n",
        "* PTRATIO - pupil-teacher ratio by town\n",
        "* B - 1000(Bk - 0.63)^2 where Bk is the proportion of blacks by town\n",
        "* LSTAT - % lower status of the population\n",
        "* MEDV - Median value of owner-occupied homes in \\$1000's\n",
        "\n",
        "What are the important features that will affect the MEDV?\n"
      ],
      "metadata": {
        "id": "d6-ZGokU4rfn"
      }
    },
    {
      "cell_type": "code",
      "source": [
        "\n",
        "#importing libraries\n",
        "from sklearn.datasets import load_boston\n",
        "import pandas as pd\n",
        "import numpy as np\n",
        "import matplotlib\n",
        "import matplotlib.pyplot as plt\n",
        "import seaborn as sns\n",
        "import statsmodels.api as sm\n",
        "%matplotlib inline\n",
        "from sklearn.model_selection import train_test_split\n",
        "from sklearn.linear_model import LinearRegression\n",
        "from sklearn.feature_selection import RFE\n",
        "from sklearn.linear_model import RidgeCV, LassoCV, Ridge, Lasso\n",
        "#Loading the dataset\n",
        "x = load_boston()\n",
        "df = pd.DataFrame(x.data, columns = x.feature_names)\n",
        "df[\"MEDV\"] = x.target\n",
        "X = df.drop(\"MEDV\",1)   #Feature Matrix\n",
        "y = df[\"MEDV\"]          #Target Variable\n",
        "df.head()\n"
      ],
      "metadata": {
        "id": "RGZjipjy4Nk6"
      },
      "execution_count": null,
      "outputs": []
    },
    {
      "cell_type": "code",
      "source": [
        "#Add code"
      ],
      "metadata": {
        "id": "r9OpH2gu7vfd"
      },
      "execution_count": null,
      "outputs": []
    },
    {
      "cell_type": "markdown",
      "source": [
        "####Solution"
      ],
      "metadata": {
        "id": "XR23N8C84ZE5"
      }
    },
    {
      "cell_type": "code",
      "source": [
        "#importing libraries\n",
        "from sklearn.datasets import load_boston\n",
        "import pandas as pd\n",
        "import numpy as np\n",
        "import matplotlib\n",
        "import matplotlib.pyplot as plt\n",
        "import seaborn as sns\n",
        "import statsmodels.api as sm\n",
        "%matplotlib inline\n",
        "from sklearn.model_selection import train_test_split\n",
        "from sklearn.linear_model import LinearRegression\n",
        "from sklearn.feature_selection import RFE\n",
        "from sklearn.linear_model import RidgeCV, LassoCV, Ridge, Lasso\n",
        "#Loading the dataset\n",
        "x = load_boston()\n",
        "df = pd.DataFrame(x.data, columns = x.feature_names)\n",
        "df[\"MEDV\"] = x.target\n",
        "X = df.drop(\"MEDV\",1)   #Feature Matrix\n",
        "y = df[\"MEDV\"]          #Target Variable\n",
        "df.head()\n"
      ],
      "metadata": {
        "id": "0yDYj-cl4bPP"
      },
      "execution_count": null,
      "outputs": []
    },
    {
      "cell_type": "markdown",
      "source": [
        "The correlation coefficient has values between -1 to 1\n",
        "\n",
        "— A value closer to 0 implies weaker correlation (exact 0 implying no \n",
        "correlation)\n",
        "\n",
        "— A value closer to 1 implies stronger positive correlation\n",
        "\n",
        "— A value closer to -1 implies stronger negative correlation"
      ],
      "metadata": {
        "id": "iCvjho9o78E8"
      }
    },
    {
      "cell_type": "code",
      "source": [
        "plt.figure(figsize=(12,10))\n",
        "cor = df.corr()\n",
        "sns.heatmap(cor, annot=True, cmap=plt.cm.Reds)\n",
        "plt.show()"
      ],
      "metadata": {
        "id": "x9-sTUTk73uT"
      },
      "execution_count": null,
      "outputs": []
    },
    {
      "cell_type": "code",
      "source": [
        "# Correlation with output variable\n",
        "cor_target = abs(cor[\"MEDV\"])\n",
        "print(cor_target)"
      ],
      "metadata": {
        "id": "pB6ZX5Q98bWX"
      },
      "execution_count": null,
      "outputs": []
    },
    {
      "cell_type": "code",
      "source": [
        "# Selecting highly correlated features\n",
        "relevant_features = cor_target[cor_target>0.5]\n",
        "relevant_features"
      ],
      "metadata": {
        "id": "8fteh9HMCVXe"
      },
      "execution_count": null,
      "outputs": []
    },
    {
      "cell_type": "markdown",
      "source": [
        "As we can see, only the features RM, PTRATIO and LSTAT are highly correlated with the output variable MEDV. Hence we will drop all other features apart from these. However this is not the end of the process. One of the assumptions of linear regression is that the independent variables need to be uncorrelated with each other. If these variables are correlated with each other, then we need to keep only one of them and drop the rest. So let us check the correlation of selected features with each other. This can be done either by visually checking it from the above correlation matrix or from the code  below."
      ],
      "metadata": {
        "id": "moRreY0JCjft"
      }
    },
    {
      "cell_type": "code",
      "source": [
        "print(df[[\"LSTAT\",\"PTRATIO\"]].corr())\n",
        "print(df[[\"RM\",\"LSTAT\"]].corr())"
      ],
      "metadata": {
        "id": "5zbTWwieCigb"
      },
      "execution_count": null,
      "outputs": []
    },
    {
      "cell_type": "markdown",
      "source": [
        "From the above code, it is seen that the variables RM and LSTAT are highly correlated with each other (-0.613808). Hence we would keep only one variable and drop the other. We will keep LSTAT since its correlation with MEDV is higher than that of RM.\n",
        "After dropping RM, we are left with two feature, LSTAT and PTRATIO. "
      ],
      "metadata": {
        "id": "Km7-vdyxC2jc"
      }
    },
    {
      "cell_type": "markdown",
      "source": [
        "###Data Transformation"
      ],
      "metadata": {
        "id": "xNCcV-n7XsKB"
      }
    },
    {
      "cell_type": "markdown",
      "source": [
        "####Log Transformation"
      ],
      "metadata": {
        "id": "Lhq-jts1d0RU"
      }
    },
    {
      "cell_type": "code",
      "source": [
        "import numpy as np\n",
        "import pandas as pd\n",
        "import matplotlib.pyplot as plt\n",
        "\n",
        "#make this example reproducible\n",
        "np.random.seed(0)\n",
        "\n",
        "#create beta distributed random variable with 200 values\n",
        "data = np.random.beta(a=4, b=15, size=300)\n",
        "\n",
        "#create log-transformed data\n",
        "data_log = np.log(data)\n",
        "\n",
        "\n",
        "\n",
        "#define grid of plots\n",
        "fig, axs = plt.subplots(nrows=1, ncols=2)\n",
        "\n",
        "#create histograms\n",
        "axs[0].hist(data, edgecolor='black')\n",
        "axs[1].hist(data_log, edgecolor='black')\n",
        "\n",
        "#add title to each histogram\n",
        "axs[0].set_title('Original Data')\n",
        "axs[1].set_title('Log-Transformed Data')"
      ],
      "metadata": {
        "id": "Wa4ABfuyX05j"
      },
      "execution_count": null,
      "outputs": []
    },
    {
      "cell_type": "markdown",
      "source": [
        "How to check the Log transformation help to improve the data distribution?\n",
        "<details><summary>Click here for answer</summary> \n",
        "<br/>\n",
        "\n",
        "\n",
        "\n",
        "```\n",
        "df = pd.DataFrame(data)\n",
        "df1 = pd.DataFrame(data_log)\n",
        "print(df.skew())\n",
        "print(df1.skew())\n",
        "```\n",
        "result\n",
        "\n",
        "0    0.766207\n",
        "\n",
        "dtype: float64\n",
        "\n",
        "0   -0.554959\n",
        "\n",
        "dtype: float64\n",
        "\n",
        "Slight improvement from moderately skewed to aproximately skewed \n",
        "\n",
        "<br/>\n",
        "</details>"
      ],
      "metadata": {
        "id": "Gkfn-iGgeHID"
      }
    },
    {
      "cell_type": "code",
      "source": [
        "#Add code\n"
      ],
      "metadata": {
        "id": "jpJJ7T8nJZC1"
      },
      "execution_count": null,
      "outputs": []
    },
    {
      "cell_type": "markdown",
      "source": [
        "####Square Transformation"
      ],
      "metadata": {
        "id": "0OvZ1nFSd4NN"
      }
    },
    {
      "cell_type": "code",
      "source": [
        "import numpy as np\n",
        "import matplotlib.pyplot as plt\n",
        "\n",
        "#make this example reproducible\n",
        "np.random.seed(0)\n",
        "\n",
        "#create beta distributed random variable with 200 values\n",
        "# data = np.random.beta(a=1, b=5, size=300)\n",
        "data = np.random.beta(a=4, b=15, size=300)\n",
        "\n",
        "#create log-transformed data\n",
        "data_log = np.sqrt(data)\n",
        "\n",
        "df = pd.DataFrame(data)\n",
        "df1 = pd.DataFrame(data_log)\n",
        "print(df.skew())\n",
        "print(df1.skew())\n",
        "\n",
        "#define grid of plots\n",
        "fig, axs = plt.subplots(nrows=1, ncols=2)\n",
        "\n",
        "#create histograms\n",
        "axs[0].hist(data, edgecolor='black')\n",
        "axs[1].hist(data_log, edgecolor='black')\n",
        "\n",
        "#add title to each histogram\n",
        "axs[0].set_title('Original Data')\n",
        "axs[1].set_title('Square Root Transformed Data')\n"
      ],
      "metadata": {
        "id": "fzPM1XO5Ryp6"
      },
      "execution_count": null,
      "outputs": []
    },
    {
      "cell_type": "markdown",
      "source": [
        "Some improvement from moderately skewed to aproximately skewed"
      ],
      "metadata": {
        "id": "YEkCFwwGK6Hh"
      }
    },
    {
      "cell_type": "markdown",
      "source": [
        "####Reciprocal Transformation"
      ],
      "metadata": {
        "id": "pMJ2jctDd9kB"
      }
    },
    {
      "cell_type": "code",
      "source": [
        "import numpy as np\n",
        "import matplotlib.pyplot as plt\n",
        "\n",
        "#make this example reproducible\n",
        "np.random.seed(0)\n",
        "\n",
        "#create beta distributed random variable with 200 values\n",
        "# data = np.random.beta(a=1, b=5, size=300)\n",
        "data = np.random.beta(a=4, b=15, size=300)\n",
        "\n",
        "#create log-transformed data\n",
        "data_log = np.reciprocal(data)\n",
        "\n",
        "df = pd.DataFrame(data)\n",
        "df1 = pd.DataFrame(data_log)\n",
        "print(df.skew())\n",
        "print(df1.skew())\n",
        "\n",
        "#define grid of plots\n",
        "fig, axs = plt.subplots(nrows=1, ncols=2)\n",
        "\n",
        "#create histograms\n",
        "axs[0].hist(data, edgecolor='black')\n",
        "axs[1].hist(data_log, edgecolor='black')\n",
        "\n",
        "#add title to each histogram\n",
        "axs[0].set_title('Original Data')\n",
        "axs[1].set_title('reciprocal  Transformed Data')"
      ],
      "metadata": {
        "id": "hjO9u2GpXODH"
      },
      "execution_count": null,
      "outputs": []
    },
    {
      "cell_type": "markdown",
      "source": [
        "No improvement from moderately skewed. The new transformation become highly postively skewed."
      ],
      "metadata": {
        "id": "n6mE1vfQLS3e"
      }
    }
  ]
}