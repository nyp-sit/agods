{
 "cells": [
  {
   "cell_type": "markdown",
   "metadata": {
    "id": "-hBLQ-NHPH5h"
   },
   "source": [
    "<img src=\"https://nyp-aicourse.s3.ap-southeast-1.amazonaws.com/agods/nyp_ago_logo.png\" width='400'/>"
   ]
  },
  {
   "cell_type": "markdown",
   "metadata": {
    "id": "-PhJiZcYPG0h"
   },
   "source": [
    "# 1.Import necessary packages"
   ]
  },
  {
   "cell_type": "code",
   "execution_count": null,
   "metadata": {
    "_cell_guid": "b1076dfc-b9ad-4769-8c92-a6c4dae69d19",
    "_uuid": "8f2839f25d086af736a60e9eeb907d3b93b6e0e5",
    "id": "rHwopZ43PG0m"
   },
   "outputs": [],
   "source": [
    "\n",
    "import numpy as np # linear algebra\n",
    "import pandas as pd # data processing, CSV file I/O (e.g. pd.read_csv)\n",
    "import seaborn as sns\n",
    "import matplotlib.pyplot as plt\n"
   ]
  },
  {
   "cell_type": "markdown",
   "metadata": {
    "id": "OgENOQ8FPG0o"
   },
   "source": [
    "# 2.Load the file - Inc_Exp_Data.csv\n",
    "Display the first 5 rows of data\n",
    "\n",
    "<details><summary>Click here for answer</summary> \n",
    "<br/>\n",
    "\n",
    "\n",
    "```\n",
    "income_df=pd.read_csv(\"Inc_Exp_Data.csv\")\n",
    "income_df.head()\n",
    "income_df.describe().T\n",
    "\n",
    "```\n",
    "<br/>\n",
    "</details>"
   ]
  },
  {
   "cell_type": "code",
   "execution_count": null,
   "metadata": {
    "id": "TAKZ8Y68PG0p"
   },
   "outputs": [],
   "source": [
    "#Add code\n"
   ]
  },
  {
   "cell_type": "markdown",
   "metadata": {
    "id": "NLlvsNskPG0q"
   },
   "source": [
    "# 3.Analyze the data\n",
    "\n",
    "Display load data \n",
    "\n",
    "\n",
    "*  info\n",
    "*  shape\n",
    "*  descriptive statistics\n",
    "*  Check for any null values in any of the column\n",
    "\n",
    "\n",
    "<details><summary>Click here for answer</summary> \n",
    "<br/>\n",
    "\n",
    "\n",
    "```\n",
    "income_df.info()\n",
    "\n",
    "income_df.shape\n",
    "\n",
    "income_df.describe().T\n",
    "\n",
    "income_df.isna().any()\n",
    "\n",
    "```\n",
    "<br/>\n",
    "</details>\n"
   ]
  },
  {
   "cell_type": "code",
   "execution_count": null,
   "metadata": {
    "id": "4HVad9pPPG0r"
   },
   "outputs": [],
   "source": [
    "#Add code"
   ]
  },
  {
   "cell_type": "markdown",
   "metadata": {
    "id": "vvHWVdQhPG0u"
   },
   "source": [
    "# 4.What is the Mean Expense of a Household?\n",
    "\n",
    "<details><summary>Click here for answer</summary> \n",
    "<br/>\n",
    "\n",
    "\n",
    "```\n",
    "income_df[\"Mthly_HH_Expense\"].mean()\n",
    "\n",
    "```\n",
    "<br/>\n",
    "</details>"
   ]
  },
  {
   "cell_type": "code",
   "execution_count": null,
   "metadata": {
    "id": "aF7DU45dPG0u"
   },
   "outputs": [],
   "source": [
    "#Add code"
   ]
  },
  {
   "cell_type": "markdown",
   "metadata": {
    "id": "ikQ-XkSuPG0u"
   },
   "source": [
    "# 5.What is the Median Household Expense?\n",
    "\n",
    "<details><summary>Click here for answer</summary> \n",
    "<br/>\n",
    "\n",
    "\n",
    "```\n",
    "income_df[\"Mthly_HH_Expense\"].median()\n",
    "\n",
    "```\n",
    "<br/>\n",
    "</details>"
   ]
  },
  {
   "cell_type": "code",
   "execution_count": null,
   "metadata": {
    "id": "jF4pm62zPG0v"
   },
   "outputs": [],
   "source": [
    "#Add code"
   ]
  },
  {
   "cell_type": "markdown",
   "metadata": {
    "id": "cPJG8Z0gPG0v"
   },
   "source": [
    "# 6.What is the Monthly Expense for most of the Households?\n",
    "<details><summary>Click here for answer</summary> \n",
    "<br/>\n",
    "\n",
    "\n",
    "```\n",
    "mth_exp_tmp = pd.crosstab(index=income_df[\"Mthly_HH_Expense\"], columns=\"count\")\n",
    "mth_exp_tmp.reset_index(inplace=True)\n",
    "print(mth_exp_tmp)\n",
    "mth_exp_tmp[mth_exp_tmp['count'] == income_df.Mthly_HH_Expense.value_counts().max()]\n",
    "\n",
    "```\n",
    "<br/>\n",
    "</details>"
   ]
  },
  {
   "cell_type": "code",
   "execution_count": null,
   "metadata": {
    "id": "up4GAj4CPG0w"
   },
   "outputs": [],
   "source": [
    "#Add code"
   ]
  },
  {
   "cell_type": "markdown",
   "metadata": {
    "id": "myP80a_UPG0w"
   },
   "source": [
    "# 7.Plot the Histogram to count the Highest qualified member\n",
    "\n",
    "<details><summary>Click here for answer</summary> \n",
    "<br/>\n",
    "\n",
    "\n",
    "```\n",
    "income_df[\"Highest_Qualified_Member\"].value_counts().plot(kind=\"bar\")\n",
    "\n",
    "```\n",
    "<br/>\n",
    "</details>"
   ]
  },
  {
   "cell_type": "code",
   "execution_count": null,
   "metadata": {
    "id": "4j4dxjepPG0w"
   },
   "outputs": [],
   "source": [
    "#Add code"
   ]
  },
  {
   "cell_type": "markdown",
   "metadata": {
    "id": "Isa6O3daPG0x"
   },
   "source": [
    "# 8.Calculate IQR(difference between 75% and 25% quartile) for \"Mthly_HH_Expense\"\n",
    "\n",
    "<details><summary>Click here for answer</summary> \n",
    "<br/>\n",
    "\n",
    "\n",
    "```\n",
    "q75, q25 = np.percentile(income_df[\"Mthly_HH_Expense\"], [75 ,25])\n",
    "print(q75,q25)\n",
    "iqr = q75 - q25\n",
    "iqr\n",
    "\n",
    "```\n",
    "<br/>\n",
    "</details>"
   ]
  },
  {
   "cell_type": "code",
   "execution_count": null,
   "metadata": {
    "id": "aAlqDKQcWXqs"
   },
   "outputs": [],
   "source": [
    "#Add code"
   ]
  },
  {
   "cell_type": "markdown",
   "metadata": {
    "id": "hes2HHRvPG0x"
   },
   "source": [
    "# 9.Calculate Standard Deviation for first 4 columns.\n",
    "<details><summary>Click here for answer</summary> \n",
    "<br/>\n",
    "\n",
    "\n",
    "```\n",
    "pd.DataFrame(income_df.iloc[:,0:5].std().to_frame()).T\n",
    "\n",
    "```\n",
    "<br/>\n",
    "</details>\n"
   ]
  },
  {
   "cell_type": "code",
   "execution_count": null,
   "metadata": {
    "id": "ynIJLidHPG0y"
   },
   "outputs": [],
   "source": [
    "#Add code"
   ]
  },
  {
   "cell_type": "markdown",
   "metadata": {
    "id": "TH8LWg3aPG0y"
   },
   "source": [
    "# 10.Calculate Variance for first 3 columns.\n",
    "<details><summary>Click here for answer</summary> \n",
    "<br/>\n",
    "\n",
    "\n",
    "```\n",
    "pd.DataFrame(income_df.iloc[:,0:4].var().to_frame()).T\n",
    "```\n",
    "<br/>\n",
    "</details>"
   ]
  },
  {
   "cell_type": "code",
   "execution_count": null,
   "metadata": {
    "id": "1oy5-AJoPG0y"
   },
   "outputs": [],
   "source": [
    "#Add code"
   ]
  },
  {
   "cell_type": "markdown",
   "metadata": {
    "id": "T3Eh0dm7PG0y"
   },
   "source": [
    "# 11.Calculate the count of Highest qualified member.\n",
    "<details><summary>Click here for answer</summary> \n",
    "<br/>\n",
    "\n",
    "\n",
    "```\n",
    "income_df[\"Highest_Qualified_Member\"].value_counts().to_frame().T\n",
    "\n",
    "```\n",
    "<br/>\n",
    "</details>"
   ]
  },
  {
   "cell_type": "code",
   "execution_count": null,
   "metadata": {
    "id": "zH1LEFgyPG0z"
   },
   "outputs": [],
   "source": [
    "#Add code"
   ]
  },
  {
   "cell_type": "markdown",
   "metadata": {
    "id": "c1ANz1y7PG0z"
   },
   "source": [
    "# 11.Calculate the count of Highest qualified member.\n",
    "<details><summary>Click here for answer</summary> \n",
    "<br/>\n",
    "\n",
    "\n",
    "```\n",
    "income_df[\"Highest_Qualified_Member\"].value_counts().to_frame().T\n",
    "\n",
    "```\n",
    "<br/>\n",
    "</details>"
   ]
  },
  {
   "cell_type": "code",
   "execution_count": null,
   "metadata": {
    "id": "NSj6RxzDPG0z"
   },
   "outputs": [],
   "source": [
    "#Add code"
   ]
  },
  {
   "cell_type": "markdown",
   "metadata": {
    "id": "vpKzALozPG0z"
   },
   "source": [
    "# 12.Plot the Histogram to count the No_of_Earning_Members\n",
    "<details><summary>Click here for answer</summary> \n",
    "<br/>\n",
    "\n",
    "\n",
    "```\n",
    "income_df[\"No_of_Earning_Members\"].value_counts().plot(kind=\"bar\")\n",
    "\n",
    "```\n",
    "<br/>\n",
    "</details>"
   ]
  },
  {
   "cell_type": "code",
   "execution_count": null,
   "metadata": {
    "id": "z-jI0xvmPG00"
   },
   "outputs": [],
   "source": [
    "#Add code"
   ]
  }
 ],
 "metadata": {
  "colab": {
   "provenance": []
  },
  "kernelspec": {
   "display_name": "Python 3 (ipykernel)",
   "language": "python",
   "name": "python3"
  },
  "language_info": {
   "codemirror_mode": {
    "name": "ipython",
    "version": 3
   },
   "file_extension": ".py",
   "mimetype": "text/x-python",
   "name": "python",
   "nbconvert_exporter": "python",
   "pygments_lexer": "ipython3",
   "version": "3.9.7"
  }
 },
 "nbformat": 4,
 "nbformat_minor": 4
}
