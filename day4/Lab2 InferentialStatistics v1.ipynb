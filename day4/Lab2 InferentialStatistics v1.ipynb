{
  "nbformat": 4,
  "nbformat_minor": 0,
  "metadata": {
    "kernelspec": {
      "display_name": "Python 3",
      "language": "python",
      "name": "python3"
    },
    "language_info": {
      "codemirror_mode": {
        "name": "ipython",
        "version": 3
      },
      "file_extension": ".py",
      "mimetype": "text/x-python",
      "name": "python",
      "nbconvert_exporter": "python",
      "pygments_lexer": "ipython3",
      "version": "3.7.6"
    },
    "colab": {
      "provenance": []
    }
  },
  "cells": [
    {
      "cell_type": "markdown",
      "source": [
        "<img src=\"https://nyp-aicourse.s3.ap-southeast-1.amazonaws.com/agods/nyp_ago_logo.png\" width='400'/>"
      ],
      "metadata": {
        "id": "PzpEfKWunk9r"
      }
    },
    {
      "cell_type": "markdown",
      "metadata": {
        "id": "x6hTmXHi3oCo"
      },
      "source": [
        "#Lab 2 - Inferential Statistics"
      ]
    },
    {
      "cell_type": "markdown",
      "source": [
        "By the end of this practical you will be able to apply Inferential statistics methods using Python\n",
        "\n",
        "Goto Github to see the data files\n",
        "\n",
        "https://github.com/nyp-sit/agods/tree/main/day4\n",
        "\n"
      ],
      "metadata": {
        "id": "xls74RI2hHLx"
      }
    },
    {
      "cell_type": "markdown",
      "metadata": {
        "id": "jlXvyd8X3mIe"
      },
      "source": [
        "## 1.  Case 1 \n",
        "\n",
        "A physician is evaluating a new diet for her patients with a family history of heart disease. To test the effectiveness of this diet, 16 patients are placed on the diet for 6 months. Their weights and triglyceride levels are measured before and after the study, and the physician wants to know if either set of measurements has changed. (Data set: dietstudy.csv) \n",
        "\n",
        "*what type of hypothesis test to use?*\n",
        "\n",
        "\n",
        "<details><summary>Click here for answer</summary> \n",
        "<br/>\n",
        "Two Sample T-Test (Paired)\n",
        "<br/>\n",
        "</details>\n",
        "<br/>\n",
        " "
      ]
    },
    {
      "cell_type": "code",
      "metadata": {
        "id": "ujFjuPlV3mIf"
      },
      "source": [
        "import numpy as np\n",
        "import pandas as pd\n",
        "import matplotlib.pyplot as plt\n",
        "import scipy.stats as stats\n",
        "%matplotlib inline"
      ],
      "execution_count": null,
      "outputs": []
    },
    {
      "cell_type": "markdown",
      "metadata": {
        "id": "FzUn6gCK33uP"
      },
      "source": [
        "###Read the dataset \n",
        "\n",
        "\n",
        "<details><summary>Click here for answer</summary> \n",
        "<br/>\n",
        "\n",
        "upload the file dietstudy.csv using the Upload to session storage\n",
        "\n",
        "```\n",
        "diet = pd.read_csv('dietstudy.csv')\n",
        "diet.head()\n",
        "```\n",
        "<br/>\n",
        "</details>\n",
        "\n",
        "<br/>\n",
        "\n",
        "\n",
        "\n"
      ]
    },
    {
      "cell_type": "code",
      "metadata": {
        "id": "HzLEYFAq9HMx"
      },
      "source": [
        "#Add code\n"
      ],
      "execution_count": null,
      "outputs": []
    },
    {
      "cell_type": "markdown",
      "metadata": {
        "id": "Ll2fwZzx4Hpj"
      },
      "source": [
        "Check dataset size\n",
        "\n",
        "<details><summary>Click here for answer</summary> \n",
        "<br/>\n",
        "\n",
        "```\n",
        "diet.shape\n",
        "```\n",
        "\n",
        "<br/>\n",
        "</details>\n",
        "\n",
        "<br/>\n",
        "\n",
        "\n",
        "\n"
      ]
    },
    {
      "cell_type": "code",
      "metadata": {
        "id": "V8XKSU884P4z"
      },
      "source": [
        "#Add code"
      ],
      "execution_count": null,
      "outputs": []
    },
    {
      "cell_type": "markdown",
      "metadata": {
        "id": "2L3YSmvg3mIh"
      },
      "source": [
        "### Identify Test Statistic\n",
        "\n",
        "Find the mean for the triglyceride and Weights before and after the diet.\n",
        "\n",
        "<details><summary>Click here for answer</summary> \n",
        "<br/>\n",
        "\n",
        "Two Sample T-Test (Paired)\n",
        "\n",
        "```\n",
        "print(\"The triglyceride levels of patients were {}\".format(diet.tg0.mean()))\n",
        "print(\"The final triglyceride levels of patients are {}\".format(diet.tg4.mean()))\n",
        "print(\"The weights of pateints were {}\".format(diet.wgt0.mean()))\n",
        "print(\"The final weights of pateints are {}\".format(diet.wgt4.mean()))\n",
        "```\n",
        "\n",
        "\n",
        "    \n",
        "<br/>\n",
        "</details>\n",
        "\n",
        "\n",
        "\n",
        "\n",
        "\n"
      ]
    },
    {
      "cell_type": "code",
      "metadata": {
        "id": "V4GkuSV_6weT"
      },
      "source": [
        "#Add code"
      ],
      "execution_count": null,
      "outputs": []
    },
    {
      "cell_type": "markdown",
      "metadata": {
        "id": "nDAyf99B3mIi"
      },
      "source": [
        "#### Triglycerides\n",
        "\n",
        "H0:  levels of Triglycerides of individual before diet == levels of Triglycerides of individual after diet \n",
        "\n",
        "H1:  levels of Triglycerides of individual before diet != levels of Triglycerides of individual after diet \n",
        "\n",
        "Use:<br>\n",
        "import scipy.stats as stats <br>\n",
        "stats.ttest_rel() <br>\n",
        "https://docs.scipy.org/doc/scipy/reference/generated/scipy.stats.ttest_rel.html<br>\n",
        "\n",
        "<details><summary>Click here for answer</summary> \n",
        "<br/>\n",
        "\n",
        "\n",
        "```\n",
        "stage1_trig = stats.ttest_rel(a=diet.tg0,b=diet.tg4) \n",
        "\n",
        "#a =triglyceride levels before diet\n",
        "#b = triglyceride levels after diet\n",
        "```\n",
        "\n",
        "Get the pvalue\n",
        "\n",
        "```\n",
        "stage1_trig.pvalue\n",
        "```\n",
        "\n",
        "Check pvalue with confidence level 0.025\n",
        "\n",
        "\n",
        "```\n",
        "stage1_trig.pvalue>0.025\n",
        "```\n",
        "\n",
        "\n",
        "    \n",
        "<br/>\n",
        "</details>\n",
        "\n",
        "<br/>\n",
        "\n",
        "\n",
        "\n"
      ]
    },
    {
      "cell_type": "code",
      "metadata": {
        "id": "MSRMvBdn69un"
      },
      "source": [
        "#Add code\n",
        "#T test"
      ],
      "execution_count": null,
      "outputs": []
    },
    {
      "cell_type": "code",
      "metadata": {
        "id": "tjXB-jEe-MAH"
      },
      "source": [
        "#Add code\n",
        "#get p-value"
      ],
      "execution_count": null,
      "outputs": []
    },
    {
      "cell_type": "code",
      "metadata": {
        "id": "DEh6vFq1-MOI"
      },
      "source": [
        "#Add code\n",
        "#check significant -check p-value with alpha  "
      ],
      "execution_count": null,
      "outputs": []
    },
    {
      "cell_type": "markdown",
      "metadata": {
        "id": "hnWBBvAP3mIj"
      },
      "source": [
        "#### Weights\n",
        "\n",
        "#### H0:  weights of individual before diet == weights of individual after diet \n",
        "\n",
        "#### H1:  weights of individual before diet != weights of individual after diet\n",
        "\n",
        "\n",
        "\n",
        "<details><summary>Click here for answer</summary> \n",
        "<br/>\n",
        "\n",
        "```\n",
        "stage2_weight = stats.ttest_rel(a=diet.wgt0,b=diet.wgt4) \n",
        "\n",
        "#a = weights before diet\n",
        "#b = weights after diet\n",
        "```\n",
        "\n",
        "Get pvalue\n",
        "\n",
        "```\n",
        "stage2_weight.pvalue\n",
        "```\n",
        "\n",
        "Check pvalue with confidence level 0.025\n",
        "\n",
        "\n",
        "```\n",
        "stage2_weight.pvalue>0.025\n",
        "```\n",
        "\n",
        "<br/>\n",
        "</details>\n",
        "\n",
        "<br/>\n",
        "\n",
        "\n",
        "\n",
        "\n",
        "\n",
        "\n"
      ]
    },
    {
      "cell_type": "code",
      "metadata": {
        "id": "PT4SsCj6BgSd"
      },
      "source": [
        "#Add code\n",
        "#T test"
      ],
      "execution_count": null,
      "outputs": []
    },
    {
      "cell_type": "code",
      "metadata": {
        "id": "sC4vprmKBmmw"
      },
      "source": [
        "#Add code\n",
        "#get p-value"
      ],
      "execution_count": null,
      "outputs": []
    },
    {
      "cell_type": "code",
      "metadata": {
        "id": "DWmgtPUOBpZK"
      },
      "source": [
        "#Add code\n",
        "#check significant -check p-value with alpha  "
      ],
      "execution_count": null,
      "outputs": []
    },
    {
      "cell_type": "markdown",
      "metadata": {
        "id": "CbcWtLpR3mIk"
      },
      "source": [
        "### Conclusions\n",
        "\n",
        "\n",
        "<details><summary>Click here for answer</summary> \n",
        "<br/>\n",
        "\n",
        "\n",
        "1.   However, the p-value greater than 0.025 for change in triglyceride level shows the diet did not significantly reduce their triglyceride levels. Accept Null Hypothesis\n",
        "2.   Since the p-value for change in weight is less than 0.025,we can conclude that the average loss of 8.06 pounds per patient is not due to chance variation, and can be attributed to the diet. Reject Null Hypothesis\n",
        "\n",
        "\n",
        "<br/>\n",
        "</details>\n",
        "\n",
        "<br/>\n",
        "\n",
        "\n",
        "\n"
      ]
    },
    {
      "cell_type": "markdown",
      "metadata": {
        "id": "3_X-DdUE3mIk"
      },
      "source": [
        "## 2. Case 2\n",
        "An analyst at a department store wants to evaluate a recent credit card promotion. To this end, 500 cardholders were randomly selected. Half received an ad promoting a reduced interest rate on purchases made over the next three months, and half received a standard seasonal ad. Is the promotion effective to increase sales? <br>\n",
        "<br>\n",
        "*what type of hypothesis test to use?*<br>\n",
        "\n",
        "<details><summary>Click here for answer</summary> \n",
        "<br/>\n",
        "Two Sample T-Test (Indepedent)\n",
        "<br/>\n",
        "</details>\n",
        "<br/>"
      ]
    },
    {
      "cell_type": "markdown",
      "metadata": {
        "id": "zh8kvVNV_NSP"
      },
      "source": [
        "### Read dataset\n",
        "\n",
        "<details><summary>Click here for answer</summary> \n",
        "<br/>\n",
        "\n",
        "upload the file creditpromo.csv using the Upload to session storage\n",
        "\n",
        "```\n",
        "analyst_cre = pd.read_csv('creditpromo.csv')\n",
        "\n",
        "analyst_cre.head()\n",
        "```\n",
        "<br/>\n",
        "</details>\n",
        "\n",
        "<br/>\n",
        "\n",
        "\n"
      ]
    },
    {
      "cell_type": "code",
      "metadata": {
        "id": "lnb7fRhK_MXh"
      },
      "source": [
        "#Add code"
      ],
      "execution_count": null,
      "outputs": []
    },
    {
      "cell_type": "markdown",
      "metadata": {
        "id": "DrO9LCkg_m6z"
      },
      "source": [
        "### Get mean for Standard and New Promotion\n",
        "\n",
        "<details><summary>Click here for answer</summary> \n",
        "<br/>\n",
        "\n",
        "```\n",
        "\n",
        "standard = analyst_cre['dollars'].loc[analyst_cre['insert']==\"Standard\"]\n",
        "\n",
        "promotion = analyst_cre['dollars'].loc[analyst_cre['insert']==\"New Promotion\"]\n",
        "\n",
        "print(\"The average spent by the normal ad is ${}\".format(standard.mean()))\n",
        "\n",
        "print(\"The average spent by the promotion ad is ${}\".format(promotion.mean()))\n",
        "\n",
        "```\n",
        "<br/>\n",
        "</details>\n",
        "\n",
        "<br/>\n",
        "\n",
        "\n",
        "\n",
        "\n"
      ]
    },
    {
      "cell_type": "code",
      "metadata": {
        "id": "TFCDTK_HGM1k"
      },
      "source": [
        "#Add code"
      ],
      "execution_count": null,
      "outputs": []
    },
    {
      "cell_type": "markdown",
      "metadata": {
        "id": "B8_3WXA33mIl"
      },
      "source": [
        "Observation<br>\n",
        "\n",
        "<details><summary>Click here for answer</summary> \n",
        "<br/>\n",
        "On average, customers who received the interest-rate promotion charged about $70 more than the normal standard season ad, and they vary a little more around their average\n",
        "<br/>\n",
        "</details>\n",
        "\n",
        "<br/>\n",
        "\n"
      ]
    },
    {
      "cell_type": "markdown",
      "metadata": {
        "id": "LRSKp4mf_3Y-"
      },
      "source": [
        "### Indentify test statistic\n",
        "\n",
        "\n",
        "\n",
        "\n",
        "H0:  Promotion is not effective to increase sales\n",
        "\n",
        "H1:  Promotion is  effective to increase sales\n",
        "<br>\n",
        "https://docs.scipy.org/doc/scipy/reference/generated/scipy.stats.ttest_ind.html<br>\n",
        "\n",
        "<br>\n",
        "\n",
        "\n",
        "<details><summary>Click here for answer</summary> \n",
        "<br/>\n",
        "\n",
        "2 sample T test independent\n",
        "\n",
        "```\n",
        "eq_var = stats.ttest_ind(a= standard,b= promotion)   \n",
        "\n",
        "eq_var.pvalue\n",
        "\n",
        "p = eq_var.pvalue\n",
        "\n",
        "print(\" For the above test, the p-value is {}\".format(p))\n",
        "\n",
        "if(p<0.025):\n",
        "    print('We reject null hypothesis')\n",
        "else:\n",
        "    print('We accept null hypothesis')\n",
        "\n",
        "\n",
        "```\n",
        "<br/>\n",
        "</details>\n",
        "\n",
        "<br/>\n",
        "\n",
        "\n"
      ]
    },
    {
      "cell_type": "code",
      "metadata": {
        "id": "65UFHxw8FDZz"
      },
      "source": [
        "#Add code"
      ],
      "execution_count": null,
      "outputs": []
    },
    {
      "cell_type": "markdown",
      "metadata": {
        "id": "8C6G_ii-3mIm"
      },
      "source": [
        "Conclusion<br>\n",
        "<details><summary>Click here for answer</summary> \n",
        "<br/>\n",
        "* Since the significance value of the test is less than 0.025, we can safely conclude that the average of 71.11 dollars more spent by cardholders receiving the reduced interest rate is not due to chance alone. The store will now consider extending the offer to all credit customers.\n",
        "<br/>\n",
        "</details>\n",
        "\n",
        "<br/>\n"
      ]
    },
    {
      "cell_type": "markdown",
      "metadata": {
        "id": "RUry01DT3mIn"
      },
      "source": [
        "## 3. Case 3 - Execrise\n",
        "An experiment is conducted to study the hybrid seed production of bottle gourd under open field conditions. The main aim of the investigation is to compare natural pollination and hand pollination. The data are collected on 10 randomly selected plants from each of natural pollination and hand pollination. The data are collected on fruit weight (kg), seed yield/plant (g) and seedling length (cm). (Data set: pollination.csv)\n",
        "<br>\n",
        "\n",
        "\n"
      ]
    },
    {
      "cell_type": "markdown",
      "source": [
        "### a. Is the overall population of Seed yield/plant (g) equals to 200?"
      ],
      "metadata": {
        "id": "HGgTLSqm6zgU"
      }
    },
    {
      "cell_type": "markdown",
      "metadata": {
        "id": "1pMhEFu23mIn"
      },
      "source": [
        "\n",
        "<br>\n",
        "\n",
        "*what type of hypothesis test to use?*<br>\n",
        "\n",
        "<details><summary>Click here for answer</summary> \n",
        "<br/>\n",
        "One Sample t-Test\n",
        "<br/>\n",
        "</details>\n",
        "<br/>\n",
        "\n",
        "<br>\n",
        "<br>\n",
        "Load dataset\n",
        "<details><summary>Click here for answer</summary> \n",
        "<br/>\n",
        "\n",
        "upload the file pollination.csv using the Upload to session storage\n",
        "```\n",
        "poll = pd.read_csv('pollination.csv')\n",
        "poll.head()\n",
        "```\n",
        "<br/>\n",
        "</details>\n",
        "\n",
        "<br/>\n",
        "\n",
        "\n",
        "\n",
        "\n"
      ]
    },
    {
      "cell_type": "code",
      "metadata": {
        "id": "KBYFLejER8jG"
      },
      "source": [
        "#Add code"
      ],
      "execution_count": null,
      "outputs": []
    },
    {
      "cell_type": "markdown",
      "metadata": {
        "id": "7RHKhUGrSGWw"
      },
      "source": [
        "Find the mean for Seed yield/plant\n",
        "<br>\n",
        "<details><summary>Click here for answer</summary> \n",
        "<br/>\n",
        "\n",
        "```\n",
        "\n",
        "poll.Seed_Yield_Plant.mean()\n",
        "\n",
        "\n",
        "```\n",
        "<br/>\n",
        "</details>\n",
        "\n",
        "\n",
        "\n",
        "\n",
        "\n"
      ]
    },
    {
      "cell_type": "code",
      "metadata": {
        "id": "sb2oBJgQSdOb"
      },
      "source": [
        "#Add code"
      ],
      "execution_count": null,
      "outputs": []
    },
    {
      "cell_type": "markdown",
      "metadata": {
        "id": "uk9jrnSJSzfM"
      },
      "source": [
        "One sample T Test\n",
        "\n",
        "\n",
        "H0:  Overall population mean of seed yield plant equal to 200 \n",
        "\n",
        "H1:  Overall population mean of seed yield plant not equal to 200 \n",
        "\n",
        "\n",
        "\n",
        "<br>\n",
        "https://docs.scipy.org/doc/scipy/reference/generated/scipy.stats.ttest_1samp.html<br>\n",
        "\n",
        "<br>\n",
        "<details><summary>Click here for answer</summary> \n",
        "<br/>\n",
        "\n",
        "```\n",
        "\n",
        "ttest_1 = stats.ttest_1samp(a=poll.Seed_Yield_Plant,popmean = 200)\n",
        "\n",
        "p_value = ttest_1.pvalue\n",
        "\n",
        "print(\"The p value is {}\".format(p_value))\n",
        "\n",
        "if(p<0.025):\n",
        "    print('We reject null hypothesis')\n",
        "else:\n",
        "    print('We accept null hypothesis')\n",
        "\n",
        "\n",
        "#Alernative code\n",
        "ttest_1 = stats.ttest_1samp(a=poll.Seed_Yield_Plant, popmean = 200,alternative='two-sided')\n",
        "\n",
        "p_value = ttest_1.pvalue\n",
        "print(\"The p value is {} \".format(p_value))\n",
        "\n",
        "```\n",
        "<br/>\n",
        "</details>\n",
        "\n",
        "\n",
        "\n"
      ]
    },
    {
      "cell_type": "code",
      "metadata": {
        "id": "E5brw5mDTAcO"
      },
      "source": [
        "#Add code"
      ],
      "execution_count": null,
      "outputs": []
    },
    {
      "cell_type": "markdown",
      "metadata": {
        "id": "PZ3rWB8f3mIp"
      },
      "source": [
        "Conclusion\n",
        "\n",
        "<br>\n",
        "<details><summary>Click here for answer</summary> \n",
        "<br/>\n",
        "\n",
        "* Since the significance value of the test is more than 0.025, we accept the null hypothesis. Therefore overall population of seed yield/plant is equal to 200.\n",
        "<br/>\n",
        "</details>\n",
        "\n"
      ]
    },
    {
      "cell_type": "markdown",
      "metadata": {
        "id": "wYbgPlGW3mIp"
      },
      "source": [
        "### b. Test whether the natural pollination and hand pollination under open field conditions are equally effective or are significantly different. "
      ]
    },
    {
      "cell_type": "markdown",
      "metadata": {
        "id": "MgJakL7T3mIp"
      },
      "source": [
        "<br>\n",
        "\n",
        "*what type of hypothesis test to use?*<br>\n",
        "\n",
        "\n",
        "<details><summary>Click here for answer</summary> \n",
        "<br/>\n",
        "2 sample t-test independent\n",
        "\n",
        "<br/>\n",
        "</details>\n",
        "\n",
        "\n",
        "\n",
        "\n",
        "<details><summary>Click here for answer</summary> \n",
        "<br/>\n",
        "\n",
        "H0  : mean Fruit_Wt(Natural) == mean Fruit_Wt(Hand)\n",
        "\n",
        "H1  : mean Fruit_Wt(Natural) != mean Fruit_Wt(Hand)\n",
        "\n",
        "Extract data for Natural and Hand pollination\n",
        "\n",
        "```\n",
        "natural_fruit_wt = poll['Fruit_Wt'].loc[poll['Group']==\"Natural\"]\n",
        "hand_fruit_wt = poll['Fruit_Wt'].loc[poll['Group']==\"Hand\"]\n",
        "\n",
        "\n",
        "```\n",
        "<br/>\n",
        "</details>\n",
        "\n",
        "<br/>\n",
        "\n",
        "\n",
        "\n",
        "\n",
        "\n",
        "\n",
        "\n",
        "\n"
      ]
    },
    {
      "cell_type": "code",
      "metadata": {
        "id": "YiUeN9yZUWoc"
      },
      "source": [
        "#Add code"
      ],
      "execution_count": null,
      "outputs": []
    },
    {
      "cell_type": "markdown",
      "metadata": {
        "id": "wdxM0BBGOp2u"
      },
      "source": [
        "\n",
        "Do sample test\n",
        "<details><summary>Click here for answer</summary> \n",
        "<br/>\n",
        "\n",
        "```\n",
        "\n",
        "\n",
        "# Perfrom 2 sample t test independent\n",
        "eq_var = stats.ttest_ind(a= natural_fruit_wt ,\n",
        "                b= hand_fruit_wt )    # equal variance\n",
        "eq_var.statistic\n",
        "eq_var.pvalue\n",
        "```\n",
        "\n",
        "\n",
        "\n",
        "<br/>\n",
        "</details>\n",
        "\n",
        "<br/>\n"
      ]
    },
    {
      "cell_type": "code",
      "metadata": {
        "id": "6X-WLSp6OtEv"
      },
      "source": [
        "#Add code"
      ],
      "execution_count": null,
      "outputs": []
    },
    {
      "cell_type": "markdown",
      "metadata": {
        "id": "S0glLuupPb1J"
      },
      "source": [
        "Conclusion\n",
        "\n",
        "<br>\n",
        "<details><summary>Click here for answer</summary> \n",
        "<br/>\n",
        "\n",
        "* Since the all the test p-value is less than 0.025, we reject the null hypothesis. Therefore they are significant different in natural pollination and hand pollination .\n",
        "<br/>\n",
        "</details>"
      ]
    },
    {
      "cell_type": "markdown",
      "metadata": {
        "id": "RyBePdGx3mIq"
      },
      "source": [
        "## 4. Case 4\n",
        "An electronics firm is developing a new DVD player in response to customer requests. Using a prototype, the marketing team has collected focus data for different age groups viz. Under 25; 25-34; 35-44; 45-54; 55-64; 65 and above. Do you think that consumers of various ages rated the design differently? (Data set: dvdplayer.csv)<br>\n",
        "<br>\n",
        "*what type of hypothesis test to use?*<br>\n",
        "\n",
        "\n",
        "<details><summary>Click here for answer</summary> \n",
        "<br/>\n",
        "F-Test/Anova\n",
        "<br/>\n",
        "</details>\n",
        "<br/>\n",
        "\n"
      ]
    },
    {
      "cell_type": "markdown",
      "metadata": {
        "id": "xab4JuUoYjxs"
      },
      "source": [
        "###Load dataset \n",
        "\n",
        "<details><summary>Click here for answer</summary> \n",
        "<br/>\n",
        "\n",
        "upload the file dvdplayer.csv using the Upload to session storage\n",
        "\n",
        "\n",
        "\n",
        "```\n",
        "\n",
        "dvd = pd.read_csv('dvdplayer.csv')\n",
        "\n",
        "dvd.head()\n",
        "\n",
        "```\n",
        "<br/>\n",
        "</details>\n",
        "\n",
        "<br/>\n",
        "\n",
        "\n"
      ]
    },
    {
      "cell_type": "code",
      "metadata": {
        "id": "RHRTmYBEXxQ5"
      },
      "source": [
        "#Add code"
      ],
      "execution_count": null,
      "outputs": []
    },
    {
      "cell_type": "markdown",
      "metadata": {
        "id": "Ry3XOvq23mIq"
      },
      "source": [
        "### Identify Test Statistic\n",
        "\n",
        "H0  : mean  (age_group_1(65 and over)) == mean(age_group_2(55-64)) == mean(age_group3(Under 25)) == mean(age_group4(35-54)) == mean(age_group5(45-54)) == mean(age_group_6(25-34))\n",
        "                       (Consumers of various age groups rated the design similarly)\n",
        "                       \n",
        " Ha  : mean(age_group_1(65 and over)) != mean(age_group_2(55-64)) != mean(age_group3(Under 25))!= mean(age_group4(35-54)) != mean(age_group5(45-54)) != mean(age_group_6(25-34))\n",
        "                         \n",
        "(Consumers of various age groups rated the design differently)\n",
        "\n",
        "\n",
        "<br>\n",
        "Extract data for each group \n",
        "\n",
        "<details><summary>Click here for answer</summary> \n",
        "<br/>\n",
        "\n",
        "F-Test/Anova\n",
        "\n",
        "```\n",
        "\n",
        "age_group_1 = dvd['dvdscore'].loc[dvd['agegroup']==\"65 and over\"]\n",
        "age_group_2 = dvd['dvdscore'].loc[dvd['agegroup']==\"55-64\"]\n",
        "age_group_3 = dvd['dvdscore'].loc[dvd['agegroup']==\"Under 25\"]\n",
        "age_group_4 = dvd['dvdscore'].loc[dvd['agegroup']==\"35-44\"]\n",
        "age_group_5 = dvd['dvdscore'].loc[dvd['agegroup']==\"45-54\"]\n",
        "age_group_6 = dvd['dvdscore'].loc[dvd['agegroup']==\"25-34\"]\n",
        "\n",
        "```\n",
        "<br/>\n",
        "</details>\n",
        "\n",
        "<br/>\n",
        "\n",
        "\n",
        "\n"
      ]
    },
    {
      "cell_type": "code",
      "metadata": {
        "id": "MUi4XeQ6YAkX"
      },
      "source": [
        "#Add code"
      ],
      "execution_count": null,
      "outputs": []
    },
    {
      "cell_type": "markdown",
      "metadata": {
        "id": "lgkqV1wHYDnG"
      },
      "source": [
        "Do F-Test/Anova\n",
        "<br>\n",
        "https://docs.scipy.org/doc/scipy/reference/generated/scipy.stats.f_oneway.html<br>\n",
        "<br>\n",
        "\n",
        "<details><summary>Click here for answer</summary> \n",
        "<br/>\n",
        "\n",
        "\n",
        "```\n",
        "\n",
        "# Perfrom the Anova\n",
        "anova = stats.f_oneway(age_group_1,age_group_2,age_group_3,age_group_4,age_group_5,age_group_6)\n",
        "# Statistic :  F Value\n",
        "p = anova.pvalue\n",
        "print(\"The p value is {}\".format(p))\n",
        "if(p<0.025):\n",
        "    print('We reject null hypothesis')\n",
        "else:\n",
        "    print('We fail to reject null hypothesis')\n",
        "\n",
        "```\n",
        "\n",
        "<br/>\n",
        "</details>\n",
        "\n",
        "<br/>\n",
        "\n",
        "\n",
        "\n"
      ]
    },
    {
      "cell_type": "code",
      "metadata": {
        "id": "NssolWr2YMXV"
      },
      "source": [
        "#Add code"
      ],
      "execution_count": null,
      "outputs": []
    },
    {
      "cell_type": "markdown",
      "metadata": {
        "id": "D_uTsBWkXkPU"
      },
      "source": [
        "Conclusion<br>\n",
        "\n",
        "<details><summary>Click here for answer</summary> \n",
        "<br/>\n",
        "* Since the significance value of the test is less than 0.025, we reject the null hypothesis. Therefore,consumers of various ages rated the design differently\n",
        "<br/>\n",
        "</details>\n",
        "\n",
        "<br/>\n",
        "\n",
        "\n"
      ]
    },
    {
      "cell_type": "markdown",
      "metadata": {
        "id": "2cZucLncZMcJ"
      },
      "source": [
        "##5. Case 5 - Execrise\n",
        "A doctor is evaluating a new medicine for her patients with a high blood pressure. To test the effectiveness of this medicine,the blood pressure before the medicine and after medicine are recorded.\n"
      ]
    },
    {
      "cell_type": "markdown",
      "metadata": {
        "id": "LjTPGtnDZb8c"
      },
      "source": [
        "###Load dataset\n",
        "load the blood_pressure.csv\n",
        "\n",
        "\n",
        "<details><summary>Click here for answer</summary> \n",
        "<br/>\n",
        "\n",
        "upload the file blood_pressure.csv using the Upload to session storage\n",
        "\n",
        "```\n",
        "\n",
        "df = pd.read_csv('blood_pressure.csv')\n",
        "df.head()\n",
        "\n",
        "```\n",
        "\n",
        "<br/>\n",
        "</details>\n",
        "\n",
        "<br/>\n",
        "\n",
        "\n",
        "\n",
        "\n"
      ]
    },
    {
      "cell_type": "code",
      "metadata": {
        "id": "_Ckpaw7TakJL"
      },
      "source": [
        "#Add code"
      ],
      "execution_count": null,
      "outputs": []
    },
    {
      "cell_type": "markdown",
      "metadata": {
        "id": "tGiXIhV9asim"
      },
      "source": [
        "###Check the basic statistics for the data\n",
        "\n",
        "Check the blood pressure before the medicine and after medicine \n",
        "\n",
        "<details><summary>Click here for answer</summary> \n",
        "<br/>\n",
        "\n",
        "```\n",
        "\n",
        "print(df[['bp_before','bp_after']].describe())\n",
        "\n",
        "```\n",
        "<br/>\n",
        "</details>\n",
        "\n",
        "<br/>\n",
        "\n",
        "\n",
        "\n"
      ]
    },
    {
      "cell_type": "code",
      "metadata": {
        "id": "yGeh-iKjazwN"
      },
      "source": [
        "#Add code"
      ],
      "execution_count": null,
      "outputs": []
    },
    {
      "cell_type": "code",
      "metadata": {
        "id": "Il-gJrZUa083"
      },
      "source": [
        "print(df[['bp_before','bp_after']].describe())"
      ],
      "execution_count": null,
      "outputs": []
    },
    {
      "cell_type": "markdown",
      "metadata": {
        "id": "sI7s9CdXa_9B"
      },
      "source": [
        "### What type of hypothesis test to use?\n",
        "\n",
        "\n",
        "<details><summary>Click here for answer</summary> \n",
        "<br/>\n",
        "Paried Sample T Test\n",
        "\n",
        "H0 : bp_before == bp_after\n",
        "\n",
        "H1 : bp_before != bp_after\n",
        "<br>\n",
        "Use:\n",
        "import scipy.stats as stats\n",
        "stats.ttest_rel()\n",
        "\n",
        "https://docs.scipy.org/doc/scipy/reference/generated/scipy.stats.ttest_rel.html\n",
        "<br>\n",
        "\n",
        "<br/>\n",
        "</details>\n",
        "<br/>\n",
        "\n",
        "\n",
        "\n"
      ]
    },
    {
      "cell_type": "markdown",
      "source": [
        "###How to test using python code?"
      ],
      "metadata": {
        "id": "LOLszIGR6uel"
      }
    },
    {
      "cell_type": "markdown",
      "source": [
        "<details><summary>Click here for answer</summary> \n",
        "<br/>\n",
        "\n",
        "```\n",
        "\n",
        "#T Test need data not more than 30\n",
        "random_no=100\n",
        "df1 = df[(df[\"sex\"]==\"Female\") &  (df[\"agegrp\"]==\"30-45\")].sample(n=5, random_state=random_no)\n",
        "df2 = df[(df[\"sex\"]==\"Female\") &  (df[\"agegrp\"]==\"46-59\")].sample(n=5, random_state=random_no)\n",
        "df3 = df[(df[\"sex\"]==\"Female\") &  (df[\"agegrp\"]==\"60+\")].sample(n=5, random_state=random_no)\n",
        "df4 = df[(df[\"sex\"]==\"Male\") &  (df[\"agegrp\"]==\"30-45\")].sample(n=5, random_state=random_no)\n",
        "df5 = df[(df[\"sex\"]==\"Male\") &  (df[\"agegrp\"]==\"46-59\")].sample(n=5, random_state=random_no)\n",
        "df6 = df[(df[\"sex\"]==\"Male\") &  (df[\"agegrp\"]==\"60+\")].sample(n=5, random_state=random_no)\n",
        "\n",
        "dfall=pd.concat([df1, df2, df3, df4, df5, df6], ignore_index=True)\n",
        "dfall[['bp_before','bp_after']]\n",
        "\n",
        "bloodPressureResult = stats.ttest_rel(a=dfall['bp_before'],b=dfall['bp_after']) \n",
        "bloodPressureResult\n",
        "# a = bp_berfore\n",
        "# b = bp_after\n",
        "\n",
        "#pvalue < 0.025 ->reject null hypothesis\n",
        "#pvalue > 0.025 ->accept null hypothesis\n",
        "\n",
        "\n",
        "bp_before mean equal bp_after mean\n",
        "\n",
        "```\n",
        "\n",
        "<br/>\n",
        "</details>\n",
        "\n",
        "<br/>\n",
        "\n"
      ],
      "metadata": {
        "id": "7CaQMv1o7LQy"
      }
    },
    {
      "cell_type": "code",
      "metadata": {
        "id": "p3cweS7ebOWr"
      },
      "source": [
        "import numpy as np\n",
        "import pandas as pd\n",
        "import matplotlib.pyplot as plt\n",
        "import scipy.stats as stats\n",
        "%matplotlib inline\n",
        "#Add code"
      ],
      "execution_count": null,
      "outputs": []
    },
    {
      "cell_type": "markdown",
      "source": [
        "##6. Case 6 "
      ],
      "metadata": {
        "id": "jh-F4zVhOl1u"
      }
    },
    {
      "cell_type": "markdown",
      "source": [
        "Given the dataset for the rental bike day.csv\n",
        "\n",
        "We are interested to find the relationship between holiday and weathersit\n",
        "\n",
        "weathersit:\n",
        "\n",
        "1: Clear, Few clouds, Partly cloudy,\n",
        "\n",
        "2: Mist and Cloudy, Mist and Broken clouds, Mist and Few clouds, Mist\n",
        "\n",
        "3: Light Snow, Light Rain and Thunderstorm and Scattered clouds, Light Rain an dScattered clouds\n",
        "\n",
        "\n",
        "holiday: \n",
        "\n",
        "weather day is holiday or not \n",
        "\n",
        "\n",
        "What type of hypothesis test to use?\n",
        "\n",
        "\n",
        "<details><summary>Click here for answer</summary> \n",
        "<br/>\n",
        "Chi Square Test\n",
        "\n",
        "H0 : holiday and weathersit have correlation\n",
        "\n",
        "H1 : holiday and weathersit have no correlation\n",
        "<br>\n",
        "\n",
        "\n",
        "\n",
        "Use:\n",
        "from scipy.stats import chi2_contingency\n",
        "\n",
        "\n",
        "<br>\n",
        "\n",
        "<br/>\n",
        "</details>\n",
        "<br/>"
      ],
      "metadata": {
        "id": "IxDbtW-1Y9ZT"
      }
    },
    {
      "cell_type": "markdown",
      "source": [
        "Use pandas read_csv to load the day.csv dataset\n",
        "\n",
        "<details><summary>Click here for answer</summary> \n",
        "<br/>\n",
        "BIKE = pandas.read_csv(\"day.csv\",header=0)\n",
        "\n",
        "BIKE.head(10)\n",
        "<br>\n",
        "\n",
        "<br/>\n",
        "</details>\n",
        "<br/>"
      ],
      "metadata": {
        "id": "kAZV7uAgbOLm"
      }
    },
    {
      "cell_type": "code",
      "source": [
        "import os\n",
        "import pd\n",
        "#Add code"
      ],
      "metadata": {
        "id": "weM8ZdT9gIV5"
      },
      "execution_count": null,
      "outputs": []
    },
    {
      "cell_type": "markdown",
      "source": [
        "\n",
        "Form a cross table between weathersit and holiday\n",
        "\n",
        "![crostab_daycsv.PNG](data:image/png;base64,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)\n",
        "\n",
        "<details><summary>Click here for answer</summary> \n",
        "<br/>\n",
        "chisqt = pd.crosstab(BIKE.holiday, BIKE.weathersit, margins=True)\n",
        "print(chisqt)\n",
        "<br/>\n",
        "</details>\n",
        "<br/>\n",
        "\n"
      ],
      "metadata": {
        "id": "5NstyZYqggmN"
      }
    },
    {
      "cell_type": "code",
      "source": [
        "#Add code"
      ],
      "metadata": {
        "id": "kPWj-C_Ni4gx"
      },
      "execution_count": null,
      "outputs": []
    },
    {
      "cell_type": "markdown",
      "source": [
        "Use chi square contingency to test the hypthesis\n",
        "\n",
        "<details><summary>Click here for answer</summary> \n",
        "<br/>\n",
        "\n",
        "value = np.array([chisqt.iloc[0][0:5].values,\n",
        "                  chisqt.iloc[1][0:5].values])\n",
        "\n",
        "print(chi2_contingency(value)[0:3])\n",
        "\n",
        "(1.0187958822970438, 0.796704036292652, 3)\n",
        "\n",
        "From above, 0.79 is the p-value, 1.02 is the statistical value and 3 is the degree of freedom. As the p-value is greater than 0.05, we accept the NULL hypothesis and assume that the variables ‘holiday’ and ‘weathersit’ are dependent of each other.\n",
        "<br/>\n",
        "</details>\n",
        "<br/>"
      ],
      "metadata": {
        "id": "Oth1F9JYi-Ke"
      }
    },
    {
      "cell_type": "code",
      "source": [
        "from scipy.stats import chi2_contingency \n",
        "import numpy as np\n",
        "#Add code"
      ],
      "metadata": {
        "id": "WpbHWXPJj1SL"
      },
      "execution_count": null,
      "outputs": []
    },
    {
      "cell_type": "markdown",
      "source": [
        "##7. Case 7 - Execrise "
      ],
      "metadata": {
        "id": "ihNP95RtkWAy"
      }
    },
    {
      "cell_type": "markdown",
      "source": [
        "Use the fortune500.csv test the hypothesis for the mean Revenue (in millions) with various sample size of 50, 100, 500 "
      ],
      "metadata": {
        "id": "wGZMw99Wle4y"
      }
    },
    {
      "cell_type": "markdown",
      "source": [
        "Read the fortune500 csv file and select the column Revenue (in millions)\n",
        "<details><summary>Click here for answer</summary> \n",
        "<br/>\n",
        "\n",
        "```\n",
        "\n",
        "df = pd.read_csv('fortune500.csv')\n",
        "\n",
        "df[\"Revenue (in millions)\"]\n",
        "\n",
        "```\n",
        "<br/>\n",
        "</details>\n",
        "\n",
        "<br/>\n"
      ],
      "metadata": {
        "id": "zc6tbGjqmduw"
      }
    },
    {
      "cell_type": "code",
      "source": [
        "#Add code"
      ],
      "metadata": {
        "id": "UAhdRRtWnDoo"
      },
      "execution_count": null,
      "outputs": []
    },
    {
      "cell_type": "markdown",
      "source": [
        "What is the type hypthesis use for the test?\n",
        "\n",
        "\n",
        "<details><summary>Click here for answer</summary> \n",
        "<br/>\n",
        "Since sample size is large than 30  use the Z Test\n",
        "\n",
        "H0 : Population Revenue mean == Sample Reveue mean\n",
        "\n",
        "H1 : Population Revenue mean != Sample Reveue mean\n",
        "\n",
        "https://www.statsmodels.org/stable/generated/statsmodels.stats.weightstats.ztest.html\n",
        "\n",
        "\n",
        "\n",
        "<br/>\n",
        "</details>\n",
        "\n",
        "<br/>"
      ],
      "metadata": {
        "id": "7Jcvl_04njeM"
      }
    },
    {
      "cell_type": "markdown",
      "source": [
        "Use python code to test the hypothesis\n",
        "\n",
        "<details><summary>Click here for answer</summary> \n",
        "<br/>\n",
        "\n",
        "```\n",
        "\n",
        "from statsmodels.stats.weightstats import ztest as ztest\n",
        "\n",
        "population_mean =df[\"Revenue (in millions)\"].mean() \n",
        "print(population_mean)\n",
        "\n",
        "\n",
        "sample_size=50\n",
        "sample_data= df[\"Revenue (in millions)\"].sample(n=sample_size, random_state=100)\n",
        "#perform one sample z-test\n",
        "pvalue=ztest(sample_data, value=population_mean)[1]\n",
        "print(pvalue)\n",
        "pvalue < 0.025\n",
        "\n",
        "sample_size=100\n",
        "sample_data= df[\"Revenue (in millions)\"].sample(n=sample_size, random_state=100)\n",
        "#perform one sample z-test\n",
        "pvalue=ztest(sample_data, value=population_mean)[1]\n",
        "print(pvalue)\n",
        "pvalue < 0.025\n",
        "\n",
        "sample_size=500\n",
        "sample_data= df[\"Revenue (in millions)\"].sample(n=sample_size, random_state=100)\n",
        "#perform one sample z-test\n",
        "pvalue=ztest(sample_data, value=population_mean)[1]\n",
        "print(pvalue)\n",
        "pvalue < 0.025\n",
        "\n",
        "```\n",
        "\n",
        "<br/>\n",
        "</details>\n",
        "\n",
        "<br/>"
      ],
      "metadata": {
        "id": "nYbngY-xqH8p"
      }
    },
    {
      "cell_type": "code",
      "source": [
        "#Add code"
      ],
      "metadata": {
        "id": "tvmygqln4dBk"
      },
      "execution_count": null,
      "outputs": []
    }
  ]
}